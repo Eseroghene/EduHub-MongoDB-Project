{
 "cells": [
  {
   "cell_type": "code",
   "execution_count": 1,
   "id": "6df21402",
   "metadata": {},
   "outputs": [],
   "source": [
    "import pandas as pd\n",
    "from datetime import datetime, timedelta\n",
    "from pymongo import MongoClient\n",
    "\n",
    "# Connect to MongoDB\n",
    "client = MongoClient('mongodb://localhost:27017/')\n",
    "db = client['eduhub_db']\n"
   ]
  },
  {
   "cell_type": "markdown",
   "id": "ac8be7f5",
   "metadata": {},
   "source": [
    "### Defining a Function for Course Content Search"
   ]
  },
  {
   "cell_type": "markdown",
   "id": "dfc973e0",
   "metadata": {},
   "source": [
    "### Creating the Text Index for the Search Course Content "
   ]
  },
  {
   "cell_type": "code",
   "execution_count": null,
   "id": "ff40801e",
   "metadata": {},
   "outputs": [
    {
     "name": "stdout",
     "output_type": "stream",
     "text": [
      "Text index created successfully on title, description, category, tags, and level.\n"
     ]
    }
   ],
   "source": [
    "# Creating the Text Index for the Search Course Content\n",
    "db.courses.create_index([\n",
    "    (\"title\", \"text\"),\n",
    "    (\"description\", \"text\"),\n",
    "    (\"category\", \"text\"),\n",
    "    (\"tags\", \"text\"),\n",
    "    (\"level\", \"text\")\n",
    "])\n",
    "\n",
    "print(\"Text index created successfully on title, description, category, tags, and level.\")"
   ]
  },
  {
   "cell_type": "markdown",
   "id": "7ed02a8d",
   "metadata": {},
   "source": [
    "### Function for Course Content Search "
   ]
  },
  {
   "cell_type": "code",
   "execution_count": 34,
   "id": "f9da37f8",
   "metadata": {},
   "outputs": [],
   "source": [
    "# Defining Function for a Course Content search\n",
    "def search_courses(search_term):\n",
    "\n",
    "    try:\n",
    "        # Search across all text-indexed fields\n",
    "        results = list(db.courses.find({\"$text\": {\"$search\": search_term}}))\n",
    "        print(f\"Found {len(results)} courses matching '{search_term}'\")\n",
    "        return results\n",
    "    except Exception as e:\n",
    "        print(\"Error searching courses:\", e)\n",
    "        return []\n"
   ]
  },
  {
   "cell_type": "code",
   "execution_count": null,
   "id": "2b079bfa",
   "metadata": {},
   "outputs": [
    {
     "name": "stdout",
     "output_type": "stream",
     "text": [
      "Found 3 courses matching 'Python'\n"
     ]
    },
    {
     "data": {
      "text/html": [
       "<div>\n",
       "<style scoped>\n",
       "    .dataframe tbody tr th:only-of-type {\n",
       "        vertical-align: middle;\n",
       "    }\n",
       "\n",
       "    .dataframe tbody tr th {\n",
       "        vertical-align: top;\n",
       "    }\n",
       "\n",
       "    .dataframe thead th {\n",
       "        text-align: right;\n",
       "    }\n",
       "</style>\n",
       "<table border=\"1\" class=\"dataframe\">\n",
       "  <thead>\n",
       "    <tr style=\"text-align: right;\">\n",
       "      <th></th>\n",
       "      <th>title</th>\n",
       "      <th>description</th>\n",
       "      <th>category</th>\n",
       "      <th>level</th>\n",
       "      <th>tags</th>\n",
       "    </tr>\n",
       "  </thead>\n",
       "  <tbody>\n",
       "    <tr>\n",
       "      <th>0</th>\n",
       "      <td>Introduction to Data Science</td>\n",
       "      <td>Master Python libraries such as Pandas, NumPy,...</td>\n",
       "      <td>Data Science</td>\n",
       "      <td>beginner</td>\n",
       "      <td>data, python, analytics</td>\n",
       "    </tr>\n",
       "    <tr>\n",
       "      <th>1</th>\n",
       "      <td>DevOps Fundamentals</td>\n",
       "      <td>Understand cloud architecture and work hands-o...</td>\n",
       "      <td>Cloud Computing</td>\n",
       "      <td>advanced</td>\n",
       "      <td>cloud, aws, infrastructure, AI, Data Science, ...</td>\n",
       "    </tr>\n",
       "    <tr>\n",
       "      <th>2</th>\n",
       "      <td>Python for Data Analysis</td>\n",
       "      <td>Learn the fundamentals of data science, from c...</td>\n",
       "      <td>Data Science</td>\n",
       "      <td>advanced</td>\n",
       "      <td>machinelearning, ai, statistics</td>\n",
       "    </tr>\n",
       "  </tbody>\n",
       "</table>\n",
       "</div>"
      ],
      "text/plain": [
       "                          title  \\\n",
       "0  Introduction to Data Science   \n",
       "1           DevOps Fundamentals   \n",
       "2      Python for Data Analysis   \n",
       "\n",
       "                                         description         category  \\\n",
       "0  Master Python libraries such as Pandas, NumPy,...     Data Science   \n",
       "1  Understand cloud architecture and work hands-o...  Cloud Computing   \n",
       "2  Learn the fundamentals of data science, from c...     Data Science   \n",
       "\n",
       "      level                                               tags  \n",
       "0  beginner                            data, python, analytics  \n",
       "1  advanced  cloud, aws, infrastructure, AI, Data Science, ...  \n",
       "2  advanced                    machinelearning, ai, statistics  "
      ]
     },
     "execution_count": 33,
     "metadata": {},
     "output_type": "execute_result"
    }
   ],
   "source": [
    "# Example usage: get matching courses\n",
    "matching_courses = search_courses(\"Python\")\n",
    "\n",
    "# Convert to DataFrame\n",
    "df_matching_courses = pd.DataFrame(matching_courses)\n",
    "\n",
    "# Join tags into a single string for display\n",
    "df_matching_courses['tags'] = df_matching_courses['tags'].apply(lambda x: \", \".join(x) if x else \"No tags\")\n",
    "\n",
    "# Reorder columns\n",
    "df_matching_courses = df_matching_courses[['title', 'description', 'category', 'level', 'tags']]\n",
    "\n",
    "# Display the DataFrame\n",
    "df_matching_courses"
   ]
  },
  {
   "cell_type": "markdown",
   "id": "caf21aa6",
   "metadata": {},
   "source": [
    "### Function for Recommendation System"
   ]
  },
  {
   "cell_type": "code",
   "execution_count": 28,
   "id": "9862d97c",
   "metadata": {},
   "outputs": [],
   "source": [
    "def top_courses_recommendation(limit=5):\n",
    "    \n",
    "    try:\n",
    "        # Aggregate enrollments to find top courses\n",
    "        pipeline = [\n",
    "            {\"$group\": {\"_id\": \"$courseId\", \"totalEnrollments\": {\"$sum\": 1}}},\n",
    "            {\"$sort\": {\"totalEnrollments\": -1}},\n",
    "            {\"$limit\": limit}\n",
    "        ]\n",
    "        recommended_courses = db.enrollments.aggregate(pipeline)\n",
    "\n",
    "        results = []\n",
    "        for course in recommended_courses:\n",
    "            course_info = db.courses.find_one({\"courseId\": course[\"_id\"]})\n",
    "            if course_info:\n",
    "                results.append({\n",
    "                    \"Title\": course_info.get(\"title\", \"No title\"),\n",
    "                    \"Category\": course_info.get(\"category\", \"No category\"),\n",
    "                    \"Level\": course_info.get(\"level\", \"No level\"),\n",
    "                    \"Tags\": course_info.get(\"tags\", []),\n",
    "                    \"TotalEnrollments\": course[\"totalEnrollments\"]\n",
    "                })\n",
    "\n",
    "        return results\n",
    "\n",
    "    except Exception as e:\n",
    "        print(\"Error generating recommendations:\", e)\n",
    "        return []\n"
   ]
  },
  {
   "cell_type": "markdown",
   "id": "71fb0ca3",
   "metadata": {},
   "source": [
    "### Example of Recommendation System"
   ]
  },
  {
   "cell_type": "code",
   "execution_count": null,
   "id": "da07a048",
   "metadata": {},
   "outputs": [
    {
     "data": {
      "text/html": [
       "<div>\n",
       "<style scoped>\n",
       "    .dataframe tbody tr th:only-of-type {\n",
       "        vertical-align: middle;\n",
       "    }\n",
       "\n",
       "    .dataframe tbody tr th {\n",
       "        vertical-align: top;\n",
       "    }\n",
       "\n",
       "    .dataframe thead th {\n",
       "        text-align: right;\n",
       "    }\n",
       "</style>\n",
       "<table border=\"1\" class=\"dataframe\">\n",
       "  <thead>\n",
       "    <tr style=\"text-align: right;\">\n",
       "      <th></th>\n",
       "      <th>Title</th>\n",
       "      <th>Category</th>\n",
       "      <th>Level</th>\n",
       "      <th>Tags</th>\n",
       "      <th>TotalEnrollments</th>\n",
       "    </tr>\n",
       "  </thead>\n",
       "  <tbody>\n",
       "    <tr>\n",
       "      <th>0</th>\n",
       "      <td>Introduction to Data Science</td>\n",
       "      <td>Data Science</td>\n",
       "      <td>beginner</td>\n",
       "      <td>data, python, analytics</td>\n",
       "      <td>6</td>\n",
       "    </tr>\n",
       "    <tr>\n",
       "      <th>1</th>\n",
       "      <td>Serverless Applications on Cloud</td>\n",
       "      <td>Cloud Computing</td>\n",
       "      <td>beginner</td>\n",
       "      <td>devops, automation, ci/cd</td>\n",
       "      <td>2</td>\n",
       "    </tr>\n",
       "    <tr>\n",
       "      <th>2</th>\n",
       "      <td>Full-Stack Web Development</td>\n",
       "      <td>Web Development</td>\n",
       "      <td>intermediate</td>\n",
       "      <td>react, javascript, frontend</td>\n",
       "      <td>2</td>\n",
       "    </tr>\n",
       "    <tr>\n",
       "      <th>3</th>\n",
       "      <td>Python for Data Analysis</td>\n",
       "      <td>Data Science</td>\n",
       "      <td>advanced</td>\n",
       "      <td>machinelearning, ai, statistics</td>\n",
       "      <td>2</td>\n",
       "    </tr>\n",
       "    <tr>\n",
       "      <th>4</th>\n",
       "      <td>Frontend Development with React</td>\n",
       "      <td>Web Development</td>\n",
       "      <td>beginner</td>\n",
       "      <td>nodejs, express, backend</td>\n",
       "      <td>1</td>\n",
       "    </tr>\n",
       "  </tbody>\n",
       "</table>\n",
       "</div>"
      ],
      "text/plain": [
       "                              Title         Category         Level  \\\n",
       "0      Introduction to Data Science     Data Science      beginner   \n",
       "1  Serverless Applications on Cloud  Cloud Computing      beginner   \n",
       "2        Full-Stack Web Development  Web Development  intermediate   \n",
       "3          Python for Data Analysis     Data Science      advanced   \n",
       "4   Frontend Development with React  Web Development      beginner   \n",
       "\n",
       "                              Tags  TotalEnrollments  \n",
       "0          data, python, analytics                 6  \n",
       "1        devops, automation, ci/cd                 2  \n",
       "2      react, javascript, frontend                 2  \n",
       "3  machinelearning, ai, statistics                 2  \n",
       "4         nodejs, express, backend                 1  "
      ]
     },
     "execution_count": 30,
     "metadata": {},
     "output_type": "execute_result"
    }
   ],
   "source": [
    "# Get top courses\n",
    "top_courses = top_courses_recommendation(limit=5)\n",
    "\n",
    "# Convert to DataFrame\n",
    "df_top_courses = pd.DataFrame(top_courses)\n",
    "\n",
    "# If you want, join tags into a single string for display\n",
    "df_top_courses['Tags'] = df_top_courses['Tags'].apply(lambda x: \", \".join(x) if x else \"No tags\")\n",
    "\n",
    "#Display only selected columns in a specific order\n",
    "df_top_courses = df_top_courses[['Title', 'Category', 'Level', 'Tags', 'TotalEnrollments']]\n",
    "df_top_courses"
   ]
  },
  {
   "cell_type": "markdown",
   "id": "74b5141c",
   "metadata": {},
   "source": [
    "### Function for Data Archiving Strategy for Old Enrollments"
   ]
  },
  {
   "cell_type": "code",
   "execution_count": null,
   "id": "e3ccc3a6",
   "metadata": {},
   "outputs": [
    {
     "name": "stdout",
     "output_type": "stream",
     "text": [
      "No enrollments to archive.\n"
     ]
    }
   ],
   "source": [
    "# Defining function for Archiving Old Enrollment\n",
    "def archive_old_enrollments(days_old=365):\n",
    "    \n",
    "    archive_date = datetime.now() - timedelta(days=days_old)\n",
    "    \n",
    "    try:\n",
    "        # Find old enrollments\n",
    "        old_enrollments = list(db.enrollments.find({\"enrolledAt\": {\"$lt\": archive_date}}))\n",
    "\n",
    "        if not old_enrollments:\n",
    "            print(\"No enrollments to archive.\")\n",
    "            return 0\n",
    "\n",
    "        # Insert into archive collection\n",
    "        db.enrollments_archive.insert_many(old_enrollments)\n",
    "\n",
    "        # Delete from main collection\n",
    "        db.enrollments.delete_many({\"enrolledAt\": {\"$lt\": archive_date}})\n",
    "\n",
    "        print(f\"Archived {len(old_enrollments)} enrollments older than {days_old} days.\")\n",
    "        return len(old_enrollments)\n",
    "    \n",
    "    except Exception as e:\n",
    "        print(\"Error archiving enrollments:\", e)\n",
    "        return 0\n",
    "\n",
    "# Example usage\n",
    "archived_count = archive_old_enrollments(days_old=365)"
   ]
  },
  {
   "cell_type": "code",
   "execution_count": null,
   "id": "d3c92fd3",
   "metadata": {},
   "outputs": [],
   "source": []
  }
 ],
 "metadata": {
  "kernelspec": {
   "display_name": "venv",
   "language": "python",
   "name": "python3"
  },
  "language_info": {
   "codemirror_mode": {
    "name": "ipython",
    "version": 3
   },
   "file_extension": ".py",
   "mimetype": "text/x-python",
   "name": "python",
   "nbconvert_exporter": "python",
   "pygments_lexer": "ipython3",
   "version": "3.12.4"
  }
 },
 "nbformat": 4,
 "nbformat_minor": 5
}
