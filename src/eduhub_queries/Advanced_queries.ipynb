{
 "cells": [
  {
   "cell_type": "markdown",
   "id": "f624c10d",
   "metadata": {},
   "source": [
    "# ADVANCED QUERIES AND AGGREGATION"
   ]
  },
  {
   "cell_type": "code",
   "execution_count": 1,
   "id": "1d241c5c",
   "metadata": {},
   "outputs": [],
   "source": [
    "import pandas as pd\n",
    "from datetime import datetime, timedelta\n",
    "from pymongo import MongoClient\n",
    "\n",
    "# Connect to MongoDB\n",
    "client = MongoClient('mongodb://localhost:27017/')\n",
    "db = client['eduhub_db']\n"
   ]
  },
  {
   "cell_type": "code",
   "execution_count": 2,
   "id": "fec46fe9",
   "metadata": {},
   "outputs": [
    {
     "name": "stdout",
     "output_type": "stream",
     "text": [
      "Collections in eduhub:\n",
      "['assignments', 'enrollments', 'submissions', 'users', 'lessons', 'courses']\n"
     ]
    }
   ],
   "source": [
    "print(\"Collections in eduhub:\")\n",
    "print(db.list_collection_names())"
   ]
  },
  {
   "cell_type": "markdown",
   "id": "ae97dcfa",
   "metadata": {},
   "source": [
    "## COMPLEX QUERIES"
   ]
  },
  {
   "cell_type": "markdown",
   "id": "03417e9d",
   "metadata": {},
   "source": [
    "### Courses with Price between $50 & $200"
   ]
  },
  {
   "cell_type": "code",
   "execution_count": 3,
   "id": "0d8ca412",
   "metadata": {},
   "outputs": [
    {
     "name": "stdout",
     "output_type": "stream",
     "text": [
      "Courses priced between $50 and $200:\n",
      "{'courseId': 'CRS001', 'title': 'Cloud Computing with AWS', 'price': 156.47}\n",
      "{'courseId': 'CRS003', 'title': 'Frontend Development with React', 'price': 195.84}\n",
      "{'courseId': 'CRS004', 'title': 'Full-Stack Web Development', 'price': 93.67}\n",
      "{'courseId': 'CRS006', 'title': 'Serverless Applications on Cloud', 'price': 142.25}\n",
      "{'courseId': 'CRS007', 'title': 'Python for Data Analysis', 'price': 68.43}\n",
      "{'courseId': 'CRS008', 'title': 'Frontend Development with React', 'price': 183.76}\n",
      "{'courseId': 'CRS012', 'title': 'Data Visualization with Power BI', 'price': 99.99}\n"
     ]
    }
   ],
   "source": [
    "# Finding Courses with price btw $50 & &200\n",
    "try:\n",
    "    courses_in_price_range = db.courses.find(\n",
    "        {\"price\": {\"$gte\": 50, \"$lte\": 200}},\n",
    "        {\"_id\": 0, \"courseId\": 1, \"title\": 1, \"price\": 1}\n",
    "    )\n",
    "    print(\"Courses priced between $50 and $200:\")\n",
    "    for course in courses_in_price_range:\n",
    "        print(course)\n",
    "\n",
    "except Exception as e:\n",
    "    print(f\"An error occurred while fetching courses by price: {e}\")"
   ]
  },
  {
   "cell_type": "markdown",
   "id": "e6339917",
   "metadata": {},
   "source": [
    "### Users Who Joined In the Last 6 Month"
   ]
  },
  {
   "cell_type": "code",
   "execution_count": 4,
   "id": "85fb2140",
   "metadata": {},
   "outputs": [
    {
     "name": "stdout",
     "output_type": "stream",
     "text": [
      "\n",
      "Users who joined in the last 6 months:\n",
      "{'userId': 'STU002', 'firstName': 'Carrie', 'lastName': 'Williams', 'dateJoined': datetime.datetime(2025, 5, 10, 9, 13, 33, 974000)}\n",
      "{'userId': 'STU004', 'firstName': 'Shane', 'lastName': 'Scott', 'dateJoined': datetime.datetime(2025, 6, 29, 23, 1, 46, 176000)}\n",
      "{'userId': 'STU005', 'firstName': 'Elaine', 'lastName': 'Maldonado', 'dateJoined': datetime.datetime(2025, 9, 10, 8, 11, 11, 77000)}\n",
      "{'userId': 'STU006', 'firstName': 'Mackenzie', 'lastName': 'Richardson', 'dateJoined': datetime.datetime(2025, 9, 6, 22, 5, 43, 652000)}\n",
      "{'userId': 'STU007', 'firstName': 'Vickie', 'lastName': 'Wiley', 'dateJoined': datetime.datetime(2025, 4, 8, 22, 5, 43, 88000)}\n",
      "{'userId': 'STU008', 'firstName': 'Amy', 'lastName': 'Alvarez', 'dateJoined': datetime.datetime(2025, 7, 10, 3, 2, 41, 773000)}\n",
      "{'userId': 'STU010', 'firstName': 'Robin', 'lastName': 'Barnett', 'dateJoined': datetime.datetime(2025, 5, 16, 16, 14, 55, 319000)}\n",
      "{'userId': 'STU015', 'firstName': 'Michael', 'lastName': 'Haney', 'dateJoined': datetime.datetime(2025, 4, 21, 17, 38, 49, 998000)}\n",
      "{'userId': 'STU020', 'firstName': 'Ada', 'lastName': 'Eze', 'dateJoined': datetime.datetime(2025, 10, 2, 3, 52, 18, 367000)}\n"
     ]
    }
   ],
   "source": [
    "# Finding users who join in thelast 6 month \n",
    "try:\n",
    "    six_months_ago = datetime.now() - timedelta(days=6*30)  # approximate 6 months\n",
    "    recent_users = db.users.find(\n",
    "        {\"dateJoined\": {\"$gte\": six_months_ago}},\n",
    "        {\"_id\": 0, \"userId\": 1, \"firstName\": 1, \"lastName\": 1, \"dateJoined\": 1}\n",
    "    )\n",
    "    print(\"\\nUsers who joined in the last 6 months:\")\n",
    "    for user in recent_users:\n",
    "        print(user)\n",
    "\n",
    "except Exception as e:\n",
    "    print(f\"An error occurred while fetching recent users: {e}\")"
   ]
  },
  {
   "cell_type": "markdown",
   "id": "18af107b",
   "metadata": {},
   "source": [
    "### Courses With Specific Tags"
   ]
  },
  {
   "cell_type": "code",
   "execution_count": 5,
   "id": "c4b64d64",
   "metadata": {},
   "outputs": [
    {
     "name": "stdout",
     "output_type": "stream",
     "text": [
      "\n",
      "Courses with specific tags:\n",
      "{'courseId': 'CRS005', 'title': 'DevOps Fundamentals', 'tags': ['cloud', 'aws', 'infrastructure', 'AI', 'Data Science', 'Python']}\n"
     ]
    }
   ],
   "source": [
    "# Finding Courses that Have Specific Tags using $in Operator\n",
    "try:\n",
    "    tags_to_find = [\"Python\", \"Data Science\", \"AI\"]\n",
    "    courses_with_tags = db.courses.find(\n",
    "        {\"tags\": {\"$in\": tags_to_find}},\n",
    "        {\"_id\": 0, \"courseId\": 1, \"title\": 1, \"tags\": 1}\n",
    "    )\n",
    "    print(\"\\nCourses with specific tags:\")\n",
    "    for course in courses_with_tags:\n",
    "        print(course)\n",
    "\n",
    "except Exception as e:\n",
    "    print(f\"An error occurred while fetching courses with tags: {e}\")"
   ]
  },
  {
   "cell_type": "markdown",
   "id": "24b457b5",
   "metadata": {},
   "source": [
    "### Assignments Due Next Week"
   ]
  },
  {
   "cell_type": "code",
   "execution_count": 6,
   "id": "d1727432",
   "metadata": {},
   "outputs": [
    {
     "name": "stdout",
     "output_type": "stream",
     "text": [
      "\n",
      "Assignments due in the next week:\n",
      "{'assignmentId': 'ASM006', 'title': 'Assignment 6', 'dueDate': datetime.datetime(2025, 10, 8, 3, 51, 48, 504000)}\n",
      "{'assignmentId': 'ASM007', 'title': 'Assignment 7', 'dueDate': datetime.datetime(2025, 10, 9, 3, 51, 48, 504000)}\n",
      "{'assignmentId': 'ASM010', 'title': 'Assignment 10', 'dueDate': datetime.datetime(2025, 10, 8, 3, 51, 48, 504000)}\n"
     ]
    }
   ],
   "source": [
    "# Finding Assignmenst due next week\n",
    "try:\n",
    "    one_week_from_now = datetime.now() + timedelta(days=7)\n",
    "    upcoming_assignments = db.assignments.find(\n",
    "        {\"dueDate\": {\"$lte\": one_week_from_now, \"$gte\": datetime.now()}},\n",
    "        {\"_id\": 0, \"assignmentId\": 1, \"title\": 1, \"dueDate\": 1}\n",
    "    )\n",
    "    print(\"\\nAssignments due in the next week:\")\n",
    "    for assignment in upcoming_assignments:\n",
    "        print(assignment)\n",
    "\n",
    "except Exception as e:\n",
    "    print(f\"An error occurred while fetching upcoming assignments: {e}\")"
   ]
  },
  {
   "cell_type": "markdown",
   "id": "a4c685b2",
   "metadata": {},
   "source": [
    "## AGGREGATION PIPELINE"
   ]
  },
  {
   "cell_type": "markdown",
   "id": "c3575165",
   "metadata": {},
   "source": [
    "### COURSE ENROLLMENT STATISTICS"
   ]
  },
  {
   "cell_type": "markdown",
   "id": "2c647918",
   "metadata": {},
   "source": [
    "### a) Total Enrollment Per Course"
   ]
  },
  {
   "cell_type": "code",
   "execution_count": 7,
   "id": "7f487eaa",
   "metadata": {},
   "outputs": [
    {
     "name": "stdout",
     "output_type": "stream",
     "text": [
      "Total enrollments per course:\n",
      "{'_id': 'CRS002', 'totalEnrollments': 6}\n",
      "{'_id': 'CRS006', 'totalEnrollments': 2}\n",
      "{'_id': 'CRS004', 'totalEnrollments': 2}\n",
      "{'_id': 'CRS007', 'totalEnrollments': 2}\n",
      "{'_id': 'CRS008', 'totalEnrollments': 1}\n",
      "{'_id': 'CRS009', 'totalEnrollments': 1}\n",
      "{'_id': 'CRS003', 'totalEnrollments': 1}\n"
     ]
    }
   ],
   "source": [
    "# Counting total enrollments per course\n",
    "try:\n",
    "    enrollments_per_course = db.enrollments.aggregate([\n",
    "        {\n",
    "            \"$group\": {\n",
    "                \"_id\": \"$courseId\",\n",
    "                \"totalEnrollments\": {\"$sum\": 1}\n",
    "            }\n",
    "        },\n",
    "        {\"$sort\": {\"totalEnrollments\": -1}}  # sort by most enrollments\n",
    "    ])\n",
    "\n",
    "    print(\"Total enrollments per course:\")\n",
    "    for item in enrollments_per_course:\n",
    "        print(item)\n",
    "\n",
    "except Exception as e:\n",
    "    print(f\"Error fetching enrollments per course: {e}\")"
   ]
  },
  {
   "cell_type": "markdown",
   "id": "d936eedc",
   "metadata": {},
   "source": [
    "### b) Average Course Rating"
   ]
  },
  {
   "cell_type": "code",
   "execution_count": 8,
   "id": "58da645e",
   "metadata": {},
   "outputs": [
    {
     "name": "stdout",
     "output_type": "stream",
     "text": [
      "Average course rating:\n",
      "{'_id': 'CRS004', 'averageRating': 100.0}\n",
      "{'_id': 'CRS005', 'averageRating': 98.0}\n",
      "{'_id': 'CRS008', 'averageRating': 92.0}\n",
      "{'_id': 'CRS002', 'averageRating': 76.0}\n",
      "{'_id': 'CRS007', 'averageRating': 67.66666666666667}\n",
      "{'_id': 'CRS001', 'averageRating': 60.0}\n",
      "{'_id': 'CRS006', 'averageRating': None}\n"
     ]
    }
   ],
   "source": [
    "#  Calculating average course rating\n",
    "try:\n",
    "    avg_course_rating = db.submissions.aggregate([\n",
    "        {\n",
    "            \"$group\": {\n",
    "                \"_id\": \"$courseId\",\n",
    "                \"averageRating\": {\"$avg\": \"$grade\"}\n",
    "            }\n",
    "        },\n",
    "        {\"$sort\": {\"averageRating\": -1}}  # sort by highest average rating\n",
    "    ])\n",
    "\n",
    "    print(\"Average course rating:\")\n",
    "    for item in avg_course_rating:\n",
    "        print(item)\n",
    "\n",
    "except Exception as e:\n",
    "    print(f\"Error fetching average course rating: {e}\")"
   ]
  },
  {
   "cell_type": "markdown",
   "id": "ef56c3b4",
   "metadata": {},
   "source": [
    "### c)  Group by Course Category "
   ]
  },
  {
   "cell_type": "code",
   "execution_count": 9,
   "id": "5eef6f29",
   "metadata": {},
   "outputs": [
    {
     "name": "stdout",
     "output_type": "stream",
     "text": [
      "Average rating by category:\n",
      "{'_id': 'Cloud Computing', 'averageRating': 79.0, 'totalCourses': 3}\n",
      "{'_id': 'Data Science', 'averageRating': 69.75, 'totalCourses': 7}\n",
      "{'_id': 'Web Development', 'averageRating': 96.0, 'totalCourses': 2}\n"
     ]
    }
   ],
   "source": [
    "#  Group by course category (average rating per category)\n",
    "try:\n",
    "    avg_rating_by_category = db.courses.aggregate([\n",
    "        {\n",
    "            \"$lookup\": {\n",
    "                \"from\": \"submissions\",\n",
    "                \"localField\": \"courseId\",\n",
    "                \"foreignField\": \"courseId\",\n",
    "                \"as\": \"grades\"\n",
    "            }\n",
    "        },\n",
    "        {\n",
    "            \"$unwind\": \"$grades\"\n",
    "        },\n",
    "        {\n",
    "            \"$group\": {\n",
    "                \"_id\": \"$category\",\n",
    "                \"averageRating\": {\"$avg\": \"$grades.grade\"},\n",
    "                \"totalCourses\": {\"$sum\": 1}\n",
    "            }\n",
    "        }\n",
    "    ])\n",
    "    print(\"Average rating by category:\")\n",
    "    for item in avg_rating_by_category:\n",
    "        print(item)\n",
    "except Exception as e:\n",
    "    print(f\"Error fetching rating by category: {e}\")"
   ]
  },
  {
   "cell_type": "markdown",
   "id": "9922688c",
   "metadata": {},
   "source": [
    "### STUDENT PERFORMANCE ANALYSIS"
   ]
  },
  {
   "cell_type": "markdown",
   "id": "a8a9cb46",
   "metadata": {},
   "source": [
    "### a) Average Grade per Student"
   ]
  },
  {
   "cell_type": "code",
   "execution_count": 10,
   "id": "4845c40b",
   "metadata": {},
   "outputs": [
    {
     "name": "stdout",
     "output_type": "stream",
     "text": [
      "Average grade per student:\n",
      "{'_id': 'STU004', 'averageGrade': 98.0}\n",
      "{'_id': 'STU003', 'averageGrade': 92.0}\n",
      "{'_id': 'STU011', 'averageGrade': 82.0}\n",
      "{'_id': 'STU009', 'averageGrade': 80.0}\n",
      "{'_id': 'STU010', 'averageGrade': 76.0}\n",
      "{'_id': 'STU012', 'averageGrade': 60.0}\n",
      "{'_id': 'STU005', 'averageGrade': 59.0}\n",
      "{'_id': 'STU014', 'averageGrade': None}\n",
      "{'_id': 'STU013', 'averageGrade': None}\n"
     ]
    }
   ],
   "source": [
    "# Calculating Average grade per student\n",
    "try:\n",
    "    avg_grade_per_student = db.submissions.aggregate([\n",
    "        {\n",
    "            \"$group\": {\n",
    "                \"_id\": \"$studentId\",\n",
    "                \"averageGrade\": {\"$avg\": \"$grade\"}\n",
    "            }\n",
    "        },\n",
    "        {\"$sort\": {\"averageGrade\": -1}}  # sort by highest average grade\n",
    "    ])\n",
    "\n",
    "    print(\"Average grade per student:\")\n",
    "    for item in avg_grade_per_student:\n",
    "        print(item)\n",
    "\n",
    "except Exception as e:\n",
    "    print(f\"Error fetching average grade per student: {e}\")"
   ]
  },
  {
   "cell_type": "markdown",
   "id": "a0188e33",
   "metadata": {},
   "source": [
    "### b) Completion Rate by Course"
   ]
  },
  {
   "cell_type": "code",
   "execution_count": 11,
   "id": "befca240",
   "metadata": {},
   "outputs": [
    {
     "name": "stdout",
     "output_type": "stream",
     "text": [
      "Completion rate by course:\n",
      "{'_id': 'CRS004', 'completionRate': 100.0}\n",
      "{'_id': 'CRS007', 'completionRate': 100.0}\n",
      "{'_id': 'CRS008', 'completionRate': 100.0}\n",
      "{'_id': 'CRS005', 'completionRate': 100.0}\n",
      "{'_id': 'CRS001', 'completionRate': 100.0}\n",
      "{'_id': 'CRS002', 'completionRate': 25.0}\n",
      "{'_id': 'CRS006', 'completionRate': 0.0}\n"
     ]
    }
   ],
   "source": [
    "# Calculating Completion Rate by course\n",
    "try:\n",
    "    completion_rate = db.submissions.aggregate([\n",
    "        {\n",
    "            \"$group\": {\n",
    "                \"_id\": \"$courseId\",\n",
    "                \"completed\": {\n",
    "                    \"$sum\": {\"$cond\": [{\"$eq\": [\"$status\", \"graded\"]}, 1, 0]}\n",
    "                },\n",
    "                \"totalSubmissions\": {\"$sum\": 1}\n",
    "            }\n",
    "        },\n",
    "        {\n",
    "            \"$project\": {\n",
    "                \"_id\": 1,  # keep courseId\n",
    "                \"completionRate\": {\n",
    "                    \"$multiply\": [\n",
    "                        {\"$divide\": [\"$completed\", \"$totalSubmissions\"]},\n",
    "                        100\n",
    "                    ]\n",
    "                }\n",
    "            }\n",
    "        },\n",
    "        {\"$sort\": {\"completionRate\": -1}}  # optional: sort by highest rate\n",
    "    ])\n",
    "\n",
    "    print(\"Completion rate by course:\")\n",
    "    for item in completion_rate:\n",
    "        print(item)\n",
    "\n",
    "except Exception as e:\n",
    "    print(f\"Error fetching completion rate: {e}\")"
   ]
  },
  {
   "cell_type": "markdown",
   "id": "f275fca2",
   "metadata": {},
   "source": [
    "### c) Top-performing Students"
   ]
  },
  {
   "cell_type": "code",
   "execution_count": 12,
   "id": "a9f57e8a",
   "metadata": {},
   "outputs": [
    {
     "name": "stdout",
     "output_type": "stream",
     "text": [
      "Top-performing students:\n",
      "{'_id': 'STU004', 'averageGrade': 98.0}\n",
      "{'_id': 'STU003', 'averageGrade': 92.0}\n",
      "{'_id': 'STU011', 'averageGrade': 82.0}\n",
      "{'_id': 'STU009', 'averageGrade': 80.0}\n",
      "{'_id': 'STU010', 'averageGrade': 76.0}\n"
     ]
    }
   ],
   "source": [
    "# Calculating Top performing students\n",
    "try:\n",
    "    top_students = db.submissions.aggregate([\n",
    "        {\n",
    "            \"$group\": {\n",
    "                \"_id\": \"$studentId\",\n",
    "                \"averageGrade\": {\"$avg\": \"$grade\"}\n",
    "            }\n",
    "        },\n",
    "        {\"$sort\": {\"averageGrade\": -1}},\n",
    "        {\"$limit\": 5}\n",
    "    ])\n",
    "    print(\"Top-performing students:\")\n",
    "    for item in top_students:\n",
    "        print(item)\n",
    "except Exception as e:\n",
    "    print(f\"Error fetching top students: {e}\")"
   ]
  },
  {
   "cell_type": "markdown",
   "id": "b0a7d370",
   "metadata": {},
   "source": [
    "### INSTRUCTOR ANALYTICS"
   ]
  },
  {
   "cell_type": "markdown",
   "id": "2d559c96",
   "metadata": {},
   "source": [
    "### a) Total Students Taught by each Instructor"
   ]
  },
  {
   "cell_type": "code",
   "execution_count": 13,
   "id": "d9bb01b5",
   "metadata": {},
   "outputs": [
    {
     "name": "stdout",
     "output_type": "stream",
     "text": [
      "Total students per instructor:\n",
      "{'_id': 'INST002', 'totalStudents': 8}\n",
      "{'_id': 'INST003', 'totalStudents': 4}\n",
      "{'_id': 'INST005', 'totalStudents': 2}\n",
      "{'_id': 'INST001', 'totalStudents': 0}\n"
     ]
    }
   ],
   "source": [
    "# Calculating Total Student taught by each instructor\n",
    "try:\n",
    "    students_per_instructor = db.courses.aggregate([\n",
    "        {\n",
    "            \"$lookup\": {\n",
    "                \"from\": \"enrollments\",\n",
    "                \"localField\": \"courseId\",\n",
    "                \"foreignField\": \"courseId\",\n",
    "                \"as\": \"enrolled\"\n",
    "            }\n",
    "        },\n",
    "        {\n",
    "            \"$project\": {\n",
    "                \"instructorId\": 1,\n",
    "                \"studentCount\": {\"$size\": \"$enrolled\"}  \n",
    "            }\n",
    "        },\n",
    "        {\n",
    "            \"$group\": {\n",
    "                \"_id\": \"$instructorId\",\n",
    "                \"totalStudents\": {\"$sum\": \"$studentCount\"}  \n",
    "            }\n",
    "        },\n",
    "        {\n",
    "            \"$sort\": {\"totalStudents\": -1}  \n",
    "        }\n",
    "    ])\n",
    "\n",
    "    print(\"Total students per instructor:\")\n",
    "    for item in students_per_instructor:\n",
    "        print(item)\n",
    "\n",
    "except Exception as e:\n",
    "    print(f\"Error fetching students per instructor: {e}\")"
   ]
  },
  {
   "cell_type": "markdown",
   "id": "6de0ca8d",
   "metadata": {},
   "source": [
    "### b) Average Course Rating per Instructor"
   ]
  },
  {
   "cell_type": "code",
   "execution_count": 14,
   "id": "fe85e71f",
   "metadata": {},
   "outputs": [
    {
     "name": "stdout",
     "output_type": "stream",
     "text": [
      "Average course rating per instructor:\n",
      "{'_id': 'INST005', 'averageRating': 99.0}\n",
      "{'_id': 'INST003', 'averageRating': 92.0}\n",
      "{'_id': 'INST002', 'averageRating': 69.75}\n",
      "{'_id': 'INST001', 'averageRating': 60.0}\n"
     ]
    }
   ],
   "source": [
    "# Calculating Average Course rating  per Instructor\n",
    "try:\n",
    "    avg_rating_per_instructor = db.courses.aggregate([\n",
    "        {\n",
    "            \"$lookup\": {\n",
    "                \"from\": \"submissions\",\n",
    "                \"localField\": \"courseId\",\n",
    "                \"foreignField\": \"courseId\",\n",
    "                \"as\": \"grades\"\n",
    "            }\n",
    "        },\n",
    "        {\"$unwind\": \"$grades\"},\n",
    "        {\n",
    "            \"$group\": {\n",
    "                \"_id\": \"$instructorId\",\n",
    "                \"averageRating\": {\"$avg\": \"$grades.grade\"}\n",
    "            }\n",
    "        },\n",
    "        {\n",
    "            \"$sort\": {\"averageRating\": -1}   # Sort by average rating descending\n",
    "        }\n",
    "    ])\n",
    "\n",
    "    print(\"Average course rating per instructor:\")\n",
    "    for item in avg_rating_per_instructor:\n",
    "        print(item)\n",
    "\n",
    "except Exception as e:\n",
    "    print(f\"Error fetching average rating per instructor: {e}\")"
   ]
  },
  {
   "cell_type": "markdown",
   "id": "8a74a38d",
   "metadata": {},
   "source": [
    "### c) Revenue Generated per Instructor"
   ]
  },
  {
   "cell_type": "code",
   "execution_count": 15,
   "id": "96d43eb1",
   "metadata": {},
   "outputs": [
    {
     "name": "stdout",
     "output_type": "stream",
     "text": [
      "Revenue per instructor (sorted):\n",
      "{'_id': 'INST003', 'totalRevenue': 664.1}\n",
      "{'_id': 'INST002', 'totalRevenue': 216.36}\n",
      "{'_id': 'INST005', 'totalRevenue': 187.34}\n",
      "{'_id': 'INST001', 'totalRevenue': 0.0}\n"
     ]
    }
   ],
   "source": [
    "# Total Revenue generated per Instrictor\n",
    "try:\n",
    "    revenue_per_instructor = db.courses.aggregate([\n",
    "        {\n",
    "            \"$lookup\": {\n",
    "                \"from\": \"enrollments\",\n",
    "                \"localField\": \"courseId\",\n",
    "                \"foreignField\": \"courseId\",\n",
    "                \"as\": \"enrolled\"\n",
    "            }\n",
    "        },\n",
    "        {\n",
    "            \"$project\": {\n",
    "                \"instructorId\": 1,\n",
    "                \"revenue\": {\"$multiply\": [{\"$size\": \"$enrolled\"}, \"$price\"]}\n",
    "            }\n",
    "        },\n",
    "        {\n",
    "            \"$group\": {\n",
    "                \"_id\": \"$instructorId\",\n",
    "                \"totalRevenue\": {\"$sum\": \"$revenue\"}\n",
    "            }\n",
    "        },\n",
    "        {\n",
    "            \"$sort\": {\"totalRevenue\": -1}   \n",
    "        }\n",
    "    ])\n",
    "\n",
    "    print(\"Revenue per instructor (sorted):\")\n",
    "    for item in revenue_per_instructor:\n",
    "        print(item)\n",
    "\n",
    "except Exception as e:\n",
    "    print(f\"Error fetching revenue per instructor: {e}\")"
   ]
  },
  {
   "cell_type": "markdown",
   "id": "943d1678",
   "metadata": {},
   "source": [
    "### ADVANCED ANALTICS"
   ]
  },
  {
   "cell_type": "markdown",
   "id": "8ab5769e",
   "metadata": {},
   "source": [
    "### a) Monthly Enrollment Trends"
   ]
  },
  {
   "cell_type": "code",
   "execution_count": 16,
   "id": "b5411c99",
   "metadata": {},
   "outputs": [
    {
     "name": "stdout",
     "output_type": "stream",
     "text": [
      "Monthly enrollment trends:\n",
      "{'_id': {'year': 2024, 'month': 10}, 'totalEnrollments': 1}\n",
      "{'_id': {'year': 2024, 'month': 12}, 'totalEnrollments': 1}\n",
      "{'_id': {'year': 2025, 'month': 1}, 'totalEnrollments': 3}\n",
      "{'_id': {'year': 2025, 'month': 2}, 'totalEnrollments': 1}\n",
      "{'_id': {'year': 2025, 'month': 3}, 'totalEnrollments': 2}\n",
      "{'_id': {'year': 2025, 'month': 4}, 'totalEnrollments': 1}\n",
      "{'_id': {'year': 2025, 'month': 5}, 'totalEnrollments': 1}\n",
      "{'_id': {'year': 2025, 'month': 7}, 'totalEnrollments': 3}\n",
      "{'_id': {'year': 2025, 'month': 9}, 'totalEnrollments': 1}\n",
      "{'_id': {'year': 2025, 'month': 10}, 'totalEnrollments': 1}\n"
     ]
    }
   ],
   "source": [
    "# Calculating Monthly trends\n",
    "try:\n",
    "    monthly_trends = db.enrollments.aggregate([\n",
    "        {\n",
    "            \"$group\": {\n",
    "                \"_id\": {\"year\": {\"$year\": \"$enrolledAt\"}, \"month\": {\"$month\": \"$enrolledAt\"}},\n",
    "                \"totalEnrollments\": {\"$sum\": 1}\n",
    "            }\n",
    "        },\n",
    "        {\"$sort\": {\"_id.year\": 1, \"_id.month\": 1}}\n",
    "    ])\n",
    "    print(\"Monthly enrollment trends:\")\n",
    "    for item in monthly_trends:\n",
    "        print(item)\n",
    "except Exception as e:\n",
    "    print(f\"Error fetching monthly enrollment trends: {e}\")"
   ]
  },
  {
   "cell_type": "markdown",
   "id": "0afbb3e4",
   "metadata": {},
   "source": [
    "### b) Most Popular Course Categories"
   ]
  },
  {
   "cell_type": "code",
   "execution_count": 17,
   "id": "a1000d46",
   "metadata": {},
   "outputs": [
    {
     "name": "stdout",
     "output_type": "stream",
     "text": [
      "Most popular course categories:\n",
      "{'_id': 'Data Science', 'totalEnrollments': 8}\n",
      "{'_id': 'Web Development', 'totalEnrollments': 4}\n",
      "{'_id': 'Cloud Computing', 'totalEnrollments': 2}\n"
     ]
    }
   ],
   "source": [
    "# Calculating Most Popular Categories\n",
    "try:\n",
    "    popular_categories = db.enrollments.aggregate([\n",
    "        {\n",
    "            \"$lookup\": {\n",
    "                \"from\": \"courses\",\n",
    "                \"localField\": \"courseId\",\n",
    "                \"foreignField\": \"courseId\",\n",
    "                \"as\": \"course\"\n",
    "            }\n",
    "        },\n",
    "        {\"$unwind\": \"$course\"},\n",
    "        {\n",
    "            \"$group\": {\n",
    "                \"_id\": \"$course.category\",\n",
    "                \"totalEnrollments\": {\"$sum\": 1}\n",
    "            }\n",
    "        },\n",
    "        {\"$sort\": {\"totalEnrollments\": -1}}\n",
    "    ])\n",
    "    print(\"Most popular course categories:\")\n",
    "    for item in popular_categories:\n",
    "        print(item)\n",
    "except Exception as e:\n",
    "    print(f\"Error fetching popular course categories: {e}\")"
   ]
  },
  {
   "cell_type": "markdown",
   "id": "2d4474e9",
   "metadata": {},
   "source": [
    "### c) Student Engagement Metrics"
   ]
  },
  {
   "cell_type": "code",
   "execution_count": 18,
   "id": "4b1116b3",
   "metadata": {},
   "outputs": [
    {
     "name": "stdout",
     "output_type": "stream",
     "text": [
      "Student engagement metrics:\n",
      "{'_id': 'STU009', 'totalSubmissions': 2}\n",
      "{'_id': 'STU011', 'totalSubmissions': 2}\n",
      "{'_id': 'STU003', 'totalSubmissions': 2}\n",
      "{'_id': 'STU005', 'totalSubmissions': 1}\n",
      "{'_id': 'STU004', 'totalSubmissions': 1}\n",
      "{'_id': 'STU014', 'totalSubmissions': 1}\n",
      "{'_id': 'STU012', 'totalSubmissions': 1}\n",
      "{'_id': 'STU013', 'totalSubmissions': 1}\n",
      "{'_id': 'STU010', 'totalSubmissions': 1}\n"
     ]
    }
   ],
   "source": [
    "# Student Engagement Metrics\n",
    "try:\n",
    "    engagement_metrics = db.submissions.aggregate([\n",
    "        {\n",
    "            \"$group\": {\n",
    "                \"_id\": \"$studentId\",\n",
    "                \"totalSubmissions\": {\"$sum\": 1}\n",
    "            }\n",
    "        },\n",
    "        {\"$sort\": {\"totalSubmissions\": -1}}\n",
    "    ])\n",
    "    print(\"Student engagement metrics:\")\n",
    "    for item in engagement_metrics:\n",
    "        print(item)\n",
    "except Exception as e:\n",
    "    print(f\"Error fetching student engagement metrics: {e}\")"
   ]
  }
 ],
 "metadata": {
  "kernelspec": {
   "display_name": "base",
   "language": "python",
   "name": "python3"
  },
  "language_info": {
   "codemirror_mode": {
    "name": "ipython",
    "version": 3
   },
   "file_extension": ".py",
   "mimetype": "text/x-python",
   "name": "python",
   "nbconvert_exporter": "python",
   "pygments_lexer": "ipython3",
   "version": "3.12.4"
  }
 },
 "nbformat": 4,
 "nbformat_minor": 5
}
