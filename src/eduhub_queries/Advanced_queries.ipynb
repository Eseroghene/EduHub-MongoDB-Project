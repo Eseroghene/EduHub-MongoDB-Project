{
 "cells": [
  {
   "cell_type": "markdown",
   "id": "f624c10d",
   "metadata": {},
   "source": [
    "# ADVANCED QUERIES AND AGGREGATION"
   ]
  },
  {
   "cell_type": "code",
   "execution_count": 19,
   "id": "1d241c5c",
   "metadata": {},
   "outputs": [],
   "source": [
    "import pandas as pd\n",
    "from datetime import datetime, timedelta\n",
    "from pymongo import MongoClient\n",
    "\n",
    "# Connect to MongoDB\n",
    "client = MongoClient('mongodb://localhost:27017/')\n",
    "db = client['eduhub_db']\n"
   ]
  },
  {
   "cell_type": "code",
   "execution_count": 20,
   "id": "fec46fe9",
   "metadata": {},
   "outputs": [
    {
     "name": "stdout",
     "output_type": "stream",
     "text": [
      "Collections in eduhub:\n",
      "['users', 'assignments', 'enrollments', 'courses', 'submissions', 'lessons']\n"
     ]
    }
   ],
   "source": [
    "print(\"Collections in eduhub:\")\n",
    "print(db.list_collection_names())"
   ]
  },
  {
   "cell_type": "markdown",
   "id": "ae97dcfa",
   "metadata": {},
   "source": [
    "## COMPLEX QUERIES"
   ]
  },
  {
   "cell_type": "markdown",
   "id": "03417e9d",
   "metadata": {},
   "source": [
    "### Courses with Price between $50 & $200"
   ]
  },
  {
   "cell_type": "code",
   "execution_count": 78,
   "id": "0d8ca412",
   "metadata": {},
   "outputs": [
    {
     "name": "stdout",
     "output_type": "stream",
     "text": [
      "Courses priced between $50 and $200:\n",
      "\n",
      "  courseId                             title   price\n",
      "0   CRS007    Machine Learning for Beginners  193.17\n",
      "1   CRS008  Backend Development with Node.js  172.40\n",
      "2   CRS002          Cloud Computing with AWS  162.52\n",
      "3   CRS003        Full-Stack Web Development  161.31\n",
      "4   CRS001   Frontend Development with React  144.35\n",
      "5   CRS004  Serverless Applications on Cloud  125.72\n",
      "6   CRS005      Introduction to Data Science  108.92\n",
      "7   CRS012  Data Visualization with Power BI   99.99\n",
      "8   CRS006   Frontend Development with React   77.36\n"
     ]
    }
   ],
   "source": [
    "# Finding Courses with price btw $50 & &200\n",
    "try:\n",
    "    # Query courses in the price range\n",
    "    courses_in_price_range = db.courses.find(\n",
    "        {\"price\": {\"$gte\": 50, \"$lte\": 200}},\n",
    "        {\"_id\": 0, \"courseId\": 1, \"title\": 1, \"price\": 1}\n",
    "    )\n",
    "\n",
    "    courses_list = list(courses_in_price_range)\n",
    "\n",
    "    # Convert list to DataFrame\n",
    "    df_courses_price = pd.DataFrame(courses_list)\n",
    "\n",
    "    if not df_courses_price.empty:\n",
    "        df_courses_price = df_courses_price[['courseId', 'title', 'price']]\n",
    "        df_courses_price = df_courses_price.sort_values(by='price', ascending=False).reset_index(drop=True)\n",
    "        \n",
    "        print(\"Courses priced between $50 and $200:\\n\")\n",
    "        print(df_courses_price)\n",
    "    else:\n",
    "        print(\"No courses found in the specified price range.\")\n",
    "\n",
    "except Exception as e:\n",
    "    print(f\"An error occurred while fetching courses by price: {e}\")"
   ]
  },
  {
   "cell_type": "markdown",
   "id": "e6339917",
   "metadata": {},
   "source": [
    "### Users Who Joined In the Last 6 Month"
   ]
  },
  {
   "cell_type": "code",
   "execution_count": 79,
   "id": "85fb2140",
   "metadata": {},
   "outputs": [
    {
     "name": "stdout",
     "output_type": "stream",
     "text": [
      "Users who joined in the last 6 months:\n",
      "\n",
      "   userId firstName    lastName              dateJoined\n",
      "0  STU020       Ada         Eze 2025-10-03 10:27:49.076\n",
      "1  STU012    Daniel     Gilbert 2025-10-03 06:15:15.318\n",
      "2  STU004    Martin       White 2025-09-24 19:38:59.914\n",
      "3  STU010   Richard       Klein 2025-09-01 12:20:50.293\n",
      "4  STU009     Harry       Smith 2025-08-12 16:56:14.552\n",
      "5  STU011      Leah       Clark 2025-07-09 23:51:32.714\n",
      "6  STU005     Jacob     Johnson 2025-07-01 18:37:34.293\n",
      "7  STU015     David   Rodriguez 2025-06-21 17:07:15.669\n",
      "8  STU014   Shannon  Villanueva 2025-04-30 08:24:14.148\n",
      "9  STU008    Connie     Morales 2025-04-24 18:05:30.079\n"
     ]
    }
   ],
   "source": [
    "# Finding users who join in thelast 6 month \n",
    "try:\n",
    "    six_months_ago = datetime.now() - timedelta(days=6*30)  # approximate 6 months\n",
    "    recent_users = db.users.find(\n",
    "        {\"dateJoined\": {\"$gte\": six_months_ago}},\n",
    "        {\"_id\": 0, \"userId\": 1, \"firstName\": 1, \"lastName\": 1, \"dateJoined\": 1}\n",
    "    )\n",
    "    \n",
    "    recent_users_list = list(recent_users)\n",
    "\n",
    "    # Convert to DataFrame\n",
    "    df_recent_users = pd.DataFrame(recent_users_list)\n",
    "\n",
    "    if not df_recent_users.empty:\n",
    "        df_recent_users = df_recent_users[['userId', 'firstName', 'lastName', 'dateJoined']]\n",
    "        df_recent_users = df_recent_users.sort_values(by='dateJoined', ascending=False).reset_index(drop=True)\n",
    "        \n",
    "        print(\"Users who joined in the last 6 months:\\n\")\n",
    "        print(df_recent_users)\n",
    "    else:\n",
    "        print(\"No users joined in the last 6 months.\")\n",
    "\n",
    "except Exception as e:\n",
    "    print(f\"An error occurred while fetching recent users: {e}\")"
   ]
  },
  {
   "cell_type": "markdown",
   "id": "18af107b",
   "metadata": {},
   "source": [
    "### Courses With Specific Tags"
   ]
  },
  {
   "cell_type": "code",
   "execution_count": 80,
   "id": "c4b64d64",
   "metadata": {},
   "outputs": [
    {
     "name": "stdout",
     "output_type": "stream",
     "text": [
      "Courses with specific tags:\n",
      "\n",
      "  courseId                         title  \\\n",
      "0   CRS005  Introduction to Data Science   \n",
      "\n",
      "                                                tags  \n",
      "0  [machinelearning, ai, statistics, AI, Data Sci...  \n"
     ]
    }
   ],
   "source": [
    "# Finding Courses that Have Specific Tags using $in Operator\n",
    "try:\n",
    "    tags_to_find = [\"Python\", \"Data Science\", \"AI\"]\n",
    "    \n",
    "    # Fetch courses with the specified tags\n",
    "    courses_with_tags = db.courses.find(\n",
    "        {\"tags\": {\"$in\": tags_to_find}},\n",
    "        {\"_id\": 0, \"courseId\": 1, \"title\": 1, \"tags\": 1}\n",
    "    )\n",
    "\n",
    "    courses_list = list(courses_with_tags)\n",
    "\n",
    "    # Convert list to DataFrame\n",
    "    df_courses_tags = pd.DataFrame(courses_list)\n",
    "\n",
    "    if not df_courses_tags.empty:\n",
    "        # Reorder columns\n",
    "        df_courses_tags = df_courses_tags[['courseId', 'title', 'tags']]\n",
    "        \n",
    "        print(\"Courses with specific tags:\\n\")\n",
    "        print(df_courses_tags)\n",
    "    else:\n",
    "        print(\"No courses found with the specified tags.\")\n",
    "\n",
    "except Exception as e:\n",
    "    print(f\"An error occurred while fetching courses with tags: {e}\")"
   ]
  },
  {
   "cell_type": "markdown",
   "id": "24b457b5",
   "metadata": {},
   "source": [
    "### Assignments Due Next Week"
   ]
  },
  {
   "cell_type": "code",
   "execution_count": 81,
   "id": "d1727432",
   "metadata": {},
   "outputs": [
    {
     "name": "stdout",
     "output_type": "stream",
     "text": [
      "No assignments are due in the next week.\n"
     ]
    }
   ],
   "source": [
    "# Finding Assignmenst due next week\n",
    "try:\n",
    "    one_week_from_now = datetime.now() + timedelta(days=7)\n",
    "    \n",
    "    upcoming_assignments = db.assignments.find(\n",
    "        {\"dueDate\": {\"$gte\": datetime.now(), \"$lte\": one_week_from_now}},\n",
    "        {\"_id\": 0, \"assignmentId\": 1, \"title\": 1, \"dueDate\": 1}\n",
    "    )\n",
    "\n",
    "    assignments_list = list(upcoming_assignments)\n",
    "\n",
    "    # Convert list to DataFrame\n",
    "    df_upcoming_assignments = pd.DataFrame(assignments_list)\n",
    "\n",
    "    if not df_upcoming_assignments.empty:\n",
    "        df_upcoming_assignments = df_upcoming_assignments[['assignmentId', 'title', 'dueDate']]\n",
    "        df_upcoming_assignments = df_upcoming_assignments.sort_values(by='dueDate', ascending=True).reset_index(drop=True)\n",
    "        \n",
    "        print(\"Assignments due in the next week:\")\n",
    "        print(df_upcoming_assignments)\n",
    "    else:\n",
    "        print(\"No assignments are due in the next week.\")\n",
    "\n",
    "except Exception as e:\n",
    "    print(f\"An error occurred while fetching upcoming assignments: {e}\")"
   ]
  },
  {
   "cell_type": "markdown",
   "id": "a4c685b2",
   "metadata": {},
   "source": [
    "## AGGREGATION PIPELINE"
   ]
  },
  {
   "cell_type": "markdown",
   "id": "c3575165",
   "metadata": {},
   "source": [
    "### COURSE ENROLLMENT STATISTICS"
   ]
  },
  {
   "cell_type": "markdown",
   "id": "2c647918",
   "metadata": {},
   "source": [
    "### a) Total Enrollment Per Course"
   ]
  },
  {
   "cell_type": "code",
   "execution_count": null,
   "id": "7f487eaa",
   "metadata": {},
   "outputs": [
    {
     "name": "stdout",
     "output_type": "stream",
     "text": [
      "Total enrollments per course:\n",
      "\n",
      "  CourseId                             Title  TotalEnrollments\n",
      "0   CRS002          Cloud Computing with AWS                 3\n",
      "1   CRS007    Machine Learning for Beginners                 3\n",
      "2   CRS004  Serverless Applications on Cloud                 3\n",
      "3   CRS006   Frontend Development with React                 2\n",
      "4   CRS005      Introduction to Data Science                 1\n",
      "5   CRS008  Backend Development with Node.js                 1\n",
      "6   CRS003        Full-Stack Web Development                 1\n"
     ]
    }
   ],
   "source": [
    "# Counting total enrollments per course\n",
    "try:\n",
    "    # Aggregate total enrollments per course with course info\n",
    "    enrollments_per_course = db.enrollments.aggregate([\n",
    "        {\n",
    "            \"$group\": {\n",
    "                \"_id\": \"$courseId\",\n",
    "                \"TotalEnrollments\": {\"$sum\": 1}\n",
    "            }\n",
    "        },\n",
    "        {\n",
    "            \"$lookup\": {\n",
    "                \"from\": \"courses\",\n",
    "                \"localField\": \"_id\",\n",
    "                \"foreignField\": \"courseId\",\n",
    "                \"as\": \"course\"\n",
    "            }\n",
    "        },\n",
    "        {\"$unwind\": \"$course\"},\n",
    "        {\n",
    "            \"$project\": {\n",
    "                \"_id\": 0,\n",
    "                \"CourseId\": \"$_id\",\n",
    "                \"Title\": \"$course.title\",\n",
    "                \"TotalEnrollments\": 1\n",
    "            }\n",
    "        },\n",
    "        {\"$sort\": {\"TotalEnrollments\": -1}}\n",
    "    ])\n",
    "\n",
    "    # Convert to DataFrame\n",
    "    df_enrollments = pd.DataFrame(list(enrollments_per_course))\n",
    "    df_enrollments = df_enrollments[[\"CourseId\", \"Title\", \"TotalEnrollments\"]]\n",
    "\n",
    "    print(\"Total enrollments per course:\\n\")\n",
    "    print(df_enrollments)\n",
    "\n",
    "except Exception as e:\n",
    "    print(f\"Error fetching enrollments per course: {e}\")"
   ]
  },
  {
   "cell_type": "markdown",
   "id": "d936eedc",
   "metadata": {},
   "source": [
    "### b) Average Course Rating"
   ]
  },
  {
   "cell_type": "code",
   "execution_count": 73,
   "id": "58da645e",
   "metadata": {},
   "outputs": [
    {
     "name": "stdout",
     "output_type": "stream",
     "text": [
      "Average course rating per course:\n",
      "\n",
      "  CourseId                             Title  AverageRating\n",
      "0   CRS003        Full-Stack Web Development           89.0\n",
      "1   CRS002          Cloud Computing with AWS           88.0\n",
      "2   CRS007    Machine Learning for Beginners           81.0\n",
      "3   CRS004  Serverless Applications on Cloud           80.0\n",
      "4   CRS008  Backend Development with Node.js           74.5\n",
      "5   CRS005      Introduction to Data Science           64.0\n",
      "6   CRS006   Frontend Development with React           53.0\n"
     ]
    }
   ],
   "source": [
    "#  Calculating average course rating\n",
    "try:\n",
    "    # Aggregate average rating per course with course info\n",
    "    avg_course_rating = db.submissions.aggregate([\n",
    "        {\n",
    "            \"$group\": {\n",
    "                \"_id\": \"$courseId\",\n",
    "                \"AverageRating\": {\"$avg\": \"$grade\"}\n",
    "            }\n",
    "        },\n",
    "        {\n",
    "            \"$lookup\": {\n",
    "                \"from\": \"courses\",\n",
    "                \"localField\": \"_id\",\n",
    "                \"foreignField\": \"courseId\",\n",
    "                \"as\": \"course\"\n",
    "            }\n",
    "        },\n",
    "        {\"$unwind\": \"$course\"},\n",
    "        {\n",
    "            \"$project\": {\n",
    "                \"_id\": 0,\n",
    "                \"CourseId\": \"$_id\",\n",
    "                \"Title\": \"$course.title\",\n",
    "                \"AverageRating\": {\"$round\": [\"$AverageRating\", 2]}\n",
    "            }\n",
    "        },\n",
    "        {\"$sort\": {\"AverageRating\": -1}}\n",
    "    ])\n",
    "\n",
    "    # Convert to DataFrame\n",
    "    df_avg_ratings = pd.DataFrame(list(avg_course_rating))\n",
    "\n",
    "    print(\"Average course rating per course:\\n\")\n",
    "    print(df_avg_ratings)\n",
    "\n",
    "except Exception as e:\n",
    "    print(f\"Error fetching average course rating: {e}\")"
   ]
  },
  {
   "cell_type": "markdown",
   "id": "ef56c3b4",
   "metadata": {},
   "source": [
    "### c)  Group by Course Category "
   ]
  },
  {
   "cell_type": "code",
   "execution_count": 76,
   "id": "5eef6f29",
   "metadata": {},
   "outputs": [
    {
     "name": "stdout",
     "output_type": "stream",
     "text": [
      "Average rating by category:\n",
      "\n",
      "          Category  TotalCourses  AverageRating\n",
      "0  Cloud Computing             4          84.00\n",
      "1  Web Development             4          72.75\n",
      "2     Data Science             4          72.50\n"
     ]
    }
   ],
   "source": [
    "#  Group by course category (average rating per category)\n",
    "try:\n",
    "    avg_rating_by_category = db.courses.aggregate([\n",
    "        {\n",
    "            \"$lookup\": {\n",
    "                \"from\": \"submissions\",\n",
    "                \"localField\": \"courseId\",\n",
    "                \"foreignField\": \"courseId\",\n",
    "                \"as\": \"grades\"\n",
    "            }\n",
    "        },\n",
    "        {\"$unwind\": \"$grades\"},\n",
    "        {\n",
    "            \"$group\": {\n",
    "                \"_id\": \"$category\",\n",
    "                \"AverageRating\": {\"$avg\": \"$grades.grade\"},\n",
    "                \"TotalCourses\": {\"$sum\": 1}\n",
    "            }\n",
    "        },\n",
    "        {\n",
    "            \"$project\": {\n",
    "                \"_id\": 0,\n",
    "                \"Category\": \"$_id\",           \n",
    "                \"AverageRating\": {\"$round\": [\"$AverageRating\", 2]},\n",
    "                \"TotalCourses\": 1\n",
    "            }\n",
    "        },\n",
    "        {\"$sort\": {\"AverageRating\": -1}}\n",
    "    ])\n",
    "\n",
    "    # Convert to DataFrame\n",
    "    df_avg_rating_category = pd.DataFrame(list(avg_rating_by_category))\n",
    "    df_avg_rating_category = df_avg_rating_category[[\"Category\", \"TotalCourses\", \"AverageRating\"]]\n",
    "    \n",
    "    print(\"Average rating by category:\\n\")\n",
    "    print(df_avg_rating_category)\n",
    "\n",
    "except Exception as e:\n",
    "    print(f\"Error fetching rating by category: {e}\")"
   ]
  },
  {
   "cell_type": "markdown",
   "id": "9922688c",
   "metadata": {},
   "source": [
    "### STUDENT PERFORMANCE ANALYSIS"
   ]
  },
  {
   "cell_type": "markdown",
   "id": "a8a9cb46",
   "metadata": {},
   "source": [
    "### a) Average Grade per Student"
   ]
  },
  {
   "cell_type": "code",
   "execution_count": 70,
   "id": "4845c40b",
   "metadata": {},
   "outputs": [
    {
     "name": "stdout",
     "output_type": "stream",
     "text": [
      "Average grade per student:\n",
      "\n",
      "  FirstName LastName                        Email  AverageGrade\n",
      "0      Lisa   Turner       daviserica@example.com          88.0\n",
      "1    Daniel  Gilbert      harryfoster@example.com          78.5\n",
      "2    Connie  Morales          wramsey@example.net          76.5\n",
      "3     Angel    Clark           smccoy@example.net          76.5\n",
      "4   Michael   Daniel  stephenslatasha@example.com          53.0\n",
      "5     Harry    Smith          frivera@example.org           NaN\n",
      "6      Alan    Brown      tammyashley@example.net           NaN\n"
     ]
    }
   ],
   "source": [
    "# Calculating Average grade per student\n",
    "try:\n",
    "    # Aggregate average grade per student with student info\n",
    "    avg_grade_per_student = db.submissions.aggregate([\n",
    "        {\n",
    "            \"$group\": {\n",
    "                \"_id\": \"$studentId\",\n",
    "                \"averageGrade\": {\"$avg\": \"$grade\"}\n",
    "            }\n",
    "        },\n",
    "        {\"$sort\": {\"averageGrade\": -1}},\n",
    "        {\n",
    "            \"$lookup\": {\n",
    "                \"from\": \"users\",\n",
    "                \"localField\": \"_id\",\n",
    "                \"foreignField\": \"userId\",\n",
    "                \"as\": \"student\"\n",
    "            }\n",
    "        },\n",
    "        {\"$unwind\": \"$student\"},\n",
    "        {\n",
    "            \"$project\": {\n",
    "                \"_id\": 0,\n",
    "                \"FirstName\": \"$student.firstName\",\n",
    "                \"LastName\": \"$student.lastName\",\n",
    "                \"Email\": \"$student.email\",\n",
    "                \"AverageGrade\": {\"$round\": [\"$averageGrade\", 2]}\n",
    "            }\n",
    "        }\n",
    "    ])\n",
    "\n",
    "    # Convert to DataFrame\n",
    "    df_avg_grade_student = pd.DataFrame(list(avg_grade_per_student))\n",
    "\n",
    "    print(\"Average grade per student:\\n\")\n",
    "    print(df_avg_grade_student)\n",
    "\n",
    "except Exception as e:\n",
    "    print(f\"Error fetching average grade per student: {e}\")"
   ]
  },
  {
   "cell_type": "markdown",
   "id": "a0188e33",
   "metadata": {},
   "source": [
    "### b) Completion Rate by Course"
   ]
  },
  {
   "cell_type": "code",
   "execution_count": 69,
   "id": "befca240",
   "metadata": {},
   "outputs": [
    {
     "name": "stdout",
     "output_type": "stream",
     "text": [
      "Completion rate by course:\n",
      "\n",
      "  CourseId                             Title  CompletionRate\n",
      "0   CRS008  Backend Development with Node.js          100.00\n",
      "1   CRS004  Serverless Applications on Cloud          100.00\n",
      "2   CRS005      Introduction to Data Science          100.00\n",
      "3   CRS006   Frontend Development with React          100.00\n",
      "4   CRS003        Full-Stack Web Development          100.00\n",
      "5   CRS007    Machine Learning for Beginners           33.33\n",
      "6   CRS002          Cloud Computing with AWS           33.33\n"
     ]
    }
   ],
   "source": [
    "# Calculating Completion Rate by course\n",
    "try:\n",
    "    # Aggregate completion rate per course\n",
    "    completion_rate = db.submissions.aggregate([\n",
    "        {\n",
    "            \"$group\": {\n",
    "                \"_id\": \"$courseId\",\n",
    "                \"completed\": {\n",
    "                    \"$sum\": {\"$cond\": [{\"$eq\": [\"$status\", \"graded\"]}, 1, 0]}\n",
    "                },\n",
    "                \"totalSubmissions\": {\"$sum\": 1}\n",
    "            }\n",
    "        },\n",
    "        {\n",
    "            \"$project\": {\n",
    "                \"_id\": 1,\n",
    "                \"completionRate\": {\n",
    "                    \"$multiply\": [\n",
    "                        {\"$divide\": [\"$completed\", \"$totalSubmissions\"]},\n",
    "                        100\n",
    "                    ]\n",
    "                }\n",
    "            }\n",
    "        },\n",
    "        {\n",
    "            \"$lookup\": {\n",
    "                \"from\": \"courses\",\n",
    "                \"localField\": \"_id\",\n",
    "                \"foreignField\": \"courseId\",\n",
    "                \"as\": \"course\"\n",
    "            }\n",
    "        },\n",
    "        {\"$unwind\": \"$course\"},\n",
    "        {\n",
    "            \"$project\": {\n",
    "                \"_id\": 0,\n",
    "                \"CourseId\": \"$_id\",\n",
    "                \"Title\": \"$course.title\",\n",
    "                \"CompletionRate\": {\"$round\": [\"$completionRate\", 2]}\n",
    "            }\n",
    "        },\n",
    "        {\"$sort\": {\"CompletionRate\": -1}}\n",
    "    ])\n",
    "\n",
    "    # Convert to DataFrame\n",
    "    df_completion = pd.DataFrame(list(completion_rate))\n",
    "\n",
    "    if not df_completion.empty:\n",
    "        print(\"Completion rate by course:\\n\")\n",
    "        print(df_completion)\n",
    "    else:\n",
    "        print(\"No submissions found for completion rate.\")\n",
    "\n",
    "except Exception as e:\n",
    "    print(f\"Error fetching completion rate: {e}\")"
   ]
  },
  {
   "cell_type": "markdown",
   "id": "f275fca2",
   "metadata": {},
   "source": [
    "### c) Top-performing Students"
   ]
  },
  {
   "cell_type": "code",
   "execution_count": 67,
   "id": "a9f57e8a",
   "metadata": {},
   "outputs": [
    {
     "name": "stdout",
     "output_type": "stream",
     "text": [
      "Top Performing Students:\n",
      "\n",
      "  FirstName LastName                        Email  AverageGrade\n",
      "0      Lisa   Turner       daviserica@example.com          88.0\n",
      "1    Daniel  Gilbert      harryfoster@example.com          78.5\n",
      "2    Connie  Morales          wramsey@example.net          76.5\n",
      "3     Angel    Clark           smccoy@example.net          76.5\n",
      "4   Michael   Daniel  stephenslatasha@example.com          53.0\n"
     ]
    }
   ],
   "source": [
    "# Calculating Top performing students\n",
    "try:\n",
    "    # Aggregate top 5 students by average grade and include student info\n",
    "    top_students = db.submissions.aggregate([\n",
    "        {\n",
    "            \"$group\": {\n",
    "                \"_id\": \"$studentId\",\n",
    "                \"averageGrade\": {\"$avg\": \"$grade\"}\n",
    "            }\n",
    "        },\n",
    "        {\"$sort\": {\"averageGrade\": -1}},\n",
    "        {\"$limit\": 5},\n",
    "        {\n",
    "            \"$lookup\": {\n",
    "                \"from\": \"users\",\n",
    "                \"localField\": \"_id\",\n",
    "                \"foreignField\": \"userId\",\n",
    "                \"as\": \"student\"\n",
    "            }\n",
    "        },\n",
    "        {\"$unwind\": \"$student\"},\n",
    "        {\n",
    "            \"$project\": {\n",
    "                \"_id\": 0,\n",
    "                \"FirstName\": \"$student.firstName\",\n",
    "                \"LastName\": \"$student.lastName\",\n",
    "                \"Email\": \"$student.email\",\n",
    "                \"AverageGrade\": {\"$round\": [\"$averageGrade\", 2]}\n",
    "            }\n",
    "        }\n",
    "    ])\n",
    "\n",
    "    # Convert to DataFrame\n",
    "    df_top_students = pd.DataFrame(list(top_students))\n",
    "\n",
    "    print(\"Top Performing Students:\\n\")\n",
    "    print(df_top_students)\n",
    "\n",
    "except Exception as e:\n",
    "    print(f\"Error fetching top students: {e}\")"
   ]
  },
  {
   "cell_type": "markdown",
   "id": "b0a7d370",
   "metadata": {},
   "source": [
    "### INSTRUCTOR ANALYTICS"
   ]
  },
  {
   "cell_type": "markdown",
   "id": "2d559c96",
   "metadata": {},
   "source": [
    "### a) Total Students Taught by each Instructor"
   ]
  },
  {
   "cell_type": "code",
   "execution_count": null,
   "id": "d9bb01b5",
   "metadata": {},
   "outputs": [
    {
     "name": "stdout",
     "output_type": "stream",
     "text": [
      "Total students taught by each instructor:\n",
      "\n",
      "  FirstName   LastName                      Email  TotalStudents\n",
      "0     Terri       Reid         chad43@example.com              5\n",
      "1      Sean      Ellis        asnyder@example.org              4\n",
      "2     Emily  Hernandez        robin73@example.com              3\n",
      "3   Matthew      Davis  garciastephen@example.net              2\n"
     ]
    }
   ],
   "source": [
    "# Calculating Total Student taught by each instructor\n",
    "try:\n",
    "    students_per_instructor = db.courses.aggregate([\n",
    "        {\n",
    "            \"$lookup\": {\n",
    "                \"from\": \"enrollments\",\n",
    "                \"localField\": \"courseId\",\n",
    "                \"foreignField\": \"courseId\",\n",
    "                \"as\": \"enrolled\"\n",
    "            }\n",
    "        },\n",
    "        {\n",
    "            \"$project\": {\n",
    "                \"instructorId\": 1,\n",
    "                \"studentCount\": {\"$size\": \"$enrolled\"}  \n",
    "            }\n",
    "        },\n",
    "        {\n",
    "            \"$group\": {\n",
    "                \"_id\": \"$instructorId\",\n",
    "                \"totalStudents\": {\"$sum\": \"$studentCount\"}  \n",
    "            }\n",
    "        },\n",
    "        {\n",
    "            \"$lookup\": {\n",
    "                \"from\": \"users\",\n",
    "                \"localField\": \"_id\",\n",
    "                \"foreignField\": \"userId\",\n",
    "                \"as\": \"instructor\"\n",
    "            }\n",
    "        },\n",
    "        {\"$unwind\": \"$instructor\"},\n",
    "        {\n",
    "            \"$project\": {\n",
    "                \"_id\": 0,\n",
    "                \"FirstName\": \"$instructor.firstName\",\n",
    "                \"LastName\": \"$instructor.lastName\",\n",
    "                \"Email\": \"$instructor.email\",\n",
    "                \"TotalStudents\": \"$totalStudents\"\n",
    "            }\n",
    "        },\n",
    "        {\"$sort\": {\"TotalStudents\": -1}}\n",
    "    ])\n",
    "\n",
    "    # Convert to DataFrame\n",
    "    df_students_per_instructor = pd.DataFrame(list(students_per_instructor))\n",
    "\n",
    "    print(\"Total students taught by each instructor:\\n\")\n",
    "    print(df_students_per_instructor)\n",
    "\n",
    "except Exception as e:\n",
    "    print(f\"Error fetching students per instructor: {e}\")"
   ]
  },
  {
   "cell_type": "markdown",
   "id": "6de0ca8d",
   "metadata": {},
   "source": [
    "### b) Average Course Rating per Instructor"
   ]
  },
  {
   "cell_type": "code",
   "execution_count": null,
   "id": "fe85e71f",
   "metadata": {},
   "outputs": [
    {
     "name": "stdout",
     "output_type": "stream",
     "text": [
      "Average course rating per instructor:\n",
      "\n",
      "  InstructorID FirstName   LastName                      Email  AverageRating\n",
      "0      INST005     Emily  Hernandez        robin73@example.com          88.00\n",
      "1      INST002     Terri       Reid         chad43@example.com          77.67\n",
      "2      INST001      Sean      Ellis        asnyder@example.org          76.67\n",
      "3      INST003   Matthew      Davis  garciastephen@example.net          53.00\n"
     ]
    }
   ],
   "source": [
    "# Calculating Average Course rating  per Instructor\n",
    "try:\n",
    "    avg_rating_per_instructor = db.courses.aggregate([\n",
    "        {\n",
    "            \"$lookup\": {\n",
    "                \"from\": \"submissions\",\n",
    "                \"localField\": \"courseId\",\n",
    "                \"foreignField\": \"courseId\",\n",
    "                \"as\": \"grades\"\n",
    "            }\n",
    "        },\n",
    "        {\"$unwind\": \"$grades\"},\n",
    "        {\n",
    "            \"$group\": {\n",
    "                \"_id\": \"$instructorId\",\n",
    "                \"averageRating\": {\"$avg\": \"$grades.grade\"}\n",
    "            }\n",
    "        },\n",
    "        {\n",
    "            \"$lookup\": {\n",
    "                \"from\": \"users\",\n",
    "                \"localField\": \"_id\",\n",
    "                \"foreignField\": \"userId\",\n",
    "                \"as\": \"instructor\"\n",
    "            }\n",
    "        },\n",
    "        {\"$unwind\": \"$instructor\"},\n",
    "        {\n",
    "            \"$project\": {\n",
    "                \"_id\": 0,\n",
    "                \"InstructorID\": \"$_id\",\n",
    "                \"FirstName\": \"$instructor.firstName\",\n",
    "                \"LastName\": \"$instructor.lastName\",\n",
    "                \"Email\": \"$instructor.email\",\n",
    "                \"AverageRating\": {\"$round\": [\"$averageRating\", 2]}\n",
    "            }\n",
    "        },\n",
    "        {\"$sort\": {\"AverageRating\": -1}}\n",
    "    ])\n",
    "\n",
    "    # Convert to DataFrame\n",
    "    df_avg_rating = pd.DataFrame(list(avg_rating_per_instructor))\n",
    "\n",
    "    print(\"Average course rating per instructor:\\n\")\n",
    "    print(df_avg_rating)\n",
    "\n",
    "except Exception as e:\n",
    "    print(f\"Error fetching average rating per instructor: {e}\")"
   ]
  },
  {
   "cell_type": "markdown",
   "id": "8a74a38d",
   "metadata": {},
   "source": [
    "### c) Revenue Generated per Instructor"
   ]
  },
  {
   "cell_type": "code",
   "execution_count": 68,
   "id": "96d43eb1",
   "metadata": {},
   "outputs": [
    {
     "name": "stdout",
     "output_type": "stream",
     "text": [
      "Revenue per Instructor:\n",
      "\n",
      "  FirstName   LastName                      Email  TotalRevenue\n",
      "0      Sean      Ellis        asnyder@example.org        751.91\n",
      "1     Terri       Reid         chad43@example.com        647.39\n",
      "2     Emily  Hernandez        robin73@example.com        487.56\n",
      "3   Matthew      Davis  garciastephen@example.net        154.72\n"
     ]
    }
   ],
   "source": [
    "# Total Revenue generated per Instrictor\n",
    "try:\n",
    "    # Aggregate total revenue per instructor\n",
    "    revenue_per_instructor = db.courses.aggregate([\n",
    "        {\n",
    "            \"$lookup\": {\n",
    "                \"from\": \"enrollments\",\n",
    "                \"localField\": \"courseId\",\n",
    "                \"foreignField\": \"courseId\",\n",
    "                \"as\": \"enrolled\"\n",
    "            }\n",
    "        },\n",
    "        {\n",
    "            \"$project\": {\n",
    "                \"instructorId\": 1,\n",
    "                \"revenue\": {\"$multiply\": [{\"$size\": \"$enrolled\"}, \"$price\"]}\n",
    "            }\n",
    "        },\n",
    "        {\n",
    "            \"$group\": {\n",
    "                \"_id\": \"$instructorId\",\n",
    "                \"totalRevenue\": {\"$sum\": \"$revenue\"}\n",
    "            }\n",
    "        },\n",
    "        {\n",
    "            \"$lookup\": {\n",
    "                \"from\": \"users\",\n",
    "                \"localField\": \"_id\",\n",
    "                \"foreignField\": \"userId\",\n",
    "                \"as\": \"instructor\"\n",
    "            }\n",
    "        },\n",
    "        {\"$unwind\": \"$instructor\"},\n",
    "        {\n",
    "            \"$project\": {\n",
    "                \"_id\": 0,\n",
    "                \"FirstName\": \"$instructor.firstName\",\n",
    "                \"LastName\": \"$instructor.lastName\",\n",
    "                \"Email\": \"$instructor.email\",\n",
    "                \"TotalRevenue\": {\"$round\": [\"$totalRevenue\", 2]}\n",
    "            }\n",
    "        },\n",
    "        {\"$sort\": {\"TotalRevenue\": -1}}\n",
    "    ])\n",
    "\n",
    "    # Convert to DataFrame\n",
    "    df_revenue = pd.DataFrame(list(revenue_per_instructor))\n",
    "\n",
    "    print(\"Revenue per Instructor:\\n\")\n",
    "    print(df_revenue)\n",
    "\n",
    "except Exception as e:\n",
    "    print(f\"Error fetching revenue per instructor: {e}\")"
   ]
  },
  {
   "cell_type": "markdown",
   "id": "943d1678",
   "metadata": {},
   "source": [
    "### ADVANCED ANALTICS"
   ]
  },
  {
   "cell_type": "markdown",
   "id": "8ab5769e",
   "metadata": {},
   "source": [
    "### a) Monthly Enrollment Trends"
   ]
  },
  {
   "cell_type": "code",
   "execution_count": null,
   "id": "b5411c99",
   "metadata": {},
   "outputs": [
    {
     "name": "stdout",
     "output_type": "stream",
     "text": [
      "Monthly Enrollment Trends:\n",
      "\n",
      "   Year  Month  totalEnrollments\n",
      "0  2024     10                 4\n",
      "1  2024     12                 2\n",
      "2  2025      1                 1\n",
      "3  2025      3                 1\n",
      "4  2025      5                 2\n",
      "5  2025      7                 1\n",
      "6  2025      8                 1\n",
      "7  2025      9                 2\n",
      "8  2025     10                 1\n"
     ]
    }
   ],
   "source": [
    "# Calculating Monthly trends\n",
    "try:\n",
    "    monthly_trends = db.enrollments.aggregate([\n",
    "        {\n",
    "            \"$group\": {\n",
    "                \"_id\": {\"year\": {\"$year\": \"$enrolledAt\"}, \"month\": {\"$month\": \"$enrolledAt\"}},\n",
    "                \"totalEnrollments\": {\"$sum\": 1}\n",
    "            }\n",
    "        },\n",
    "        {\"$sort\": {\"_id.year\": 1, \"_id.month\": 1}}\n",
    "    ])\n",
    "\n",
    "    trends_list = list(monthly_trends)\n",
    "\n",
    "    if trends_list:\n",
    "        # Convert to DataFrame\n",
    "        df_trends = pd.DataFrame(trends_list)\n",
    "\n",
    "        # Flatten the _id dictionary to separate columns\n",
    "        df_trends['Year'] = df_trends['_id'].apply(lambda x: x['year'])\n",
    "        df_trends['Month'] = df_trends['_id'].apply(lambda x: x['month'])\n",
    "        df_trends = df_trends.drop(columns=['_id'])\n",
    "\n",
    "        # Reorder columns\n",
    "        df_trends = df_trends[['Year', 'Month', 'totalEnrollments']]\n",
    "\n",
    "        print(\"Monthly Enrollment Trends:\\n\")\n",
    "        print(df_trends)\n",
    "    else:\n",
    "        print(\"No enrollment data found.\")\n",
    "\n",
    "except Exception as e:\n",
    "    print(f\"Error fetching monthly enrollment trends: {e}\")"
   ]
  },
  {
   "cell_type": "markdown",
   "id": "0afbb3e4",
   "metadata": {},
   "source": [
    "### b) Most Popular Course Categories"
   ]
  },
  {
   "cell_type": "code",
   "execution_count": 61,
   "id": "a1000d46",
   "metadata": {},
   "outputs": [
    {
     "name": "stdout",
     "output_type": "stream",
     "text": [
      "Most popular Course Categories:\n",
      "\n",
      "          Category  TotalEnrollments\n",
      "0  Cloud Computing                 6\n",
      "1     Data Science                 4\n",
      "2  Web Development                 4\n"
     ]
    }
   ],
   "source": [
    "# Calculating Most Popular Categories\n",
    "try:\n",
    "    popular_categories = db.enrollments.aggregate([\n",
    "        {\n",
    "            \"$lookup\": {\n",
    "                \"from\": \"courses\",\n",
    "                \"localField\": \"courseId\",\n",
    "                \"foreignField\": \"courseId\",\n",
    "                \"as\": \"course\"\n",
    "            }\n",
    "        },\n",
    "        {\"$unwind\": \"$course\"},\n",
    "        {\n",
    "            \"$group\": {\n",
    "                \"_id\": \"$course.category\",\n",
    "                \"totalEnrollments\": {\"$sum\": 1}\n",
    "            }\n",
    "        },\n",
    "        {\"$sort\": {\"totalEnrollments\": -1}}\n",
    "    ])\n",
    "\n",
    "    categories_list = list(popular_categories)\n",
    "\n",
    "    if categories_list:\n",
    "        # Convert to DataFrame\n",
    "        df_categories = pd.DataFrame(categories_list)\n",
    "\n",
    "        # Rename columns for clarity\n",
    "        df_categories = df_categories.rename(columns={\"_id\": \"Category\", \"totalEnrollments\": \"TotalEnrollments\"})\n",
    "\n",
    "        print(\"Most popular Course Categories:\\n\")\n",
    "        print(df_categories)\n",
    "    else:\n",
    "        print(\"No enrollment data found.\")\n",
    "\n",
    "except Exception as e:\n",
    "    print(f\"Error fetching popular course categories: {e}\")"
   ]
  },
  {
   "cell_type": "markdown",
   "id": "2d4474e9",
   "metadata": {},
   "source": [
    "### c) Student Engagement Metrics"
   ]
  },
  {
   "cell_type": "code",
   "execution_count": null,
   "id": "4b1116b3",
   "metadata": {},
   "outputs": [
    {
     "name": "stdout",
     "output_type": "stream",
     "text": [
      "Student Engagement Metrics:\n",
      "\n",
      "  StudentID  TotalSubmissions\n",
      "0    STU012                 4\n",
      "1    STU008                 2\n",
      "2    STU013                 2\n",
      "3    STU009                 1\n",
      "4    STU006                 1\n",
      "5    STU007                 1\n",
      "6    STU001                 1\n"
     ]
    }
   ],
   "source": [
    "# Student Engagement Metric\n",
    "try:\n",
    "    engagement_metrics = db.submissions.aggregate([\n",
    "        {\n",
    "            \"$group\": {\n",
    "                \"_id\": \"$studentId\",\n",
    "                \"totalSubmissions\": {\"$sum\": 1}\n",
    "            }\n",
    "        },\n",
    "        {\"$sort\": {\"totalSubmissions\": -1}}\n",
    "    ])\n",
    "\n",
    "    engagement_list = list(engagement_metrics)\n",
    "\n",
    "    if engagement_list:\n",
    "        df_engagement = pd.DataFrame(engagement_list)\n",
    "\n",
    "        # Rename columns for clarity\n",
    "        df_engagement = df_engagement.rename(columns={\"_id\": \"StudentID\", \"totalSubmissions\": \"TotalSubmissions\"})\n",
    "\n",
    "        print(\"Student Engagement Metrics:\\n\")\n",
    "        print(df_engagement)\n",
    "    else:\n",
    "        print(\"No submission data found.\")\n",
    "\n",
    "except Exception as e:\n",
    "    print(f\"Error fetching student engagement metrics: {e}\")"
   ]
  }
 ],
 "metadata": {
  "kernelspec": {
   "display_name": "base",
   "language": "python",
   "name": "python3"
  },
  "language_info": {
   "codemirror_mode": {
    "name": "ipython",
    "version": 3
   },
   "file_extension": ".py",
   "mimetype": "text/x-python",
   "name": "python",
   "nbconvert_exporter": "python",
   "pygments_lexer": "ipython3",
   "version": "3.12.4"
  }
 },
 "nbformat": 4,
 "nbformat_minor": 5
}
