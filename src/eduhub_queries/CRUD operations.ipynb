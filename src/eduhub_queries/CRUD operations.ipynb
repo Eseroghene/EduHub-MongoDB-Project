{
 "cells": [
  {
   "cell_type": "markdown",
   "id": "ff2396d1",
   "metadata": {},
   "source": [
    "# BASIC CRUD OPERATIONS"
   ]
  },
  {
   "cell_type": "code",
   "execution_count": 13,
   "id": "110c59b5",
   "metadata": {},
   "outputs": [],
   "source": [
    "import pandas as pd\n",
    "from datetime import datetime\n",
    "from pymongo import MongoClient\n",
    "# Connect to MongoDB\n",
    "client = MongoClient('mongodb://localhost:27017/')\n",
    "db = client['eduhub_db']"
   ]
  },
  {
   "cell_type": "code",
   "execution_count": 2,
   "id": "f56dcf51",
   "metadata": {},
   "outputs": [
    {
     "name": "stdout",
     "output_type": "stream",
     "text": [
      "Collections in eduhub:\n",
      "['lessons', 'submissions', 'assignments', 'courses', 'users', 'enrollments']\n"
     ]
    }
   ],
   "source": [
    "print(\"Collections in eduhub:\")\n",
    "print(db.list_collection_names())"
   ]
  },
  {
   "cell_type": "markdown",
   "id": "12905f64",
   "metadata": {},
   "source": [
    "## CREATE OPERATIONS"
   ]
  },
  {
   "cell_type": "code",
   "execution_count": null,
   "id": "8363536a",
   "metadata": {},
   "outputs": [
    {
     "name": "stdout",
     "output_type": "stream",
     "text": [
      "Added new student\n",
      "Added new course\n",
      "Enrolled student in course\n",
      "Added new lesson to course\n"
     ]
    }
   ],
   "source": [
    "#Adding a new student user\n",
    "new_student = {\n",
    "    \"userId\": \"STU016\",   \n",
    "    \"email\": \"student16@example.com\",\n",
    "    \"firstName\": \"Ada\",\n",
    "    \"lastName\": \"Eze\",\n",
    "    \"role\": \"student\",\n",
    "    \"dateJoined\": datetime.now(),\n",
    "    \"profile\": {\n",
    "        \"bio\": \"Passionate learner exploring data science and analytics.\",\n",
    "        \"avatar\": \"https://example.com/avatar16.png\",\n",
    "        \"skills\": [\"Python\", \"SQL\"]\n",
    "    },\n",
    "    \"isActive\": True\n",
    "}\n",
    "db.users.insert_one(new_student)\n",
    "print(\"Added new student\")\n",
    "\n",
    "\n",
    "\n",
    "# Creating a new course\n",
    "new_course = {\n",
    "    \"courseId\": \"CRS009\",   \n",
    "    \"title\": \"Data Visualization with Power BI\",\n",
    "    \"description\": \"Learn to design and develop interactive dashboards with Power BI.\",\n",
    "    \"instructorId\": \"INST001\",   \n",
    "    \"category\": \"Data Science\",\n",
    "    \"level\": \"beginner\",   \n",
    "    \"duration\": 40,        \n",
    "    \"price\": 99.99,\n",
    "    \"tags\": [\"data\", \"visualization\", \"business-intelligence\"],\n",
    "    \"createdAt\": datetime.now(),\n",
    "    \"updatedAt\": datetime.now(),\n",
    "    \"isPublished\": True\n",
    "}\n",
    "db.courses.insert_one(new_course)\n",
    "print(\"Added new course\")\n",
    "\n",
    "\n",
    "\n",
    "#Enrolling a student in a course\n",
    "new_enrollment = {\n",
    "    \"enrollmentId\": \"ENR016\",   \n",
    "    \"studentId\": \"STU016\",      \n",
    "    \"courseId\": \"CRS009\",       \n",
    "    \"enrolledAt\": datetime.now(),\n",
    "    \"status\": \"active\"          \n",
    "}\n",
    "db.enrollments.insert_one(new_enrollment)\n",
    "print(\"Enrolled student in course\")\n",
    "\n",
    "\n",
    "\n",
    "#Adding a new lesson to an existing course\n",
    "new_lesson = {\n",
    "    \"lessonId\": \"LES026\",    \n",
    "    \"courseId\": \"CRS009\",    \n",
    "    \"title\": \"Getting Started with Power BI\",\n",
    "    \"content\": \"This lesson introduces the Power BI interface and its core features.\",\n",
    "    \"order\": 1,              \n",
    "    \"resources\": [\"https://docs.microsoft.com/en-us/power-bi/\"],\n",
    "    \"createdAt\": datetime.now(),\n",
    "    \"updatedAt\": datetime.now()\n",
    "}\n",
    "db.lessons.insert_one(new_lesson)\n",
    "print(\"Added new lesson to course\")"
   ]
  },
  {
   "cell_type": "markdown",
   "id": "4081405a",
   "metadata": {},
   "source": [
    "## READ OPERATIONS\n"
   ]
  },
  {
   "cell_type": "markdown",
   "id": "273f53ba",
   "metadata": {},
   "source": [
    "### Active Students "
   ]
  },
  {
   "cell_type": "code",
   "execution_count": null,
   "id": "0419a09a",
   "metadata": {},
   "outputs": [
    {
     "name": "stdout",
     "output_type": "stream",
     "text": [
      "Active Students:\n"
     ]
    },
    {
     "data": {
      "text/html": [
       "<div>\n",
       "<style scoped>\n",
       "    .dataframe tbody tr th:only-of-type {\n",
       "        vertical-align: middle;\n",
       "    }\n",
       "\n",
       "    .dataframe tbody tr th {\n",
       "        vertical-align: top;\n",
       "    }\n",
       "\n",
       "    .dataframe thead th {\n",
       "        text-align: right;\n",
       "    }\n",
       "</style>\n",
       "<table border=\"1\" class=\"dataframe\">\n",
       "  <thead>\n",
       "    <tr style=\"text-align: right;\">\n",
       "      <th></th>\n",
       "      <th>userId</th>\n",
       "      <th>firstName</th>\n",
       "      <th>lastName</th>\n",
       "      <th>email</th>\n",
       "    </tr>\n",
       "  </thead>\n",
       "  <tbody>\n",
       "    <tr>\n",
       "      <th>0</th>\n",
       "      <td>STU001</td>\n",
       "      <td>Melissa</td>\n",
       "      <td>Powell</td>\n",
       "      <td>mosstara@example.net</td>\n",
       "    </tr>\n",
       "    <tr>\n",
       "      <th>1</th>\n",
       "      <td>STU003</td>\n",
       "      <td>Alexandra</td>\n",
       "      <td>Carr</td>\n",
       "      <td>mercersusan@example.org</td>\n",
       "    </tr>\n",
       "    <tr>\n",
       "      <th>2</th>\n",
       "      <td>STU004</td>\n",
       "      <td>Amy</td>\n",
       "      <td>Walton</td>\n",
       "      <td>rwhite@example.org</td>\n",
       "    </tr>\n",
       "    <tr>\n",
       "      <th>3</th>\n",
       "      <td>STU008</td>\n",
       "      <td>Katie</td>\n",
       "      <td>Snow</td>\n",
       "      <td>ulane@example.org</td>\n",
       "    </tr>\n",
       "    <tr>\n",
       "      <th>4</th>\n",
       "      <td>STU009</td>\n",
       "      <td>Elizabeth</td>\n",
       "      <td>Kim</td>\n",
       "      <td>wgeorge@example.org</td>\n",
       "    </tr>\n",
       "  </tbody>\n",
       "</table>\n",
       "</div>"
      ],
      "text/plain": [
       "   userId  firstName lastName                    email\n",
       "0  STU001    Melissa   Powell     mosstara@example.net\n",
       "1  STU003  Alexandra     Carr  mercersusan@example.org\n",
       "2  STU004        Amy   Walton       rwhite@example.org\n",
       "3  STU008      Katie     Snow        ulane@example.org\n",
       "4  STU009  Elizabeth      Kim      wgeorge@example.org"
      ]
     },
     "execution_count": 15,
     "metadata": {},
     "output_type": "execute_result"
    }
   ],
   "source": [
    "#Finding all active student\n",
    "active_students = db.users.find(\n",
    "    {\"role\": \"student\", \"isActive\": True},\n",
    "    {\"_id\": 0, \"userId\": 1, \"firstName\": 1, \"lastName\": 1, \"email\": 1}\n",
    ")\n",
    "\n",
    "students_df = pd.DataFrame(list(active_students))\n",
    "print(\"Active Students:\")\n",
    "students_df[['userId', 'firstName', 'lastName', 'email']].head()"
   ]
  },
  {
   "cell_type": "markdown",
   "id": "ac446b0f",
   "metadata": {},
   "source": [
    "### Retrieving Course Details with Instructor Information"
   ]
  },
  {
   "cell_type": "code",
   "execution_count": null,
   "id": "269992d5",
   "metadata": {},
   "outputs": [
    {
     "name": "stdout",
     "output_type": "stream",
     "text": [
      "  courseId                             title         category         level  \\\n",
      "0   CRS001    Machine Learning for Beginners     Data Science  intermediate   \n",
      "1   CRS002      Introduction to Data Science     Data Science      beginner   \n",
      "2   CRS003    Machine Learning for Beginners     Data Science  intermediate   \n",
      "3   CRS004  Backend Development with Node.js  Web Development      advanced   \n",
      "4   CRS005          Python for Data Analysis     Data Science      beginner   \n",
      "\n",
      "                                          instructor  \n",
      "0  {'email': 'ucastaneda@example.org', 'firstName...  \n",
      "1  {'email': 'dcarlson@example.org', 'firstName':...  \n",
      "2  {'email': 'john04@example.org', 'firstName': '...  \n",
      "3  {'email': 'ucastaneda@example.org', 'firstName...  \n",
      "4  {'email': 'john04@example.org', 'firstName': '...  \n",
      "Courses with Instructor Info:\n"
     ]
    }
   ],
   "source": [
    "# Retreving course details with instructors information\n",
    "course_with_instructor = db.courses.aggregate([\n",
    "    {\n",
    "        \"$lookup\": {\n",
    "            \"from\": \"users\",\n",
    "            \"localField\": \"instructorId\",\n",
    "            \"foreignField\": \"userId\",\n",
    "            \"as\": \"instructor\"\n",
    "        }\n",
    "    },\n",
    "    { \"$unwind\": \"$instructor\" },  \n",
    "    {\n",
    "        \"$project\": {\n",
    "            \"_id\": 0,\n",
    "            \"courseId\": 1,\n",
    "            \"title\": 1,\n",
    "            \"category\": 1,\n",
    "            \"level\": 1,\n",
    "            \"instructor.firstName\": 1,\n",
    "            \"instructor.lastName\": 1,\n",
    "            \"instructor.email\": 1\n",
    "        }\n",
    "    }\n",
    "])\n",
    "\n",
    "# Convert cursor to list and then to DataFrame\n",
    "courses_df = pd.DataFrame(list(course_with_instructor))\n",
    "\n",
    "# Display the DataFrame\n",
    "print(\"Courses with Instructor Info:\")\n"
   ]
  },
  {
   "cell_type": "markdown",
   "id": "f83a418b",
   "metadata": {},
   "source": [
    "###  Getting all Courses in a Specific Category"
   ]
  },
  {
   "cell_type": "code",
   "execution_count": null,
   "id": "9e75f56d",
   "metadata": {},
   "outputs": [
    {
     "name": "stdout",
     "output_type": "stream",
     "text": [
      "Courses in Data Science:\n",
      "{'courseId': 'CRS009', 'title': 'Data Visualization with Power BI', 'level': 'beginner'}\n"
     ]
    }
   ],
   "source": [
    "#Getting all courses in a specific category\n",
    "category = \"Data Science\"\n",
    "\n",
    "courses_in_category = db.courses.find(\n",
    "    {\"category\": category},\n",
    "    {\"_id\": 0, \"courseId\": 1, \"title\": 1, \"level\": 1}\n",
    ")\n",
    "\n",
    "print(f\"Courses in {category}:\")\n",
    "for course in courses_in_category:\n",
    "    print(course)"
   ]
  },
  {
   "cell_type": "markdown",
   "id": "62e70d7b",
   "metadata": {},
   "source": [
    "### Finding Students Enrolled in a Particular Course\n"
   ]
  },
  {
   "cell_type": "code",
   "execution_count": null,
   "id": "faae5747",
   "metadata": {},
   "outputs": [
    {
     "name": "stdout",
     "output_type": "stream",
     "text": [
      "Students enrolled in CRS001:\n",
      "{'student': {'userId': 'STU011', 'email': 'john87@example.net', 'firstName': 'Autumn', 'lastName': 'Browning'}}\n",
      "{'student': {'userId': 'STU006', 'email': 'antonio63@example.com', 'firstName': 'Nicole', 'lastName': 'Jones'}}\n"
     ]
    }
   ],
   "source": [
    "# Finding student enrolled in a particular course\n",
    "course_id = \"CRS001\"\n",
    "\n",
    "students_in_course = db.enrollments.aggregate([\n",
    "    { \"$match\": {\"courseId\": course_id} },\n",
    "    {\n",
    "        \"$lookup\": {\n",
    "            \"from\": \"users\",\n",
    "            \"localField\": \"studentId\",\n",
    "            \"foreignField\": \"userId\",\n",
    "            \"as\": \"student\"\n",
    "        }\n",
    "    },\n",
    "    { \"$unwind\": \"$student\" },\n",
    "    {\n",
    "        \"$project\": {\n",
    "            \"_id\": 0,\n",
    "            \"student.userId\": 1,\n",
    "            \"student.firstName\": 1,\n",
    "            \"student.lastName\": 1,\n",
    "            \"student.email\": 1\n",
    "        }\n",
    "    }\n",
    "])\n",
    "\n",
    "print(f\"Students enrolled in {course_id}:\")\n",
    "for student in students_in_course:\n",
    "    print(student)"
   ]
  },
  {
   "cell_type": "markdown",
   "id": "f9a28176",
   "metadata": {},
   "source": [
    "### Searching Courses by Title (case-insensitive, partial match)"
   ]
  },
  {
   "cell_type": "code",
   "execution_count": null,
   "id": "5323fd63",
   "metadata": {},
   "outputs": [
    {
     "name": "stdout",
     "output_type": "stream",
     "text": [
      "Courses matching '.*python.*':\n",
      "{'courseId': 'CRS005', 'title': 'Python for Data Analysis', 'category': 'Data Science', 'level': 'beginner'}\n",
      "{'courseId': 'CRS008', 'title': 'Python for Data Analysis', 'category': 'Data Science', 'level': 'advanced'}\n"
     ]
    }
   ],
   "source": [
    "# Searching courses by Title\n",
    "search_term = \".*python.*\"\n",
    "matched_courses = db.courses.find(\n",
    "    {\"title\": {\"$regex\": search_term, \"$options\": \"i\"}},\n",
    "    {\"_id\": 0, \"courseId\": 1, \"title\": 1, \"category\": 1, \"level\": 1}\n",
    ")\n",
    "\n",
    "print(f\"Courses matching '{search_term}':\")\n",
    "for course in matched_courses:\n",
    "    print(course)"
   ]
  },
  {
   "cell_type": "markdown",
   "id": "6c712733",
   "metadata": {},
   "source": [
    "## UPDATE OPERATIONS"
   ]
  },
  {
   "cell_type": "markdown",
   "id": "5ef6d889",
   "metadata": {},
   "source": [
    "### Update a User’s Profile Information"
   ]
  },
  {
   "cell_type": "code",
   "execution_count": 4,
   "id": "654ad5d5",
   "metadata": {},
   "outputs": [
    {
     "name": "stdout",
     "output_type": "stream",
     "text": [
      "Matched: 1, Modified: 1\n"
     ]
    }
   ],
   "source": [
    "#Updating a Useers Profile information\n",
    "user_id = \"STU005\"\n",
    "\n",
    "update_result = db.users.update_one(\n",
    "    {\"userId\": user_id},\n",
    "    {\n",
    "        \"$set\": {\n",
    "            \"profile.bio\": \"Enthusiastic learner with interest in AI and Machine Learning.\",\n",
    "            \"profile.avatar\": \"https://example.com/new_avatar.png\",\n",
    "            \"profile.skills\": [\"Python\", \"SQL\", \"Machine Learning\"]\n",
    "        }\n",
    "    }\n",
    ")\n",
    "\n",
    "print(f\"Matched: {update_result.matched_count}, Modified: {update_result.modified_count}\")"
   ]
  },
  {
   "cell_type": "markdown",
   "id": "9210434e",
   "metadata": {},
   "source": [
    "### Mark a Course as Published"
   ]
  },
  {
   "cell_type": "code",
   "execution_count": 5,
   "id": "890cdf44",
   "metadata": {},
   "outputs": [
    {
     "name": "stdout",
     "output_type": "stream",
     "text": [
      "Course CRS003 marked as published.\n"
     ]
    }
   ],
   "source": [
    "# Marking a course as Published\n",
    "course_id = \"CRS003\"\n",
    "\n",
    "update_result = db.courses.update_one(\n",
    "    {\"courseId\": course_id},\n",
    "    {\"$set\": {\"isPublished\": True, \"updatedAt\": datetime.now()}}\n",
    ")\n",
    "\n",
    "print(f\"Course {course_id} marked as published.\")"
   ]
  },
  {
   "cell_type": "markdown",
   "id": "1ff3efa8",
   "metadata": {},
   "source": [
    "### Update Assignment Grades"
   ]
  },
  {
   "cell_type": "code",
   "execution_count": 7,
   "id": "3d2829c7",
   "metadata": {},
   "outputs": [
    {
     "name": "stdout",
     "output_type": "stream",
     "text": [
      "Updated grade for submission SUB010\n"
     ]
    }
   ],
   "source": [
    "#Updating Assignment Grades\n",
    "submission_id = \"SUB010\"\n",
    "\n",
    "update_result = db.submissions.update_one(\n",
    "    {\"submissionId\": submission_id},\n",
    "    {\n",
    "        \"$set\": {\n",
    "            \"grade\":80,\n",
    "            \"feedback\": \"Excellent work, keep it up!\",\n",
    "            \"gradedAt\": datetime.now()\n",
    "        }\n",
    "    }\n",
    ")\n",
    "\n",
    "print(f\"Updated grade for submission {submission_id}\")"
   ]
  },
  {
   "cell_type": "markdown",
   "id": "9c8e7e90",
   "metadata": {},
   "source": [
    "### Add Tags to an Existing Course"
   ]
  },
  {
   "cell_type": "code",
   "execution_count": 9,
   "id": "149baa1b",
   "metadata": {},
   "outputs": [
    {
     "name": "stdout",
     "output_type": "stream",
     "text": [
      "Tags updated for course CRS005\n"
     ]
    }
   ],
   "source": [
    "#Adding Tags to an Existing Course\n",
    "course_id = \"CRS005\"\n",
    "\n",
    "update_result = db.courses.update_one(\n",
    "    {\"courseId\": course_id},\n",
    "    {\"$addToSet\": {\"tags\": {\"$each\": [\"AI\", \"Data Science\", \"Python\"]}}}\n",
    ")\n",
    "\n",
    "print(f\"Tags updated for course {course_id}\")"
   ]
  },
  {
   "cell_type": "markdown",
   "id": "39be52f2",
   "metadata": {},
   "source": [
    "## DELETE OPERATIONS"
   ]
  },
  {
   "cell_type": "markdown",
   "id": "0e71a5b4",
   "metadata": {},
   "source": [
    "### Remove a User (soft delete by setting isActive to false)\n"
   ]
  },
  {
   "cell_type": "code",
   "execution_count": null,
   "id": "17fc9b24",
   "metadata": {},
   "outputs": [],
   "source": [
    "# Removing user\n",
    "\n"
   ]
  },
  {
   "cell_type": "markdown",
   "id": "2e02e8c6",
   "metadata": {},
   "source": [
    "### Deleting  an Enrollment"
   ]
  },
  {
   "cell_type": "code",
   "execution_count": 11,
   "id": "01c2886e",
   "metadata": {},
   "outputs": [
    {
     "name": "stdout",
     "output_type": "stream",
     "text": [
      "Deleted 1 enrollment(s) with ID ENR005\n"
     ]
    }
   ],
   "source": [
    "#Deleting an Enrollment\n",
    "enrollment_id = \"ENR005\"\n",
    "\n",
    "delete_result = db.enrollments.delete_one({\"enrollmentId\": enrollment_id})\n",
    "\n",
    "print(f\"Deleted {delete_result.deleted_count} enrollment(s) with ID {enrollment_id}\")"
   ]
  },
  {
   "cell_type": "markdown",
   "id": "d150a4b6",
   "metadata": {},
   "source": [
    "###  Remove a Lesson from a Course"
   ]
  },
  {
   "cell_type": "code",
   "execution_count": 10,
   "id": "06ac7474",
   "metadata": {},
   "outputs": [
    {
     "name": "stdout",
     "output_type": "stream",
     "text": [
      "Deleted 1 lesson(s) with ID LES008\n"
     ]
    }
   ],
   "source": [
    "# Removing a lesson from a Course\n",
    "lesson_id = \"LES008\"\n",
    "\n",
    "delete_result = db.lessons.delete_one({\"lessonId\": lesson_id})\n",
    "\n",
    "print(f\"Deleted {delete_result.deleted_count} lesson(s) with ID {lesson_id}\")"
   ]
  },
  {
   "cell_type": "markdown",
   "id": "e2da9b6c",
   "metadata": {},
   "source": []
  },
  {
   "cell_type": "code",
   "execution_count": null,
   "id": "c2ca371c",
   "metadata": {},
   "outputs": [],
   "source": []
  }
 ],
 "metadata": {
  "kernelspec": {
   "display_name": "base",
   "language": "python",
   "name": "python3"
  },
  "language_info": {
   "codemirror_mode": {
    "name": "ipython",
    "version": 3
   },
   "file_extension": ".py",
   "mimetype": "text/x-python",
   "name": "python",
   "nbconvert_exporter": "python",
   "pygments_lexer": "ipython3",
   "version": "3.12.4"
  }
 },
 "nbformat": 4,
 "nbformat_minor": 5
}
