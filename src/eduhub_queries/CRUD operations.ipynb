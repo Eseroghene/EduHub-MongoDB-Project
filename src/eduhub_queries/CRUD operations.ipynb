{
 "cells": [
  {
   "cell_type": "markdown",
   "id": "ff2396d1",
   "metadata": {},
   "source": [
    "# BASIC CRUD OPERATIONS"
   ]
  },
  {
   "cell_type": "code",
   "execution_count": 2,
   "id": "110c59b5",
   "metadata": {},
   "outputs": [],
   "source": [
    "import pandas as pd\n",
    "from datetime import datetime\n",
    "from pymongo import MongoClient\n",
    "# Connect to MongoDB\n",
    "client = MongoClient('mongodb://localhost:27017/')\n",
    "db = client['eduhub_db']"
   ]
  },
  {
   "cell_type": "code",
   "execution_count": 3,
   "id": "f56dcf51",
   "metadata": {},
   "outputs": [
    {
     "name": "stdout",
     "output_type": "stream",
     "text": [
      "Collections in eduhub:\n",
      "['enrollments', 'assignments', 'submissions', 'users', 'lessons', 'courses']\n"
     ]
    }
   ],
   "source": [
    "print(\"Collections in eduhub:\")\n",
    "print(db.list_collection_names())"
   ]
  },
  {
   "cell_type": "markdown",
   "id": "12905f64",
   "metadata": {},
   "source": [
    "## CREATE OPERATIONS"
   ]
  },
  {
   "cell_type": "markdown",
   "id": "79b26750",
   "metadata": {},
   "source": [
    "### Defining Necassary Functions"
   ]
  },
  {
   "cell_type": "code",
   "execution_count": 4,
   "id": "b77b33ce",
   "metadata": {},
   "outputs": [],
   "source": [
    "#Function for adding users/\n",
    "def add_user(db, user_data):\n",
    "    try:\n",
    "        db.users.insert_one(user_data)\n",
    "        print(f\"Added user: {user_data.get('userId')}\")\n",
    "    except Exception as e:\n",
    "        print(f\"Error adding user {user_data.get('userId')}: {e}\")\n",
    "\n",
    "\n",
    "#Function for adding course\n",
    "def add_course(db, course_data):\n",
    "    try:\n",
    "        db.courses.insert_one(course_data)\n",
    "        print(f\"Added course: {course_data.get('courseId')}\")\n",
    "    except Exception as e:\n",
    "        print(f\"Error adding course {course_data.get('courseId')}: {e}\")\n",
    "\n",
    "\n",
    "#Functions for adding Enrollment\n",
    "def add_enrollment(db, enrollment_data):\n",
    "    try:\n",
    "        db.enrollments.insert_one(enrollment_data)\n",
    "        print(f\"Enrolled student {enrollment_data.get('studentId')} in course {enrollment_data.get('courseId')}\")\n",
    "    except Exception as e:\n",
    "        print(f\"Error enrolling student {enrollment_data.get('studentId')}: {e}\")\n",
    "\n",
    "\n",
    "#Function for addind lesson\n",
    "def add_lesson(db, lesson_data):\n",
    "    try:\n",
    "        db.lessons.insert_one(lesson_data)\n",
    "        print(f\"Added lesson {lesson_data.get('lessonId')} to course {lesson_data.get('courseId')}\")\n",
    "    except Exception as e:\n",
    "        print(f\"Error adding lesson {lesson_data.get('lessonId')}: {e}\")"
   ]
  },
  {
   "cell_type": "code",
   "execution_count": 5,
   "id": "67d7020b",
   "metadata": {},
   "outputs": [
    {
     "name": "stdout",
     "output_type": "stream",
     "text": [
      "Added user: STU020\n",
      "Added course: CRS012\n",
      "Enrolled student STU016 in course CRS009\n",
      "Added lesson LES030 to course CRS009\n"
     ]
    }
   ],
   "source": [
    "# --- Adding a new student ---\n",
    "new_student = {\n",
    "    \"userId\": \"STU020\",\n",
    "    \"email\": \"student17@example.com\",\n",
    "    \"firstName\": \"Ada\",\n",
    "    \"lastName\": \"Eze\",\n",
    "    \"role\": \"student\",\n",
    "    \"dateJoined\": datetime.now(),\n",
    "    \"profile\": {\n",
    "        \"bio\": \"Passionate learner exploring data science and analytics.\",\n",
    "        \"avatar\": \"https://example.com/avatar16.png\",\n",
    "        \"skills\": [\"Python\", \"SQL\"]\n",
    "    },\n",
    "    \"isActive\": True\n",
    "}\n",
    "add_user(db, new_student)\n",
    "\n",
    "\n",
    "# --- Adding a new course ---\n",
    "new_course = {\n",
    "    \"courseId\": \"CRS012\",\n",
    "    \"title\": \"Data Visualization with Power BI\",\n",
    "    \"description\": \"Learn to design and develop interactive dashboards with Power BI.\",\n",
    "    \"instructorId\": \"INST001\",\n",
    "    \"category\": \"Data Science\",\n",
    "    \"level\": \"beginner\",\n",
    "    \"duration\": 40,\n",
    "    \"price\": 99.99,\n",
    "    \"tags\": [\"data\", \"visualization\", \"business-intelligence\"],\n",
    "    \"createdAt\": datetime.now(),\n",
    "    \"updatedAt\": datetime.now(),\n",
    "    \"isPublished\": True\n",
    "}\n",
    "add_course(db, new_course)\n",
    "\n",
    "# --- Enrolling a student in a course ---\n",
    "new_enrollment = {\n",
    "    \"enrollmentId\": \"ENR019\",\n",
    "    \"studentId\": \"STU016\",\n",
    "    \"courseId\": \"CRS009\",\n",
    "    \"enrolledAt\": datetime.now(),\n",
    "    \"status\": \"active\"\n",
    "}\n",
    "add_enrollment(db, new_enrollment)\n",
    "\n",
    "# --- Adding a new lesson to an existing course ---\n",
    "new_lesson = {\n",
    "    \"lessonId\": \"LES030\",\n",
    "    \"courseId\": \"CRS009\",\n",
    "    \"title\": \"Getting Started with Power BI\",\n",
    "    \"content\": \"This lesson introduces the Power BI interface and its core features.\",\n",
    "    \"order\": 1,\n",
    "    \"resources\": [\"https://docs.microsoft.com/en-us/power-bi/\"],\n",
    "    \"createdAt\": datetime.now(),\n",
    "    \"updatedAt\": datetime.now()\n",
    "}\n",
    "add_lesson(db, new_lesson)"
   ]
  },
  {
   "cell_type": "markdown",
   "id": "4081405a",
   "metadata": {},
   "source": [
    "## READ OPERATIONS\n"
   ]
  },
  {
   "cell_type": "markdown",
   "id": "273f53ba",
   "metadata": {},
   "source": [
    "### Active Students "
   ]
  },
  {
   "cell_type": "code",
   "execution_count": 7,
   "id": "0419a09a",
   "metadata": {},
   "outputs": [
    {
     "name": "stdout",
     "output_type": "stream",
     "text": [
      "Active Students:\n",
      "\n"
     ]
    },
    {
     "data": {
      "text/html": [
       "<div>\n",
       "<style scoped>\n",
       "    .dataframe tbody tr th:only-of-type {\n",
       "        vertical-align: middle;\n",
       "    }\n",
       "\n",
       "    .dataframe tbody tr th {\n",
       "        vertical-align: top;\n",
       "    }\n",
       "\n",
       "    .dataframe thead th {\n",
       "        text-align: right;\n",
       "    }\n",
       "</style>\n",
       "<table border=\"1\" class=\"dataframe\">\n",
       "  <thead>\n",
       "    <tr style=\"text-align: right;\">\n",
       "      <th></th>\n",
       "      <th>userId</th>\n",
       "      <th>firstName</th>\n",
       "      <th>lastName</th>\n",
       "      <th>email</th>\n",
       "    </tr>\n",
       "  </thead>\n",
       "  <tbody>\n",
       "    <tr>\n",
       "      <th>0</th>\n",
       "      <td>STU001</td>\n",
       "      <td>Thomas</td>\n",
       "      <td>Hammond</td>\n",
       "      <td>floresmichael@example.net</td>\n",
       "    </tr>\n",
       "    <tr>\n",
       "      <th>1</th>\n",
       "      <td>STU006</td>\n",
       "      <td>Crystal</td>\n",
       "      <td>Hudson</td>\n",
       "      <td>mlawrence@example.org</td>\n",
       "    </tr>\n",
       "    <tr>\n",
       "      <th>2</th>\n",
       "      <td>STU007</td>\n",
       "      <td>Brian</td>\n",
       "      <td>Hudson</td>\n",
       "      <td>rodriguezmichael@example.com</td>\n",
       "    </tr>\n",
       "    <tr>\n",
       "      <th>3</th>\n",
       "      <td>STU008</td>\n",
       "      <td>Kenneth</td>\n",
       "      <td>Juarez</td>\n",
       "      <td>kyle36@example.com</td>\n",
       "    </tr>\n",
       "    <tr>\n",
       "      <th>4</th>\n",
       "      <td>STU009</td>\n",
       "      <td>Brandon</td>\n",
       "      <td>Dean</td>\n",
       "      <td>larry46@example.com</td>\n",
       "    </tr>\n",
       "    <tr>\n",
       "      <th>5</th>\n",
       "      <td>STU010</td>\n",
       "      <td>Michelle</td>\n",
       "      <td>Morales</td>\n",
       "      <td>rortiz@example.org</td>\n",
       "    </tr>\n",
       "    <tr>\n",
       "      <th>6</th>\n",
       "      <td>STU011</td>\n",
       "      <td>Daniel</td>\n",
       "      <td>Myers</td>\n",
       "      <td>utownsend@example.net</td>\n",
       "    </tr>\n",
       "    <tr>\n",
       "      <th>7</th>\n",
       "      <td>STU012</td>\n",
       "      <td>Kelly</td>\n",
       "      <td>Marquez</td>\n",
       "      <td>smithelizabeth@example.net</td>\n",
       "    </tr>\n",
       "    <tr>\n",
       "      <th>8</th>\n",
       "      <td>STU015</td>\n",
       "      <td>Donald</td>\n",
       "      <td>Baker</td>\n",
       "      <td>amanda21@example.org</td>\n",
       "    </tr>\n",
       "    <tr>\n",
       "      <th>9</th>\n",
       "      <td>STU020</td>\n",
       "      <td>Ada</td>\n",
       "      <td>Eze</td>\n",
       "      <td>student17@example.com</td>\n",
       "    </tr>\n",
       "  </tbody>\n",
       "</table>\n",
       "</div>"
      ],
      "text/plain": [
       "   userId firstName lastName                         email\n",
       "0  STU001    Thomas  Hammond     floresmichael@example.net\n",
       "1  STU006   Crystal   Hudson         mlawrence@example.org\n",
       "2  STU007     Brian   Hudson  rodriguezmichael@example.com\n",
       "3  STU008   Kenneth   Juarez            kyle36@example.com\n",
       "4  STU009   Brandon     Dean           larry46@example.com\n",
       "5  STU010  Michelle  Morales            rortiz@example.org\n",
       "6  STU011    Daniel    Myers         utownsend@example.net\n",
       "7  STU012     Kelly  Marquez    smithelizabeth@example.net\n",
       "8  STU015    Donald    Baker          amanda21@example.org\n",
       "9  STU020       Ada      Eze         student17@example.com"
      ]
     },
     "execution_count": 7,
     "metadata": {},
     "output_type": "execute_result"
    }
   ],
   "source": [
    "#Finding all active student\n",
    "def get_active_students(db):\n",
    "    # Fetch all active students and return as a DataFrame\n",
    "    try:\n",
    "        active_students = db.users.find(\n",
    "            {\"role\": \"student\", \"isActive\": True},\n",
    "            {\"_id\": 0, \"userId\": 1, \"firstName\": 1, \"lastName\": 1, \"email\": 1}\n",
    "        )\n",
    "        active_students_list = list(active_students)\n",
    "\n",
    "        df_active_students = pd.DataFrame(active_students_list)\n",
    "\n",
    "        if not df_active_students.empty:\n",
    "            df_active_students = df_active_students[['userId', 'firstName', 'lastName', 'email']]\n",
    "            print(\"Active Students:\\n\")\n",
    "            return df_active_students\n",
    "        else:\n",
    "            print(\"No active students found.\")\n",
    "            return pd.DataFrame()\n",
    "\n",
    "    except Exception as e:\n",
    "        print(\"Error fetching active students:\", e)\n",
    "        return pd.DataFrame()\n",
    "    \n",
    "#Use Case \n",
    "get_active_students(db)"
   ]
  },
  {
   "cell_type": "markdown",
   "id": "ac446b0f",
   "metadata": {},
   "source": [
    "### Retrieving Course Details with Instructor Information"
   ]
  },
  {
   "cell_type": "code",
   "execution_count": 10,
   "id": "31d23fd0",
   "metadata": {},
   "outputs": [
    {
     "name": "stdout",
     "output_type": "stream",
     "text": [
      "Instructors with courses;\n",
      "\n"
     ]
    },
    {
     "data": {
      "text/html": [
       "<div>\n",
       "<style scoped>\n",
       "    .dataframe tbody tr th:only-of-type {\n",
       "        vertical-align: middle;\n",
       "    }\n",
       "\n",
       "    .dataframe tbody tr th {\n",
       "        vertical-align: top;\n",
       "    }\n",
       "\n",
       "    .dataframe thead th {\n",
       "        text-align: right;\n",
       "    }\n",
       "</style>\n",
       "<table border=\"1\" class=\"dataframe\">\n",
       "  <thead>\n",
       "    <tr style=\"text-align: right;\">\n",
       "      <th></th>\n",
       "      <th>courseId</th>\n",
       "      <th>title</th>\n",
       "      <th>category</th>\n",
       "      <th>level</th>\n",
       "      <th>instructorFirstName</th>\n",
       "      <th>instructorLastName</th>\n",
       "      <th>instructorEmail</th>\n",
       "    </tr>\n",
       "  </thead>\n",
       "  <tbody>\n",
       "    <tr>\n",
       "      <th>0</th>\n",
       "      <td>CRS001</td>\n",
       "      <td>DevOps Fundamentals</td>\n",
       "      <td>Cloud Computing</td>\n",
       "      <td>intermediate</td>\n",
       "      <td>Matthew</td>\n",
       "      <td>Palmer</td>\n",
       "      <td>abishop@example.com</td>\n",
       "    </tr>\n",
       "    <tr>\n",
       "      <th>1</th>\n",
       "      <td>CRS002</td>\n",
       "      <td>Introduction to Data Science</td>\n",
       "      <td>Data Science</td>\n",
       "      <td>intermediate</td>\n",
       "      <td>Matthew</td>\n",
       "      <td>Palmer</td>\n",
       "      <td>abishop@example.com</td>\n",
       "    </tr>\n",
       "    <tr>\n",
       "      <th>2</th>\n",
       "      <td>CRS003</td>\n",
       "      <td>Frontend Development with React</td>\n",
       "      <td>Web Development</td>\n",
       "      <td>intermediate</td>\n",
       "      <td>Kristen</td>\n",
       "      <td>Mclean</td>\n",
       "      <td>xcarpenter@example.net</td>\n",
       "    </tr>\n",
       "    <tr>\n",
       "      <th>3</th>\n",
       "      <td>CRS004</td>\n",
       "      <td>Serverless Applications on Cloud</td>\n",
       "      <td>Cloud Computing</td>\n",
       "      <td>advanced</td>\n",
       "      <td>Kristen</td>\n",
       "      <td>Mclean</td>\n",
       "      <td>xcarpenter@example.net</td>\n",
       "    </tr>\n",
       "    <tr>\n",
       "      <th>4</th>\n",
       "      <td>CRS005</td>\n",
       "      <td>Python for Data Analysis</td>\n",
       "      <td>Data Science</td>\n",
       "      <td>advanced</td>\n",
       "      <td>Mallory</td>\n",
       "      <td>Henson</td>\n",
       "      <td>susanford@example.org</td>\n",
       "    </tr>\n",
       "    <tr>\n",
       "      <th>5</th>\n",
       "      <td>CRS006</td>\n",
       "      <td>Introduction to Data Science</td>\n",
       "      <td>Data Science</td>\n",
       "      <td>advanced</td>\n",
       "      <td>Mallory</td>\n",
       "      <td>Henson</td>\n",
       "      <td>susanford@example.org</td>\n",
       "    </tr>\n",
       "    <tr>\n",
       "      <th>6</th>\n",
       "      <td>CRS007</td>\n",
       "      <td>Serverless Applications on Cloud</td>\n",
       "      <td>Cloud Computing</td>\n",
       "      <td>beginner</td>\n",
       "      <td>Matthew</td>\n",
       "      <td>Palmer</td>\n",
       "      <td>abishop@example.com</td>\n",
       "    </tr>\n",
       "    <tr>\n",
       "      <th>7</th>\n",
       "      <td>CRS008</td>\n",
       "      <td>Introduction to Data Science</td>\n",
       "      <td>Data Science</td>\n",
       "      <td>intermediate</td>\n",
       "      <td>Mallory</td>\n",
       "      <td>Henson</td>\n",
       "      <td>susanford@example.org</td>\n",
       "    </tr>\n",
       "    <tr>\n",
       "      <th>8</th>\n",
       "      <td>CRS012</td>\n",
       "      <td>Data Visualization with Power BI</td>\n",
       "      <td>Data Science</td>\n",
       "      <td>beginner</td>\n",
       "      <td>Brian</td>\n",
       "      <td>Richmond</td>\n",
       "      <td>rayamanda@example.net</td>\n",
       "    </tr>\n",
       "  </tbody>\n",
       "</table>\n",
       "</div>"
      ],
      "text/plain": [
       "  courseId                             title         category         level  \\\n",
       "0   CRS001               DevOps Fundamentals  Cloud Computing  intermediate   \n",
       "1   CRS002      Introduction to Data Science     Data Science  intermediate   \n",
       "2   CRS003   Frontend Development with React  Web Development  intermediate   \n",
       "3   CRS004  Serverless Applications on Cloud  Cloud Computing      advanced   \n",
       "4   CRS005          Python for Data Analysis     Data Science      advanced   \n",
       "5   CRS006      Introduction to Data Science     Data Science      advanced   \n",
       "6   CRS007  Serverless Applications on Cloud  Cloud Computing      beginner   \n",
       "7   CRS008      Introduction to Data Science     Data Science  intermediate   \n",
       "8   CRS012  Data Visualization with Power BI     Data Science      beginner   \n",
       "\n",
       "  instructorFirstName instructorLastName         instructorEmail  \n",
       "0             Matthew             Palmer     abishop@example.com  \n",
       "1             Matthew             Palmer     abishop@example.com  \n",
       "2             Kristen             Mclean  xcarpenter@example.net  \n",
       "3             Kristen             Mclean  xcarpenter@example.net  \n",
       "4             Mallory             Henson   susanford@example.org  \n",
       "5             Mallory             Henson   susanford@example.org  \n",
       "6             Matthew             Palmer     abishop@example.com  \n",
       "7             Mallory             Henson   susanford@example.org  \n",
       "8               Brian           Richmond   rayamanda@example.net  "
      ]
     },
     "execution_count": 10,
     "metadata": {},
     "output_type": "execute_result"
    }
   ],
   "source": [
    "# Retrieving the Course Details \n",
    "def get_courses_with_instructor(db):\n",
    "    # Fetch courses along with instructor information\n",
    "    try:\n",
    "        course_with_instructor = db.courses.aggregate([\n",
    "            {\n",
    "                \"$lookup\": {\n",
    "                    \"from\": \"users\",\n",
    "                    \"localField\": \"instructorId\",\n",
    "                    \"foreignField\": \"userId\",\n",
    "                    \"as\": \"instructor\"\n",
    "                }\n",
    "            },\n",
    "            {\"$unwind\": \"$instructor\"},\n",
    "            {\n",
    "                \"$project\": {\n",
    "                    \"_id\": 0,\n",
    "                    \"courseId\": 1,\n",
    "                    \"title\": 1,\n",
    "                    \"category\": 1,\n",
    "                    \"level\": 1,\n",
    "                    \"instructorFirstName\": \"$instructor.firstName\",\n",
    "                    \"instructorLastName\": \"$instructor.lastName\",\n",
    "                    \"instructorEmail\": \"$instructor.email\"\n",
    "                }\n",
    "            }\n",
    "        ])\n",
    "\n",
    "        courses_list = list(course_with_instructor)\n",
    "\n",
    "        df_courses = pd.DataFrame(courses_list)\n",
    "\n",
    "        if not df_courses.empty:\n",
    "            df_courses = df_courses[['courseId', 'title', 'category', 'level',\n",
    "                                     'instructorFirstName', 'instructorLastName', 'instructorEmail']]\n",
    "            \n",
    "            print(\"Instructors with courses;\\n\")\n",
    "            return df_courses\n",
    "        else:\n",
    "            return pd.DataFrame()\n",
    "\n",
    "    except Exception as e:\n",
    "        print(\"Error fetching courses with instructor info:\", e)\n",
    "        return pd.DataFrame()\n",
    "    \n",
    "#Use Case \n",
    "get_courses_with_instructor(db)"
   ]
  },
  {
   "cell_type": "markdown",
   "id": "f83a418b",
   "metadata": {},
   "source": [
    "###  Getting all Courses in a Specific Category"
   ]
  },
  {
   "cell_type": "code",
   "execution_count": 11,
   "id": "9e75f56d",
   "metadata": {},
   "outputs": [
    {
     "name": "stdout",
     "output_type": "stream",
     "text": [
      "Courses in specific category:\n",
      "\n"
     ]
    },
    {
     "data": {
      "text/html": [
       "<div>\n",
       "<style scoped>\n",
       "    .dataframe tbody tr th:only-of-type {\n",
       "        vertical-align: middle;\n",
       "    }\n",
       "\n",
       "    .dataframe tbody tr th {\n",
       "        vertical-align: top;\n",
       "    }\n",
       "\n",
       "    .dataframe thead th {\n",
       "        text-align: right;\n",
       "    }\n",
       "</style>\n",
       "<table border=\"1\" class=\"dataframe\">\n",
       "  <thead>\n",
       "    <tr style=\"text-align: right;\">\n",
       "      <th></th>\n",
       "      <th>courseId</th>\n",
       "      <th>title</th>\n",
       "      <th>level</th>\n",
       "    </tr>\n",
       "  </thead>\n",
       "  <tbody>\n",
       "    <tr>\n",
       "      <th>0</th>\n",
       "      <td>CRS002</td>\n",
       "      <td>Introduction to Data Science</td>\n",
       "      <td>intermediate</td>\n",
       "    </tr>\n",
       "    <tr>\n",
       "      <th>1</th>\n",
       "      <td>CRS005</td>\n",
       "      <td>Python for Data Analysis</td>\n",
       "      <td>advanced</td>\n",
       "    </tr>\n",
       "    <tr>\n",
       "      <th>2</th>\n",
       "      <td>CRS006</td>\n",
       "      <td>Introduction to Data Science</td>\n",
       "      <td>advanced</td>\n",
       "    </tr>\n",
       "    <tr>\n",
       "      <th>3</th>\n",
       "      <td>CRS008</td>\n",
       "      <td>Introduction to Data Science</td>\n",
       "      <td>intermediate</td>\n",
       "    </tr>\n",
       "    <tr>\n",
       "      <th>4</th>\n",
       "      <td>CRS012</td>\n",
       "      <td>Data Visualization with Power BI</td>\n",
       "      <td>beginner</td>\n",
       "    </tr>\n",
       "  </tbody>\n",
       "</table>\n",
       "</div>"
      ],
      "text/plain": [
       "  courseId                             title         level\n",
       "0   CRS002      Introduction to Data Science  intermediate\n",
       "1   CRS005          Python for Data Analysis      advanced\n",
       "2   CRS006      Introduction to Data Science      advanced\n",
       "3   CRS008      Introduction to Data Science  intermediate\n",
       "4   CRS012  Data Visualization with Power BI      beginner"
      ]
     },
     "execution_count": 11,
     "metadata": {},
     "output_type": "execute_result"
    }
   ],
   "source": [
    "#Getting all courses in a specific category\n",
    "\n",
    "category = \"Data Science\"\n",
    "\n",
    "def get_courses_by_category(db, category):\n",
    "    # Fetch courses in a given category\n",
    "    try:\n",
    "        courses_in_category = db.courses.find(\n",
    "            {\"category\": category},\n",
    "            {\"_id\": 0, \"courseId\": 1, \"title\": 1, \"level\": 1}\n",
    "        )\n",
    "        \n",
    "        courses_list = list(courses_in_category)\n",
    "        df_courses_category = pd.DataFrame(courses_list)\n",
    "\n",
    "        if not df_courses_category.empty:\n",
    "            df_courses_category = df_courses_category[['courseId', 'title', 'level']]\n",
    "            print(\"Courses in specific category:\\n\")\n",
    "            return df_courses_category\n",
    "        else:\n",
    "            return pd.DataFrame()\n",
    "\n",
    "    except Exception as e:\n",
    "        print(f\"Error fetching courses in category '{category}': {e}\")\n",
    "        return pd.DataFrame()\n",
    "    \n",
    "# Use Case \n",
    "get_courses_by_category(db, category)"
   ]
  },
  {
   "cell_type": "markdown",
   "id": "62e70d7b",
   "metadata": {},
   "source": [
    "### Finding Students Enrolled in a Particular Course\n"
   ]
  },
  {
   "cell_type": "code",
   "execution_count": 15,
   "id": "faae5747",
   "metadata": {},
   "outputs": [
    {
     "name": "stdout",
     "output_type": "stream",
     "text": [
      "Students enrolled in CRS005:\n",
      "\n"
     ]
    },
    {
     "data": {
      "text/html": [
       "<div>\n",
       "<style scoped>\n",
       "    .dataframe tbody tr th:only-of-type {\n",
       "        vertical-align: middle;\n",
       "    }\n",
       "\n",
       "    .dataframe tbody tr th {\n",
       "        vertical-align: top;\n",
       "    }\n",
       "\n",
       "    .dataframe thead th {\n",
       "        text-align: right;\n",
       "    }\n",
       "</style>\n",
       "<table border=\"1\" class=\"dataframe\">\n",
       "  <thead>\n",
       "    <tr style=\"text-align: right;\">\n",
       "      <th></th>\n",
       "      <th>userId</th>\n",
       "      <th>firstName</th>\n",
       "      <th>lastName</th>\n",
       "      <th>email</th>\n",
       "    </tr>\n",
       "  </thead>\n",
       "  <tbody>\n",
       "    <tr>\n",
       "      <th>0</th>\n",
       "      <td>STU003</td>\n",
       "      <td>Karen</td>\n",
       "      <td>Parker</td>\n",
       "      <td>usmith@example.com</td>\n",
       "    </tr>\n",
       "    <tr>\n",
       "      <th>1</th>\n",
       "      <td>STU012</td>\n",
       "      <td>Kelly</td>\n",
       "      <td>Marquez</td>\n",
       "      <td>smithelizabeth@example.net</td>\n",
       "    </tr>\n",
       "    <tr>\n",
       "      <th>2</th>\n",
       "      <td>STU010</td>\n",
       "      <td>Michelle</td>\n",
       "      <td>Morales</td>\n",
       "      <td>rortiz@example.org</td>\n",
       "    </tr>\n",
       "  </tbody>\n",
       "</table>\n",
       "</div>"
      ],
      "text/plain": [
       "   userId firstName lastName                       email\n",
       "0  STU003     Karen   Parker          usmith@example.com\n",
       "1  STU012     Kelly  Marquez  smithelizabeth@example.net\n",
       "2  STU010  Michelle  Morales          rortiz@example.org"
      ]
     },
     "execution_count": 15,
     "metadata": {},
     "output_type": "execute_result"
    }
   ],
   "source": [
    "# Finding student enrolled in a particular course\n",
    "\n",
    "def get_students_in_course(db, course_id):\n",
    "    try:\n",
    "        # Aggregate students enrolled in a specific course\n",
    "        students_in_course = db.enrollments.aggregate([\n",
    "            { \"$match\": {\"courseId\": course_id} },\n",
    "            {\n",
    "                \"$lookup\": {\n",
    "                    \"from\": \"users\",\n",
    "                    \"localField\": \"studentId\",\n",
    "                    \"foreignField\": \"userId\",\n",
    "                    \"as\": \"student\"\n",
    "                }\n",
    "            },\n",
    "            { \"$unwind\": \"$student\" },\n",
    "            {\n",
    "                \"$project\": {\n",
    "                    \"_id\": 0,\n",
    "                    \"userId\": \"$student.userId\",\n",
    "                    \"firstName\": \"$student.firstName\",\n",
    "                    \"lastName\": \"$student.lastName\",\n",
    "                    \"email\": \"$student.email\"\n",
    "                }\n",
    "            }\n",
    "        ])\n",
    "\n",
    "        # Convert aggregation cursor to list\n",
    "        students_list = list(students_in_course)\n",
    "\n",
    "        # Convert list to DataFrame\n",
    "        df_students = pd.DataFrame(students_list)\n",
    "\n",
    "        # Reorder columns\n",
    "        df_students = df_students[['userId', 'firstName', 'lastName', 'email']]\n",
    "\n",
    "        # Display the DataFrame\n",
    "        print(f\"Students enrolled in {course_id}:\\n\")\n",
    "        \n",
    "\n",
    "        return df_students\n",
    "\n",
    "    except Exception as e:\n",
    "        print(f\"Error fetching students for course '{course_id}': {e}\")\n",
    "        return pd.DataFrame()\n",
    "    \n",
    "# Use Case \n",
    "course_id = \"CRS005\"\n",
    "get_students_in_course(db,course_id )"
   ]
  },
  {
   "cell_type": "markdown",
   "id": "f9a28176",
   "metadata": {},
   "source": [
    "### Searching Courses by Title (case-insensitive, partial match)"
   ]
  },
  {
   "cell_type": "code",
   "execution_count": 19,
   "id": "5323fd63",
   "metadata": {},
   "outputs": [
    {
     "name": "stdout",
     "output_type": "stream",
     "text": [
      "Courses matching 'Data Science':\n",
      "\n"
     ]
    },
    {
     "data": {
      "text/html": [
       "<div>\n",
       "<style scoped>\n",
       "    .dataframe tbody tr th:only-of-type {\n",
       "        vertical-align: middle;\n",
       "    }\n",
       "\n",
       "    .dataframe tbody tr th {\n",
       "        vertical-align: top;\n",
       "    }\n",
       "\n",
       "    .dataframe thead th {\n",
       "        text-align: right;\n",
       "    }\n",
       "</style>\n",
       "<table border=\"1\" class=\"dataframe\">\n",
       "  <thead>\n",
       "    <tr style=\"text-align: right;\">\n",
       "      <th></th>\n",
       "      <th>courseId</th>\n",
       "      <th>title</th>\n",
       "      <th>category</th>\n",
       "      <th>level</th>\n",
       "    </tr>\n",
       "  </thead>\n",
       "  <tbody>\n",
       "    <tr>\n",
       "      <th>0</th>\n",
       "      <td>CRS002</td>\n",
       "      <td>Introduction to Data Science</td>\n",
       "      <td>Data Science</td>\n",
       "      <td>intermediate</td>\n",
       "    </tr>\n",
       "    <tr>\n",
       "      <th>1</th>\n",
       "      <td>CRS006</td>\n",
       "      <td>Introduction to Data Science</td>\n",
       "      <td>Data Science</td>\n",
       "      <td>advanced</td>\n",
       "    </tr>\n",
       "    <tr>\n",
       "      <th>2</th>\n",
       "      <td>CRS008</td>\n",
       "      <td>Introduction to Data Science</td>\n",
       "      <td>Data Science</td>\n",
       "      <td>intermediate</td>\n",
       "    </tr>\n",
       "  </tbody>\n",
       "</table>\n",
       "</div>"
      ],
      "text/plain": [
       "  courseId                         title      category         level\n",
       "0   CRS002  Introduction to Data Science  Data Science  intermediate\n",
       "1   CRS006  Introduction to Data Science  Data Science      advanced\n",
       "2   CRS008  Introduction to Data Science  Data Science  intermediate"
      ]
     },
     "execution_count": 19,
     "metadata": {},
     "output_type": "execute_result"
    }
   ],
   "source": [
    "# Searching courses by Title\n",
    "search_term = \"Data Science\"\n",
    "\n",
    "def search_courses_by_title(db, search_term):\n",
    "    try:\n",
    "        # Query courses matching the regex\n",
    "        matched_courses = db.courses.find(\n",
    "            {\"title\": {\"$regex\": search_term, \"$options\": \"i\"}},\n",
    "            {\"_id\": 0, \"courseId\": 1, \"title\": 1, \"category\": 1, \"level\": 1}\n",
    "        )\n",
    "\n",
    "        matched_courses_list = list(matched_courses)\n",
    "\n",
    "        # Convert list to DataFrame\n",
    "        df_matched_courses = pd.DataFrame(matched_courses_list)\n",
    "\n",
    "        # Reorder columns\n",
    "        df_matched_courses = df_matched_courses[['courseId', 'title', 'category', 'level']]\n",
    "\n",
    "        # Display the DataFrame\n",
    "        print(f\"Courses matching '{search_term}':\\n\")\n",
    "        return df_matched_courses\n",
    "\n",
    "    except Exception as e:\n",
    "        print(f\"Error searching courses with term '{search_term}': {e}\")\n",
    "        return pd.DataFrame()\n",
    "    \n",
    "# Use Case \n",
    "search_courses_by_title(db, search_term)"
   ]
  },
  {
   "cell_type": "markdown",
   "id": "6c712733",
   "metadata": {},
   "source": [
    "## UPDATE OPERATIONS"
   ]
  },
  {
   "cell_type": "markdown",
   "id": "5ef6d889",
   "metadata": {},
   "source": [
    "### Update a User’s Profile Information"
   ]
  },
  {
   "cell_type": "code",
   "execution_count": null,
   "id": "654ad5d5",
   "metadata": {},
   "outputs": [
    {
     "name": "stdout",
     "output_type": "stream",
     "text": [
      "User STU015 profile updated successfully.\n"
     ]
    }
   ],
   "source": [
    "#Updating a Useers Profile information\n",
    "def update_user_profile(db, user_id, bio, avatar, skills):\n",
    "    try:\n",
    "        db.users.update_one(\n",
    "            {\"userId\": user_id},\n",
    "            {\n",
    "                \"$set\": {\n",
    "                    \"profile.bio\": bio,\n",
    "                    \"profile.avatar\": avatar,\n",
    "                    \"profile.skills\": skills\n",
    "                }\n",
    "            }\n",
    "        )\n",
    "        print(f\"User {user_id} profile updated successfully.\")\n",
    "\n",
    "    except Exception as e:\n",
    "        print(f\"Error updating user {user_id}: {e}\")\n",
    "\n",
    "# Use Case \n",
    "update_user_profile(\n",
    "    db, \n",
    "    user_id=\"STU015\", \n",
    "    bio=\"Enthusiastic learner with interest in AI and Machine Learning.\",\n",
    "    avatar=\"https://example.com/new_avatar.png\",\n",
    "    skills=[\"Python\", \"SQL\", \"Machine Learning\"]\n",
    ")\n"
   ]
  },
  {
   "cell_type": "markdown",
   "id": "9210434e",
   "metadata": {},
   "source": [
    "### Mark a Course as Published"
   ]
  },
  {
   "cell_type": "code",
   "execution_count": 21,
   "id": "890cdf44",
   "metadata": {},
   "outputs": [
    {
     "name": "stdout",
     "output_type": "stream",
     "text": [
      "Course CRS004 marked as published successfully.\n"
     ]
    }
   ],
   "source": [
    "# Marking a course as published\n",
    "\n",
    "def publish_course(db, course_id):\n",
    "    try:\n",
    "        db.courses.update_one(\n",
    "            {\"courseId\": course_id},\n",
    "            {\"$set\": {\"isPublished\": True, \"updatedAt\": datetime.now()}}\n",
    "        )\n",
    "        print(f\"Course {course_id} marked as published successfully.\")\n",
    "\n",
    "    except Exception as e:\n",
    "        print(f\"Error marking course {course_id} as published: {e}\")\n",
    "\n",
    "# Use Case \n",
    "publish_course(db, \"CRS004\")\n"
   ]
  },
  {
   "cell_type": "markdown",
   "id": "1ff3efa8",
   "metadata": {},
   "source": [
    "### Update Assignment Grades"
   ]
  },
  {
   "cell_type": "code",
   "execution_count": 23,
   "id": "3d2829c7",
   "metadata": {},
   "outputs": [
    {
     "name": "stdout",
     "output_type": "stream",
     "text": [
      "Updated grade and status for submission SUB011 successfully.\n"
     ]
    }
   ],
   "source": [
    "#Updating Assignment Grades\n",
    "def update_submission_grade(db, submission_id, grade, feedback, status):\n",
    "    try:\n",
    "        db.submissions.update_one(\n",
    "            {\"submissionId\": submission_id},\n",
    "            {\n",
    "                \"$set\": {\n",
    "                    \"grade\": grade,\n",
    "                    \"feedback\": feedback,\n",
    "                    \"status\": status,\n",
    "                    \"gradedAt\": datetime.now()\n",
    "                }\n",
    "            }\n",
    "        )\n",
    "        print(f\"Updated grade and status for submission {submission_id} successfully.\")\n",
    "\n",
    "    except Exception as e:\n",
    "        print(f\"Error updating grade for submission {submission_id}: {e}\")\n",
    "\n",
    "# Use Case \n",
    "update_submission_grade(db, \"SUB011\", 85, \"Great improvement!\", \"graded\")"
   ]
  },
  {
   "cell_type": "markdown",
   "id": "9c8e7e90",
   "metadata": {},
   "source": [
    "### Add Tags to an Existing Course"
   ]
  },
  {
   "cell_type": "code",
   "execution_count": null,
   "id": "149baa1b",
   "metadata": {},
   "outputs": [
    {
     "name": "stdout",
     "output_type": "stream",
     "text": [
      "Tags updated for course CRS005 successfully.\n"
     ]
    }
   ],
   "source": [
    "#Adding Tags to an Existing Course\n",
    "def update_course_tags(db, course_id, tags):\n",
    "    try:\n",
    "        db.courses.update_one(\n",
    "            {\"courseId\": course_id},\n",
    "            {\"$addToSet\": {\"tags\": {\"$each\": tags}}}\n",
    "        )\n",
    "        print(f\"Tags updated for course {course_id} successfully.\")\n",
    "\n",
    "    except Exception as e:\n",
    "        print(f\"Error updating tags for course {course_id}: {e}\")\n",
    "\n",
    "# Use Case\n",
    "update_course_tags(db, \"CRS005\", [\"AI\", \"Data Science\", \"Python\"])"
   ]
  },
  {
   "cell_type": "markdown",
   "id": "39be52f2",
   "metadata": {},
   "source": [
    "## DELETE OPERATIONS"
   ]
  },
  {
   "cell_type": "markdown",
   "id": "0e71a5b4",
   "metadata": {},
   "source": [
    "### Remove a User (soft delete by setting isActive to false)\n"
   ]
  },
  {
   "cell_type": "code",
   "execution_count": 25,
   "id": "17fc9b24",
   "metadata": {},
   "outputs": [
    {
     "name": "stdout",
     "output_type": "stream",
     "text": [
      "User STU006 has been deactivated successfully.\n"
     ]
    }
   ],
   "source": [
    "# Removing user\n",
    "def deactivate_user(db, user_id):\n",
    "    try:\n",
    "        db.users.update_one(\n",
    "            {\"userId\": user_id},\n",
    "            {\"$set\": {\"isActive\": False, \"updatedAt\": datetime.now()}}\n",
    "        )\n",
    "        print(f\"User {user_id} has been deactivated successfully.\")\n",
    "    except Exception as e:\n",
    "        print(f\"Error deactivating user {user_id}: {e}\")\n",
    "\n",
    "# Use Case \n",
    "deactivate_user(db, \"STU006\")"
   ]
  },
  {
   "cell_type": "markdown",
   "id": "2e02e8c6",
   "metadata": {},
   "source": [
    "### Deleting  an Enrollment"
   ]
  },
  {
   "cell_type": "code",
   "execution_count": 26,
   "id": "01c2886e",
   "metadata": {},
   "outputs": [
    {
     "name": "stdout",
     "output_type": "stream",
     "text": [
      "Deleted 1 enrollment(s) with ID ENR005\n"
     ]
    }
   ],
   "source": [
    "#Deleting an Enrollment\n",
    "def delete_enrollment(db, enrollment_id):\n",
    "    try:\n",
    "        delete_result = db.enrollments.delete_one({\"enrollmentId\": enrollment_id})\n",
    "        print(f\"Deleted {delete_result.deleted_count} enrollment(s) with ID {enrollment_id}\")\n",
    "    except Exception as e:\n",
    "        print(f\"Error deleting enrollment {enrollment_id}: {e}\")\n",
    "\n",
    "# Use Case \n",
    "delete_enrollment(db, \"ENR005\")"
   ]
  },
  {
   "cell_type": "markdown",
   "id": "d150a4b6",
   "metadata": {},
   "source": [
    "###  Remove a Lesson from a Course"
   ]
  },
  {
   "cell_type": "code",
   "execution_count": 27,
   "id": "06ac7474",
   "metadata": {},
   "outputs": [
    {
     "name": "stdout",
     "output_type": "stream",
     "text": [
      "Deleted 1 lesson(s) with ID LES008\n"
     ]
    }
   ],
   "source": [
    "# Removing a lesson from a Course\n",
    "def delete_lesson(db, lesson_id):\n",
    "    try:\n",
    "        delete_result = db.lessons.delete_one({\"lessonId\": lesson_id})\n",
    "        print(f\"Deleted {delete_result.deleted_count} lesson(s) with ID {lesson_id}\")\n",
    "    except Exception as e:\n",
    "        print(f\"Error deleting lesson {lesson_id}: {e}\")\n",
    "\n",
    "# Use Case \n",
    "delete_lesson(db, \"LES008\")\n"
   ]
  },
  {
   "cell_type": "markdown",
   "id": "e2da9b6c",
   "metadata": {},
   "source": []
  },
  {
   "cell_type": "code",
   "execution_count": null,
   "id": "c2ca371c",
   "metadata": {},
   "outputs": [],
   "source": []
  }
 ],
 "metadata": {
  "kernelspec": {
   "display_name": "base",
   "language": "python",
   "name": "python3"
  },
  "language_info": {
   "codemirror_mode": {
    "name": "ipython",
    "version": 3
   },
   "file_extension": ".py",
   "mimetype": "text/x-python",
   "name": "python",
   "nbconvert_exporter": "python",
   "pygments_lexer": "ipython3",
   "version": "3.12.4"
  }
 },
 "nbformat": 4,
 "nbformat_minor": 5
}
