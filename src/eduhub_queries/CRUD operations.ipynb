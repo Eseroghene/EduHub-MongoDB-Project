{
 "cells": [
  {
   "cell_type": "markdown",
   "id": "ff2396d1",
   "metadata": {},
   "source": [
    "# BASIC CRUD OPERATIONS"
   ]
  },
  {
   "cell_type": "code",
   "execution_count": 32,
   "id": "110c59b5",
   "metadata": {},
   "outputs": [],
   "source": [
    "import pandas as pd\n",
    "from datetime import datetime\n",
    "from pymongo import MongoClient\n",
    "# Connect to MongoDB\n",
    "client = MongoClient('mongodb://localhost:27017/')\n",
    "db = client['eduhub_db']"
   ]
  },
  {
   "cell_type": "code",
   "execution_count": 33,
   "id": "f56dcf51",
   "metadata": {},
   "outputs": [
    {
     "name": "stdout",
     "output_type": "stream",
     "text": [
      "Collections in eduhub:\n",
      "['users', 'assignments', 'enrollments', 'courses', 'submissions', 'lessons']\n"
     ]
    }
   ],
   "source": [
    "print(\"Collections in eduhub:\")\n",
    "print(db.list_collection_names())"
   ]
  },
  {
   "cell_type": "markdown",
   "id": "12905f64",
   "metadata": {},
   "source": [
    "## CREATE OPERATIONS"
   ]
  },
  {
   "cell_type": "code",
   "execution_count": 34,
   "id": "8363536a",
   "metadata": {},
   "outputs": [
    {
     "name": "stdout",
     "output_type": "stream",
     "text": [
      "Added new student\n",
      "Added new course\n",
      "Enrolled student in course\n",
      "Added new lesson to course\n"
     ]
    }
   ],
   "source": [
    "# Adding a new student\n",
    "new_student = {\n",
    "    \"userId\": \"STU020\",\n",
    "    \"email\": \"student17@example.com\",\n",
    "    \"firstName\": \"Ada\",\n",
    "    \"lastName\": \"Eze\",\n",
    "    \"role\": \"student\",\n",
    "    \"dateJoined\": datetime.now(),\n",
    "    \"profile\": {\n",
    "        \"bio\": \"Passionate learner exploring data science and analytics.\",\n",
    "        \"avatar\": \"https://example.com/avatar16.png\",\n",
    "        \"skills\": [\"Python\", \"SQL\"]\n",
    "    },\n",
    "    \"isActive\": True\n",
    "}\n",
    "\n",
    "try:\n",
    "    db.users.insert_one(new_student)\n",
    "    print(\"Added new student\")\n",
    "except Exception as e:\n",
    "    print(\"Error adding new student:\", e)\n",
    "\n",
    "\n",
    "# Creating a new course\n",
    "new_course = {\n",
    "    \"courseId\": \"CRS012\",\n",
    "    \"title\": \"Data Visualization with Power BI\",\n",
    "    \"description\": \"Learn to design and develop interactive dashboards with Power BI.\",\n",
    "    \"instructorId\": \"INST001\",\n",
    "    \"category\": \"Data Science\",\n",
    "    \"level\": \"beginner\",\n",
    "    \"duration\": 40,\n",
    "    \"price\": 99.99,\n",
    "    \"tags\": [\"data\", \"visualization\", \"business-intelligence\"],\n",
    "    \"createdAt\": datetime.now(),\n",
    "    \"updatedAt\": datetime.now(),\n",
    "    \"isPublished\": True\n",
    "}\n",
    "\n",
    "try:\n",
    "    db.courses.insert_one(new_course)\n",
    "    print(\"Added new course\")\n",
    "except Exception as e:\n",
    "    print(\"Error adding new course:\", e)\n",
    "\n",
    "\n",
    "# Enrolling a student in a course\n",
    "new_enrollment = {\n",
    "    \"enrollmentId\": \"ENR019\",\n",
    "    \"studentId\": \"STU016\",\n",
    "    \"courseId\": \"CRS009\",\n",
    "    \"enrolledAt\": datetime.now(),\n",
    "    \"status\": \"active\"\n",
    "}\n",
    "\n",
    "try:\n",
    "    db.enrollments.insert_one(new_enrollment)\n",
    "    print(\"Enrolled student in course\")\n",
    "except Exception as e:\n",
    "    print(\"Error enrolling student:\", e)\n",
    "\n",
    "\n",
    "# Adding a new lesson to an existing course\n",
    "new_lesson = {\n",
    "    \"lessonId\": \"LES030\",\n",
    "    \"courseId\": \"CRS009\",\n",
    "    \"title\": \"Getting Started with Power BI\",\n",
    "    \"content\": \"This lesson introduces the Power BI interface and its core features.\",\n",
    "    \"order\": 1,\n",
    "    \"resources\": [\"https://docs.microsoft.com/en-us/power-bi/\"],\n",
    "    \"createdAt\": datetime.now(),\n",
    "    \"updatedAt\": datetime.now()\n",
    "}\n",
    "\n",
    "try:\n",
    "    db.lessons.insert_one(new_lesson)\n",
    "    print(\"Added new lesson to course\")\n",
    "except Exception as e:\n",
    "    print(\"Error adding new lesson:\", e)"
   ]
  },
  {
   "cell_type": "markdown",
   "id": "4081405a",
   "metadata": {},
   "source": [
    "## READ OPERATIONS\n"
   ]
  },
  {
   "cell_type": "markdown",
   "id": "273f53ba",
   "metadata": {},
   "source": [
    "### Active Students "
   ]
  },
  {
   "cell_type": "code",
   "execution_count": null,
   "id": "0419a09a",
   "metadata": {},
   "outputs": [
    {
     "name": "stdout",
     "output_type": "stream",
     "text": [
      "Active Students:\n",
      "\n",
      "   userId firstName    lastName                    email\n",
      "0  STU001      Alan       Brown  tammyashley@example.net\n",
      "1  STU003   Michael       Davis     jerome18@example.net\n",
      "2  STU005     Jacob     Johnson   mblanchard@example.net\n",
      "3  STU009     Harry       Smith      frivera@example.org\n",
      "4  STU010   Richard       Klein    tfriedman@example.com\n",
      "5  STU011      Leah       Clark     paulcruz@example.com\n",
      "6  STU013     Angel       Clark       smccoy@example.net\n",
      "7  STU014   Shannon  Villanueva  josephbrown@example.com\n",
      "8  STU020       Ada         Eze    student17@example.com\n"
     ]
    }
   ],
   "source": [
    "#Finding all active student\n",
    "\n",
    "try:\n",
    "    # Fetch active students\n",
    "    active_students = db.users.find(\n",
    "        {\"role\": \"student\", \"isActive\": True},\n",
    "        {\"_id\": 0, \"userId\": 1, \"firstName\": 1, \"lastName\": 1, \"email\": 1}\n",
    "    )\n",
    "    active_students_list = list(active_students)\n",
    "\n",
    "    # Convert to DataFrame\n",
    "    df_active_students = pd.DataFrame(active_students_list)\n",
    "\n",
    "    # Reorder columns\n",
    "    df_active_students = df_active_students[['userId', 'firstName', 'lastName', 'email']]\n",
    "\n",
    "    # Display the DataFrame\n",
    "    print(\"Active Students:\\n\")\n",
    "    print(df_active_students)\n",
    "\n",
    "except Exception as e:\n",
    "    print(\"Error fetching active students:\", e)"
   ]
  },
  {
   "cell_type": "markdown",
   "id": "ac446b0f",
   "metadata": {},
   "source": [
    "### Retrieving Course Details with Instructor Information"
   ]
  },
  {
   "cell_type": "code",
   "execution_count": null,
   "id": "31d23fd0",
   "metadata": {},
   "outputs": [
    {
     "name": "stdout",
     "output_type": "stream",
     "text": [
      "Courses with Instructor Info:\n",
      "\n",
      "  courseId                             title         category         level  \\\n",
      "0   CRS001   Frontend Development with React  Web Development  intermediate   \n",
      "1   CRS002          Cloud Computing with AWS  Cloud Computing  intermediate   \n",
      "2   CRS003        Full-Stack Web Development  Web Development      advanced   \n",
      "3   CRS004  Serverless Applications on Cloud  Cloud Computing      beginner   \n",
      "4   CRS005      Introduction to Data Science     Data Science      beginner   \n",
      "5   CRS006   Frontend Development with React  Web Development      advanced   \n",
      "6   CRS007    Machine Learning for Beginners     Data Science      advanced   \n",
      "7   CRS008  Backend Development with Node.js  Web Development      advanced   \n",
      "8   CRS012  Data Visualization with Power BI     Data Science      beginner   \n",
      "\n",
      "  instructorFirstName instructorLastName            instructorEmail  \n",
      "0               Terri               Reid         chad43@example.com  \n",
      "1               Emily          Hernandez        robin73@example.com  \n",
      "2               Terri               Reid         chad43@example.com  \n",
      "3               Terri               Reid         chad43@example.com  \n",
      "4               Terri               Reid         chad43@example.com  \n",
      "5             Matthew              Davis  garciastephen@example.net  \n",
      "6                Sean              Ellis        asnyder@example.org  \n",
      "7                Sean              Ellis        asnyder@example.org  \n",
      "8                Sean              Ellis        asnyder@example.org  \n"
     ]
    }
   ],
   "source": [
    "# Retrieving the Course Details \n",
    "try:\n",
    "    course_with_instructor = db.courses.aggregate([\n",
    "        {\n",
    "            \"$lookup\": {\n",
    "                \"from\": \"users\",\n",
    "                \"localField\": \"instructorId\",\n",
    "                \"foreignField\": \"userId\",\n",
    "                \"as\": \"instructor\"\n",
    "            }\n",
    "        },\n",
    "        { \"$unwind\": \"$instructor\" },\n",
    "        {\n",
    "            \"$project\": {\n",
    "                \"_id\": 0,\n",
    "                \"courseId\": 1,\n",
    "                \"title\": 1,\n",
    "                \"category\": 1,\n",
    "                \"level\": 1,\n",
    "                \"instructorFirstName\": \"$instructor.firstName\",\n",
    "                \"instructorLastName\": \"$instructor.lastName\",\n",
    "                \"instructorEmail\": \"$instructor.email\"\n",
    "            }\n",
    "        }\n",
    "    ])\n",
    "    \n",
    "    courses_list = list(course_with_instructor)\n",
    "\n",
    "    # Convert to DataFrame\n",
    "    df_courses = pd.DataFrame(courses_list)\n",
    "\n",
    "    # Optional: reorder columns\n",
    "    df_courses = df_courses[['courseId', 'title', 'category', 'level','instructorFirstName', 'instructorLastName', 'instructorEmail']]\n",
    "\n",
    "    print(\"Courses with Instructor Info:\\n\")\n",
    "    print(df_courses)\n",
    "\n",
    "except Exception as e:\n",
    "    print(\"Error fetching courses with instructor info:\", e)"
   ]
  },
  {
   "cell_type": "markdown",
   "id": "f83a418b",
   "metadata": {},
   "source": [
    "###  Getting all Courses in a Specific Category"
   ]
  },
  {
   "cell_type": "code",
   "execution_count": 47,
   "id": "9e75f56d",
   "metadata": {},
   "outputs": [
    {
     "name": "stdout",
     "output_type": "stream",
     "text": [
      "Courses in Data Science:\n",
      "\n",
      "  courseId                             title     level\n",
      "0   CRS005      Introduction to Data Science  beginner\n",
      "1   CRS007    Machine Learning for Beginners  advanced\n",
      "2   CRS012  Data Visualization with Power BI  beginner\n"
     ]
    }
   ],
   "source": [
    "#Getting all courses in a specific category\n",
    "category = \"Data Science\"\n",
    "\n",
    "try:\n",
    "    # Query courses in the category\n",
    "    courses_in_category = db.courses.find(\n",
    "        {\"category\": category},\n",
    "        {\"_id\": 0, \"courseId\": 1, \"title\": 1, \"level\": 1}\n",
    "    )\n",
    "    \n",
    "    # Convert courses to list\n",
    "    courses_list = list(courses_in_category)\n",
    "    \n",
    "    # Convert list to DataFrame\n",
    "    df_courses_category = pd.DataFrame(courses_list)\n",
    "    \n",
    "    # Reorder columns\n",
    "    df_courses_category = df_courses_category[['courseId', 'title', 'level']]\n",
    "    \n",
    "    # Display DataFrame\n",
    "    print(f\"Courses in {category}:\\n\")\n",
    "    print(df_courses_category)\n",
    "\n",
    "except Exception as e:\n",
    "    print(f\"Error fetching courses in category '{category}': {e}\")"
   ]
  },
  {
   "cell_type": "markdown",
   "id": "62e70d7b",
   "metadata": {},
   "source": [
    "### Finding Students Enrolled in a Particular Course\n"
   ]
  },
  {
   "cell_type": "code",
   "execution_count": null,
   "id": "faae5747",
   "metadata": {},
   "outputs": [
    {
     "name": "stdout",
     "output_type": "stream",
     "text": [
      "Students enrolled in CRS002:\n",
      "\n",
      "   userId firstName lastName                    email\n",
      "0  STU006      Lisa   Turner   daviserica@example.com\n",
      "1  STU012    Daniel  Gilbert  harryfoster@example.com\n",
      "2  STU003   Michael    Davis     jerome18@example.net\n"
     ]
    }
   ],
   "source": [
    "# Finding student enrolled in a particular course\n",
    "course_id = \"CRS002\"\n",
    "\n",
    "try:\n",
    "    students_in_course = db.enrollments.aggregate([\n",
    "        { \"$match\": {\"courseId\": course_id} },\n",
    "        {\n",
    "            \"$lookup\": {\n",
    "                \"from\": \"users\",\n",
    "                \"localField\": \"studentId\",\n",
    "                \"foreignField\": \"userId\",\n",
    "                \"as\": \"student\"\n",
    "            }\n",
    "        },\n",
    "        { \"$unwind\": \"$student\" },\n",
    "        {\n",
    "            \"$project\": {\n",
    "                \"_id\": 0,\n",
    "                \"userId\": \"$student.userId\",\n",
    "                \"firstName\": \"$student.firstName\",\n",
    "                \"lastName\": \"$student.lastName\",\n",
    "                \"email\": \"$student.email\"\n",
    "            }\n",
    "        }\n",
    "    ])\n",
    "\n",
    "    # Convert aggregation cursor to list\n",
    "    students_list = list(students_in_course)\n",
    "\n",
    "    # Convert list to DataFrame\n",
    "    df_students = pd.DataFrame(students_list)\n",
    "\n",
    "    # Reorder columns\n",
    "    df_students = df_students[['userId', 'firstName', 'lastName', 'email']]\n",
    "\n",
    "    # Display DataFrame\n",
    "    print(f\"Students enrolled in {course_id}:\\n\")\n",
    "    print(df_students)\n",
    "\n",
    "except Exception as e:\n",
    "    print(f\"Error fetching students for course '{course_id}': {e}\")"
   ]
  },
  {
   "cell_type": "markdown",
   "id": "f9a28176",
   "metadata": {},
   "source": [
    "### Searching Courses by Title (case-insensitive, partial match)"
   ]
  },
  {
   "cell_type": "code",
   "execution_count": null,
   "id": "5323fd63",
   "metadata": {},
   "outputs": [
    {
     "name": "stdout",
     "output_type": "stream",
     "text": [
      "Courses matching 'Web Development':\n",
      "\n",
      "  courseId                       title         category     level\n",
      "0   CRS003  Full-Stack Web Development  Web Development  advanced\n"
     ]
    }
   ],
   "source": [
    "# Searching courses by Title\n",
    "search_term = \"Web Development\"\n",
    "\n",
    "try:\n",
    "    # Query courses matching the regex\n",
    "    matched_courses = db.courses.find(\n",
    "        {\"title\": {\"$regex\": search_term, \"$options\": \"i\"}},\n",
    "        {\"_id\": 0, \"courseId\": 1, \"title\": 1, \"category\": 1, \"level\": 1}\n",
    "    )\n",
    "\n",
    "    matched_courses_list = list(matched_courses)\n",
    "\n",
    "    # Convert list to DataFrame\n",
    "    df_matched_courses = pd.DataFrame(matched_courses_list)\n",
    "\n",
    "    # Reorder columns\n",
    "    df_matched_courses = df_matched_courses[['courseId', 'title', 'category', 'level']]\n",
    "\n",
    "    # Display DataFrame\n",
    "    print(f\"Courses matching '{search_term}':\\n\")\n",
    "    print(df_matched_courses)\n",
    "\n",
    "except Exception as e:\n",
    "    print(f\"Error searching courses with term '{search_term}': {e}\")"
   ]
  },
  {
   "cell_type": "markdown",
   "id": "6c712733",
   "metadata": {},
   "source": [
    "## UPDATE OPERATIONS"
   ]
  },
  {
   "cell_type": "markdown",
   "id": "5ef6d889",
   "metadata": {},
   "source": [
    "### Update a User’s Profile Information"
   ]
  },
  {
   "cell_type": "code",
   "execution_count": 54,
   "id": "654ad5d5",
   "metadata": {},
   "outputs": [
    {
     "name": "stdout",
     "output_type": "stream",
     "text": [
      "User STU005 profile updated successfully.\n"
     ]
    }
   ],
   "source": [
    "#Updating a Useers Profile information\n",
    "user_id = \"STU005\"\n",
    "\n",
    "try:\n",
    "    db.users.update_one(\n",
    "        {\"userId\": user_id},\n",
    "        {\n",
    "            \"$set\": {\n",
    "                \"profile.bio\": \"Enthusiastic learner with interest in AI and Machine Learning.\",\n",
    "                \"profile.avatar\": \"https://example.com/new_avatar.png\",\n",
    "                \"profile.skills\": [\"Python\", \"SQL\", \"Machine Learning\"]\n",
    "            }\n",
    "        }\n",
    "    )\n",
    "    print(f\"User {user_id} profile updated successfully.\")\n",
    "\n",
    "except Exception as e:\n",
    "    print(f\"Error updating user {user_id}: {e}\")"
   ]
  },
  {
   "cell_type": "markdown",
   "id": "9210434e",
   "metadata": {},
   "source": [
    "### Mark a Course as Published"
   ]
  },
  {
   "cell_type": "code",
   "execution_count": 55,
   "id": "890cdf44",
   "metadata": {},
   "outputs": [
    {
     "name": "stdout",
     "output_type": "stream",
     "text": [
      "Course CRS003 marked as published successfully.\n"
     ]
    }
   ],
   "source": [
    "course_id = \"CRS003\"\n",
    "\n",
    "try:\n",
    "    db.courses.update_one(\n",
    "        {\"courseId\": course_id},\n",
    "        {\"$set\": {\"isPublished\": True, \"updatedAt\": datetime.now()}}\n",
    "    )\n",
    "    print(f\"Course {course_id} marked as published successfully.\")\n",
    "\n",
    "except Exception as e:\n",
    "    print(f\"Error marking course {course_id} as published: {e}\")"
   ]
  },
  {
   "cell_type": "markdown",
   "id": "1ff3efa8",
   "metadata": {},
   "source": [
    "### Update Assignment Grades"
   ]
  },
  {
   "cell_type": "code",
   "execution_count": 56,
   "id": "3d2829c7",
   "metadata": {},
   "outputs": [
    {
     "name": "stdout",
     "output_type": "stream",
     "text": [
      "Updated grade for submission SUB010 successfully.\n"
     ]
    }
   ],
   "source": [
    "#Updating Assignment Grades\n",
    "submission_id = \"SUB010\"\n",
    "\n",
    "try:\n",
    "    db.submissions.update_one(\n",
    "        {\"submissionId\": submission_id},\n",
    "        {\n",
    "            \"$set\": {\n",
    "                \"grade\": 80,\n",
    "                \"feedback\": \"Excellent work, keep it up!\",\n",
    "                \"gradedAt\": datetime.now()\n",
    "            }\n",
    "        }\n",
    "    )\n",
    "    print(f\"Updated grade for submission {submission_id} successfully.\")\n",
    "\n",
    "except Exception as e:\n",
    "    print(f\"Error updating grade for submission {submission_id}: {e}\")"
   ]
  },
  {
   "cell_type": "markdown",
   "id": "9c8e7e90",
   "metadata": {},
   "source": [
    "### Add Tags to an Existing Course"
   ]
  },
  {
   "cell_type": "code",
   "execution_count": 57,
   "id": "149baa1b",
   "metadata": {},
   "outputs": [
    {
     "name": "stdout",
     "output_type": "stream",
     "text": [
      "Tags updated for course CRS005 successfully.\n"
     ]
    }
   ],
   "source": [
    "#Adding Tags to an Existing Course\n",
    "course_id = \"CRS005\"\n",
    "\n",
    "try:\n",
    "    db.courses.update_one(\n",
    "        {\"courseId\": course_id},\n",
    "        {\"$addToSet\": {\"tags\": {\"$each\": [\"AI\", \"Data Science\", \"Python\"]}}}\n",
    "    )\n",
    "    print(f\"Tags updated for course {course_id} successfully.\")\n",
    "\n",
    "except Exception as e:\n",
    "    print(f\"Error updating tags for course {course_id}: {e}\")"
   ]
  },
  {
   "cell_type": "markdown",
   "id": "39be52f2",
   "metadata": {},
   "source": [
    "## DELETE OPERATIONS"
   ]
  },
  {
   "cell_type": "markdown",
   "id": "0e71a5b4",
   "metadata": {},
   "source": [
    "### Remove a User (soft delete by setting isActive to false)\n"
   ]
  },
  {
   "cell_type": "code",
   "execution_count": 58,
   "id": "17fc9b24",
   "metadata": {},
   "outputs": [
    {
     "name": "stdout",
     "output_type": "stream",
     "text": [
      "User STU006 has been deactivated successfully.\n"
     ]
    }
   ],
   "source": [
    "# Removing user\n",
    "user_id = \"STU006\"\n",
    "\n",
    "try:\n",
    "    db.users.update_one(\n",
    "        {\"userId\": user_id},\n",
    "        {\"$set\": {\"isActive\": False, \"updatedAt\": datetime.now()}}\n",
    "    )\n",
    "    print(f\"User {user_id} has been deactivated successfully.\")\n",
    "except Exception as e:\n",
    "    print(f\"Error deactivating user {user_id}: {e}\")\n"
   ]
  },
  {
   "cell_type": "markdown",
   "id": "2e02e8c6",
   "metadata": {},
   "source": [
    "### Deleting  an Enrollment"
   ]
  },
  {
   "cell_type": "code",
   "execution_count": 59,
   "id": "01c2886e",
   "metadata": {},
   "outputs": [
    {
     "name": "stdout",
     "output_type": "stream",
     "text": [
      "Deleted 1 enrollment(s) with ID ENR005\n"
     ]
    }
   ],
   "source": [
    "#Deleting an Enrollment\n",
    "enrollment_id = \"ENR005\"\n",
    "\n",
    "try:\n",
    "    delete_result = db.enrollments.delete_one({\"enrollmentId\": enrollment_id})\n",
    "    print(f\"Deleted {delete_result.deleted_count} enrollment(s) with ID {enrollment_id}\")\n",
    "except Exception as e:\n",
    "    print(f\"Error deleting enrollment {enrollment_id}: {e}\")"
   ]
  },
  {
   "cell_type": "markdown",
   "id": "d150a4b6",
   "metadata": {},
   "source": [
    "###  Remove a Lesson from a Course"
   ]
  },
  {
   "cell_type": "code",
   "execution_count": 60,
   "id": "06ac7474",
   "metadata": {},
   "outputs": [
    {
     "name": "stdout",
     "output_type": "stream",
     "text": [
      "Deleted 1 lesson(s) with ID LES008\n"
     ]
    }
   ],
   "source": [
    "# Removing a lesson from a Course\n",
    "lesson_id = \"LES008\"\n",
    "\n",
    "try:\n",
    "    delete_result = db.lessons.delete_one({\"lessonId\": lesson_id})\n",
    "    print(f\"Deleted {delete_result.deleted_count} lesson(s) with ID {lesson_id}\")\n",
    "except Exception as e:\n",
    "    print(f\"Error deleting lesson {lesson_id}: {e}\")"
   ]
  },
  {
   "cell_type": "markdown",
   "id": "e2da9b6c",
   "metadata": {},
   "source": []
  },
  {
   "cell_type": "code",
   "execution_count": null,
   "id": "c2ca371c",
   "metadata": {},
   "outputs": [],
   "source": []
  }
 ],
 "metadata": {
  "kernelspec": {
   "display_name": "base",
   "language": "python",
   "name": "python3"
  },
  "language_info": {
   "codemirror_mode": {
    "name": "ipython",
    "version": 3
   },
   "file_extension": ".py",
   "mimetype": "text/x-python",
   "name": "python",
   "nbconvert_exporter": "python",
   "pygments_lexer": "ipython3",
   "version": "3.12.4"
  }
 },
 "nbformat": 4,
 "nbformat_minor": 5
}
