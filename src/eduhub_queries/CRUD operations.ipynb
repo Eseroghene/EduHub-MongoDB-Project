{
 "cells": [
  {
   "cell_type": "markdown",
   "id": "ff2396d1",
   "metadata": {},
   "source": [
    "# BASIC CRUD OPERATIONS"
   ]
  },
  {
   "cell_type": "code",
   "execution_count": 15,
   "id": "110c59b5",
   "metadata": {},
   "outputs": [],
   "source": [
    "import pandas as pd\n",
    "from datetime import datetime\n",
    "from pymongo import MongoClient\n",
    "# Connect to MongoDB\n",
    "client = MongoClient('mongodb://localhost:27017/')\n",
    "db = client['eduhub_db']"
   ]
  },
  {
   "cell_type": "code",
   "execution_count": 16,
   "id": "f56dcf51",
   "metadata": {},
   "outputs": [
    {
     "name": "stdout",
     "output_type": "stream",
     "text": [
      "Collections in eduhub:\n",
      "['assignments', 'enrollments', 'submissions', 'users', 'lessons', 'courses']\n"
     ]
    }
   ],
   "source": [
    "print(\"Collections in eduhub:\")\n",
    "print(db.list_collection_names())"
   ]
  },
  {
   "cell_type": "markdown",
   "id": "12905f64",
   "metadata": {},
   "source": [
    "## CREATE OPERATIONS"
   ]
  },
  {
   "cell_type": "code",
   "execution_count": 17,
   "id": "8363536a",
   "metadata": {},
   "outputs": [
    {
     "name": "stdout",
     "output_type": "stream",
     "text": [
      "Added new student\n",
      "Added new course\n",
      "Enrolled student in course\n",
      "Added new lesson to course\n"
     ]
    }
   ],
   "source": [
    "# Adding a new student\n",
    "new_student = {\n",
    "    \"userId\": \"STU020\",\n",
    "    \"email\": \"student17@example.com\",\n",
    "    \"firstName\": \"Ada\",\n",
    "    \"lastName\": \"Eze\",\n",
    "    \"role\": \"student\",\n",
    "    \"dateJoined\": datetime.now(),\n",
    "    \"profile\": {\n",
    "        \"bio\": \"Passionate learner exploring data science and analytics.\",\n",
    "        \"avatar\": \"https://example.com/avatar16.png\",\n",
    "        \"skills\": [\"Python\", \"SQL\"]\n",
    "    },\n",
    "    \"isActive\": True\n",
    "}\n",
    "\n",
    "try:\n",
    "    db.users.insert_one(new_student)\n",
    "    print(\"Added new student\")\n",
    "except Exception as e:\n",
    "    print(\"Error adding new student:\", e)\n",
    "\n",
    "\n",
    "# Creating a new course\n",
    "new_course = {\n",
    "    \"courseId\": \"CRS012\",\n",
    "    \"title\": \"Data Visualization with Power BI\",\n",
    "    \"description\": \"Learn to design and develop interactive dashboards with Power BI.\",\n",
    "    \"instructorId\": \"INST001\",\n",
    "    \"category\": \"Data Science\",\n",
    "    \"level\": \"beginner\",\n",
    "    \"duration\": 40,\n",
    "    \"price\": 99.99,\n",
    "    \"tags\": [\"data\", \"visualization\", \"business-intelligence\"],\n",
    "    \"createdAt\": datetime.now(),\n",
    "    \"updatedAt\": datetime.now(),\n",
    "    \"isPublished\": True\n",
    "}\n",
    "\n",
    "try:\n",
    "    db.courses.insert_one(new_course)\n",
    "    print(\"Added new course\")\n",
    "except Exception as e:\n",
    "    print(\"Error adding new course:\", e)\n",
    "\n",
    "\n",
    "# Enrolling a student in a course\n",
    "new_enrollment = {\n",
    "    \"enrollmentId\": \"ENR019\",\n",
    "    \"studentId\": \"STU016\",\n",
    "    \"courseId\": \"CRS009\",\n",
    "    \"enrolledAt\": datetime.now(),\n",
    "    \"status\": \"active\"\n",
    "}\n",
    "\n",
    "try:\n",
    "    db.enrollments.insert_one(new_enrollment)\n",
    "    print(\"Enrolled student in course\")\n",
    "except Exception as e:\n",
    "    print(\"Error enrolling student:\", e)\n",
    "\n",
    "\n",
    "# Adding a new lesson to an existing course\n",
    "new_lesson = {\n",
    "    \"lessonId\": \"LES030\",\n",
    "    \"courseId\": \"CRS009\",\n",
    "    \"title\": \"Getting Started with Power BI\",\n",
    "    \"content\": \"This lesson introduces the Power BI interface and its core features.\",\n",
    "    \"order\": 1,\n",
    "    \"resources\": [\"https://docs.microsoft.com/en-us/power-bi/\"],\n",
    "    \"createdAt\": datetime.now(),\n",
    "    \"updatedAt\": datetime.now()\n",
    "}\n",
    "\n",
    "try:\n",
    "    db.lessons.insert_one(new_lesson)\n",
    "    print(\"Added new lesson to course\")\n",
    "except Exception as e:\n",
    "    print(\"Error adding new lesson:\", e)"
   ]
  },
  {
   "cell_type": "markdown",
   "id": "4081405a",
   "metadata": {},
   "source": [
    "## READ OPERATIONS\n"
   ]
  },
  {
   "cell_type": "markdown",
   "id": "273f53ba",
   "metadata": {},
   "source": [
    "### Active Students "
   ]
  },
  {
   "cell_type": "code",
   "execution_count": 18,
   "id": "0419a09a",
   "metadata": {},
   "outputs": [
    {
     "name": "stdout",
     "output_type": "stream",
     "text": [
      "Active Students:\n",
      "{'userId': 'STU004', 'email': 'jorge23@example.org', 'firstName': 'Shane', 'lastName': 'Scott'}\n",
      "{'userId': 'STU006', 'email': 'jgraham@example.org', 'firstName': 'Mackenzie', 'lastName': 'Richardson'}\n",
      "{'userId': 'STU008', 'email': 'whiteemily@example.com', 'firstName': 'Amy', 'lastName': 'Alvarez'}\n",
      "{'userId': 'STU010', 'email': 'amandahall@example.com', 'firstName': 'Robin', 'lastName': 'Barnett'}\n",
      "{'userId': 'STU014', 'email': 'paul61@example.org', 'firstName': 'Kristin', 'lastName': 'Brown'}\n",
      "{'userId': 'STU015', 'email': 'claudiaferguson@example.org', 'firstName': 'Michael', 'lastName': 'Haney'}\n",
      "{'userId': 'STU020', 'email': 'student17@example.com', 'firstName': 'Ada', 'lastName': 'Eze'}\n"
     ]
    }
   ],
   "source": [
    "#Finding all active student\n",
    "try:\n",
    "    active_students = db.users.find(\n",
    "        {\"role\": \"student\", \"isActive\": True},\n",
    "        {\"_id\": 0, \"userId\": 1, \"firstName\": 1, \"lastName\": 1, \"email\": 1}\n",
    "    )\n",
    "    active_students_list = list(active_students)\n",
    "    \n",
    "    print(\"Active Students:\")\n",
    "    for student in active_students_list:\n",
    "        print(student)\n",
    "except Exception as e:\n",
    "    print(\"Error fetching active students:\", e)"
   ]
  },
  {
   "cell_type": "markdown",
   "id": "ac446b0f",
   "metadata": {},
   "source": [
    "### Retrieving Course Details with Instructor Information"
   ]
  },
  {
   "cell_type": "code",
   "execution_count": 19,
   "id": "269992d5",
   "metadata": {},
   "outputs": [
    {
     "name": "stdout",
     "output_type": "stream",
     "text": [
      "Courses with Instructor Info:\n",
      "{'courseId': 'CRS001', 'title': 'Cloud Computing with AWS', 'category': 'Cloud Computing', 'level': 'beginner', 'instructor': {'email': 'rogerstrevor@example.com', 'firstName': 'Tammy', 'lastName': 'Rogers'}}\n",
      "{'courseId': 'CRS002', 'title': 'Introduction to Data Science', 'category': 'Data Science', 'level': 'beginner', 'instructor': {'email': 'jonathan02@example.com', 'firstName': 'Mark', 'lastName': 'Carter'}}\n",
      "{'courseId': 'CRS003', 'title': 'Frontend Development with React', 'category': 'Web Development', 'level': 'beginner', 'instructor': {'email': 'johnsondominique@example.com', 'firstName': 'Courtney', 'lastName': 'Mills'}}\n",
      "{'courseId': 'CRS004', 'title': 'Full-Stack Web Development', 'category': 'Web Development', 'level': 'intermediate', 'instructor': {'email': 'npierce@example.org', 'firstName': 'Charles', 'lastName': 'Fox'}}\n",
      "{'courseId': 'CRS005', 'title': 'DevOps Fundamentals', 'category': 'Cloud Computing', 'level': 'advanced', 'instructor': {'email': 'npierce@example.org', 'firstName': 'Charles', 'lastName': 'Fox'}}\n",
      "{'courseId': 'CRS006', 'title': 'Serverless Applications on Cloud', 'category': 'Cloud Computing', 'level': 'beginner', 'instructor': {'email': 'johnsondominique@example.com', 'firstName': 'Courtney', 'lastName': 'Mills'}}\n",
      "{'courseId': 'CRS007', 'title': 'Python for Data Analysis', 'category': 'Data Science', 'level': 'advanced', 'instructor': {'email': 'jonathan02@example.com', 'firstName': 'Mark', 'lastName': 'Carter'}}\n",
      "{'courseId': 'CRS008', 'title': 'Frontend Development with React', 'category': 'Web Development', 'level': 'beginner', 'instructor': {'email': 'johnsondominique@example.com', 'firstName': 'Courtney', 'lastName': 'Mills'}}\n",
      "{'courseId': 'CRS012', 'title': 'Data Visualization with Power BI', 'category': 'Data Science', 'level': 'beginner', 'instructor': {'email': 'rogerstrevor@example.com', 'firstName': 'Tammy', 'lastName': 'Rogers'}}\n"
     ]
    }
   ],
   "source": [
    "# Retreving course details with instructors information\n",
    "try:\n",
    "    course_with_instructor = db.courses.aggregate([\n",
    "        {\n",
    "            \"$lookup\": {\n",
    "                \"from\": \"users\",\n",
    "                \"localField\": \"instructorId\",\n",
    "                \"foreignField\": \"userId\",\n",
    "                \"as\": \"instructor\"\n",
    "            }\n",
    "        },\n",
    "        { \"$unwind\": \"$instructor\" },  \n",
    "        {\n",
    "            \"$project\": {\n",
    "                \"_id\": 0,\n",
    "                \"courseId\": 1,\n",
    "                \"title\": 1,\n",
    "                \"category\": 1,\n",
    "                \"level\": 1,\n",
    "                \"instructor.firstName\": 1,\n",
    "                \"instructor.lastName\": 1,\n",
    "                \"instructor.email\": 1\n",
    "            }\n",
    "        }\n",
    "    ])\n",
    "    \n",
    "    courses_list = list(course_with_instructor)\n",
    "    \n",
    "    print(\"Courses with Instructor Info:\")\n",
    "    for course in courses_list:\n",
    "        print(course)\n",
    "except Exception as e:\n",
    "    print(\"Error fetching courses with instructor info:\", e)"
   ]
  },
  {
   "cell_type": "markdown",
   "id": "f83a418b",
   "metadata": {},
   "source": [
    "###  Getting all Courses in a Specific Category"
   ]
  },
  {
   "cell_type": "code",
   "execution_count": 20,
   "id": "9e75f56d",
   "metadata": {},
   "outputs": [
    {
     "name": "stdout",
     "output_type": "stream",
     "text": [
      "Courses in Data Science:\n",
      "{'courseId': 'CRS002', 'title': 'Introduction to Data Science', 'level': 'beginner'}\n",
      "{'courseId': 'CRS007', 'title': 'Python for Data Analysis', 'level': 'advanced'}\n",
      "{'courseId': 'CRS012', 'title': 'Data Visualization with Power BI', 'level': 'beginner'}\n"
     ]
    }
   ],
   "source": [
    "#Getting all courses in a specific category\n",
    "category = \"Data Science\"\n",
    "\n",
    "try:\n",
    "    courses_in_category = db.courses.find(\n",
    "        {\"category\": category},\n",
    "        {\"_id\": 0, \"courseId\": 1, \"title\": 1, \"level\": 1}\n",
    "    )\n",
    "    \n",
    "    print(f\"Courses in {category}:\")\n",
    "    for course in courses_in_category:\n",
    "        print(course)\n",
    "\n",
    "except Exception as e:\n",
    "    print(f\"Error fetching courses in category '{category}': {e}\")"
   ]
  },
  {
   "cell_type": "markdown",
   "id": "62e70d7b",
   "metadata": {},
   "source": [
    "### Finding Students Enrolled in a Particular Course\n"
   ]
  },
  {
   "cell_type": "code",
   "execution_count": 21,
   "id": "faae5747",
   "metadata": {},
   "outputs": [
    {
     "name": "stdout",
     "output_type": "stream",
     "text": [
      "Students enrolled in CRS001:\n",
      "{'student': {'userId': 'STU005', 'email': 'stephensrobert@example.org', 'firstName': 'Elaine', 'lastName': 'Maldonado'}}\n"
     ]
    }
   ],
   "source": [
    "# Finding student enrolled in a particular course\n",
    "course_id = \"CRS001\"\n",
    "\n",
    "try:\n",
    "    students_in_course = db.enrollments.aggregate([\n",
    "        { \"$match\": {\"courseId\": course_id} },\n",
    "        {\n",
    "            \"$lookup\": {\n",
    "                \"from\": \"users\",\n",
    "                \"localField\": \"studentId\",\n",
    "                \"foreignField\": \"userId\",\n",
    "                \"as\": \"student\"\n",
    "            }\n",
    "        },\n",
    "        { \"$unwind\": \"$student\" },\n",
    "        {\n",
    "            \"$project\": {\n",
    "                \"_id\": 0,\n",
    "                \"student.userId\": 1,\n",
    "                \"student.firstName\": 1,\n",
    "                \"student.lastName\": 1,\n",
    "                \"student.email\": 1\n",
    "            }\n",
    "        }\n",
    "    ])\n",
    "\n",
    "    print(f\"Students enrolled in {course_id}:\")\n",
    "    for student in students_in_course:\n",
    "        print(student)\n",
    "\n",
    "except Exception as e:\n",
    "    print(f\"Error fetching students for course '{course_id}': {e}\")"
   ]
  },
  {
   "cell_type": "markdown",
   "id": "f9a28176",
   "metadata": {},
   "source": [
    "### Searching Courses by Title (case-insensitive, partial match)"
   ]
  },
  {
   "cell_type": "code",
   "execution_count": 22,
   "id": "5323fd63",
   "metadata": {},
   "outputs": [
    {
     "name": "stdout",
     "output_type": "stream",
     "text": [
      "Courses matching '.*python.*':\n",
      "{'courseId': 'CRS007', 'title': 'Python for Data Analysis', 'category': 'Data Science', 'level': 'advanced'}\n"
     ]
    }
   ],
   "source": [
    "# Searching courses by Title\n",
    "search_term = \".*python.*\"\n",
    "\n",
    "try:\n",
    "    matched_courses = db.courses.find(\n",
    "        {\"title\": {\"$regex\": search_term, \"$options\": \"i\"}},\n",
    "        {\"_id\": 0, \"courseId\": 1, \"title\": 1, \"category\": 1, \"level\": 1}\n",
    "    )\n",
    "\n",
    "    print(f\"Courses matching '{search_term}':\")\n",
    "    for course in matched_courses:\n",
    "        print(course)\n",
    "\n",
    "except Exception as e:\n",
    "    print(f\"Error searching courses with term '{search_term}': {e}\")"
   ]
  },
  {
   "cell_type": "markdown",
   "id": "6c712733",
   "metadata": {},
   "source": [
    "## UPDATE OPERATIONS"
   ]
  },
  {
   "cell_type": "markdown",
   "id": "5ef6d889",
   "metadata": {},
   "source": [
    "### Update a User’s Profile Information"
   ]
  },
  {
   "cell_type": "code",
   "execution_count": 23,
   "id": "654ad5d5",
   "metadata": {},
   "outputs": [
    {
     "name": "stdout",
     "output_type": "stream",
     "text": [
      "User STU005 profile updated successfully.\n"
     ]
    }
   ],
   "source": [
    "#Updating a Useers Profile information\n",
    "user_id = \"STU005\"\n",
    "\n",
    "try:\n",
    "    db.users.update_one(\n",
    "        {\"userId\": user_id},\n",
    "        {\n",
    "            \"$set\": {\n",
    "                \"profile.bio\": \"Enthusiastic learner with interest in AI and Machine Learning.\",\n",
    "                \"profile.avatar\": \"https://example.com/new_avatar.png\",\n",
    "                \"profile.skills\": [\"Python\", \"SQL\", \"Machine Learning\"]\n",
    "            }\n",
    "        }\n",
    "    )\n",
    "    print(f\"User {user_id} profile updated successfully.\")\n",
    "\n",
    "except Exception as e:\n",
    "    print(f\"Error updating user {user_id}: {e}\")"
   ]
  },
  {
   "cell_type": "markdown",
   "id": "9210434e",
   "metadata": {},
   "source": [
    "### Mark a Course as Published"
   ]
  },
  {
   "cell_type": "code",
   "execution_count": 25,
   "id": "890cdf44",
   "metadata": {},
   "outputs": [
    {
     "name": "stdout",
     "output_type": "stream",
     "text": [
      "Course CRS003 marked as published successfully.\n"
     ]
    }
   ],
   "source": [
    "course_id = \"CRS003\"\n",
    "\n",
    "try:\n",
    "    db.courses.update_one(\n",
    "        {\"courseId\": course_id},\n",
    "        {\"$set\": {\"isPublished\": True, \"updatedAt\": datetime.now()}}\n",
    "    )\n",
    "    print(f\"Course {course_id} marked as published successfully.\")\n",
    "\n",
    "except Exception as e:\n",
    "    print(f\"Error marking course {course_id} as published: {e}\")"
   ]
  },
  {
   "cell_type": "markdown",
   "id": "1ff3efa8",
   "metadata": {},
   "source": [
    "### Update Assignment Grades"
   ]
  },
  {
   "cell_type": "code",
   "execution_count": 26,
   "id": "3d2829c7",
   "metadata": {},
   "outputs": [
    {
     "name": "stdout",
     "output_type": "stream",
     "text": [
      "Updated grade for submission SUB010 successfully.\n"
     ]
    }
   ],
   "source": [
    "#Updating Assignment Grades\n",
    "submission_id = \"SUB010\"\n",
    "\n",
    "try:\n",
    "    db.submissions.update_one(\n",
    "        {\"submissionId\": submission_id},\n",
    "        {\n",
    "            \"$set\": {\n",
    "                \"grade\": 80,\n",
    "                \"feedback\": \"Excellent work, keep it up!\",\n",
    "                \"gradedAt\": datetime.now()\n",
    "            }\n",
    "        }\n",
    "    )\n",
    "    print(f\"Updated grade for submission {submission_id} successfully.\")\n",
    "\n",
    "except Exception as e:\n",
    "    print(f\"Error updating grade for submission {submission_id}: {e}\")"
   ]
  },
  {
   "cell_type": "markdown",
   "id": "9c8e7e90",
   "metadata": {},
   "source": [
    "### Add Tags to an Existing Course"
   ]
  },
  {
   "cell_type": "code",
   "execution_count": 27,
   "id": "149baa1b",
   "metadata": {},
   "outputs": [
    {
     "name": "stdout",
     "output_type": "stream",
     "text": [
      "Tags updated for course CRS005 successfully.\n"
     ]
    }
   ],
   "source": [
    "#Adding Tags to an Existing Course\n",
    "course_id = \"CRS005\"\n",
    "\n",
    "try:\n",
    "    db.courses.update_one(\n",
    "        {\"courseId\": course_id},\n",
    "        {\"$addToSet\": {\"tags\": {\"$each\": [\"AI\", \"Data Science\", \"Python\"]}}}\n",
    "    )\n",
    "    print(f\"Tags updated for course {course_id} successfully.\")\n",
    "\n",
    "except Exception as e:\n",
    "    print(f\"Error updating tags for course {course_id}: {e}\")"
   ]
  },
  {
   "cell_type": "markdown",
   "id": "39be52f2",
   "metadata": {},
   "source": [
    "## DELETE OPERATIONS"
   ]
  },
  {
   "cell_type": "markdown",
   "id": "0e71a5b4",
   "metadata": {},
   "source": [
    "### Remove a User (soft delete by setting isActive to false)\n"
   ]
  },
  {
   "cell_type": "code",
   "execution_count": 29,
   "id": "17fc9b24",
   "metadata": {},
   "outputs": [
    {
     "name": "stdout",
     "output_type": "stream",
     "text": [
      "User STU006 has been deactivated successfully.\n"
     ]
    }
   ],
   "source": [
    "# Removing user\n",
    "user_id = \"STU006\"\n",
    "\n",
    "try:\n",
    "    db.users.update_one(\n",
    "        {\"userId\": user_id},\n",
    "        {\"$set\": {\"isActive\": False, \"updatedAt\": datetime.now()}}\n",
    "    )\n",
    "    print(f\"User {user_id} has been deactivated successfully.\")\n",
    "except Exception as e:\n",
    "    print(f\"Error deactivating user {user_id}: {e}\")\n"
   ]
  },
  {
   "cell_type": "markdown",
   "id": "2e02e8c6",
   "metadata": {},
   "source": [
    "### Deleting  an Enrollment"
   ]
  },
  {
   "cell_type": "code",
   "execution_count": 30,
   "id": "01c2886e",
   "metadata": {},
   "outputs": [
    {
     "name": "stdout",
     "output_type": "stream",
     "text": [
      "Deleted 1 enrollment(s) with ID ENR005\n"
     ]
    }
   ],
   "source": [
    "#Deleting an Enrollment\n",
    "enrollment_id = \"ENR005\"\n",
    "\n",
    "try:\n",
    "    delete_result = db.enrollments.delete_one({\"enrollmentId\": enrollment_id})\n",
    "    print(f\"Deleted {delete_result.deleted_count} enrollment(s) with ID {enrollment_id}\")\n",
    "except Exception as e:\n",
    "    print(f\"Error deleting enrollment {enrollment_id}: {e}\")"
   ]
  },
  {
   "cell_type": "markdown",
   "id": "d150a4b6",
   "metadata": {},
   "source": [
    "###  Remove a Lesson from a Course"
   ]
  },
  {
   "cell_type": "code",
   "execution_count": 31,
   "id": "06ac7474",
   "metadata": {},
   "outputs": [
    {
     "name": "stdout",
     "output_type": "stream",
     "text": [
      "Deleted 1 lesson(s) with ID LES008\n"
     ]
    }
   ],
   "source": [
    "# Removing a lesson from a Course\n",
    "lesson_id = \"LES008\"\n",
    "\n",
    "try:\n",
    "    delete_result = db.lessons.delete_one({\"lessonId\": lesson_id})\n",
    "    print(f\"Deleted {delete_result.deleted_count} lesson(s) with ID {lesson_id}\")\n",
    "except Exception as e:\n",
    "    print(f\"Error deleting lesson {lesson_id}: {e}\")"
   ]
  },
  {
   "cell_type": "markdown",
   "id": "e2da9b6c",
   "metadata": {},
   "source": []
  },
  {
   "cell_type": "code",
   "execution_count": null,
   "id": "c2ca371c",
   "metadata": {},
   "outputs": [],
   "source": []
  }
 ],
 "metadata": {
  "kernelspec": {
   "display_name": "base",
   "language": "python",
   "name": "python3"
  },
  "language_info": {
   "codemirror_mode": {
    "name": "ipython",
    "version": 3
   },
   "file_extension": ".py",
   "mimetype": "text/x-python",
   "name": "python",
   "nbconvert_exporter": "python",
   "pygments_lexer": "ipython3",
   "version": "3.12.4"
  }
 },
 "nbformat": 4,
 "nbformat_minor": 5
}
