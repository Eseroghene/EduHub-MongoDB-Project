{
 "cells": [
  {
   "cell_type": "markdown",
   "id": "f624c10d",
   "metadata": {},
   "source": [
    "# ADVANCED QUERIES AND AGGREGATION"
   ]
  },
  {
   "cell_type": "code",
   "execution_count": 22,
   "id": "1d241c5c",
   "metadata": {},
   "outputs": [],
   "source": [
    "import pandas as pd\n",
    "from datetime import datetime, timedelta\n",
    "from pymongo import MongoClient\n",
    "\n",
    "# Connect to MongoDB\n",
    "client = MongoClient('mongodb://localhost:27017/')\n",
    "db = client['eduhub_db']\n"
   ]
  },
  {
   "cell_type": "code",
   "execution_count": 23,
   "id": "fec46fe9",
   "metadata": {},
   "outputs": [
    {
     "name": "stdout",
     "output_type": "stream",
     "text": [
      "Collections in eduhub:\n",
      "['lessons', 'submissions', 'assignments', 'courses', 'enrollments', 'users']\n"
     ]
    }
   ],
   "source": [
    "print(\"Collections in eduhub:\")\n",
    "print(db.list_collection_names())"
   ]
  },
  {
   "cell_type": "markdown",
   "id": "ae97dcfa",
   "metadata": {},
   "source": [
    "## COMPLEX QUERIES"
   ]
  },
  {
   "cell_type": "markdown",
   "id": "03417e9d",
   "metadata": {},
   "source": [
    "### Courses with Price between $50 & $200"
   ]
  },
  {
   "cell_type": "code",
   "execution_count": 24,
   "id": "0d8ca412",
   "metadata": {},
   "outputs": [
    {
     "name": "stdout",
     "output_type": "stream",
     "text": [
      "Courses priced between $50 and $200:\n",
      "{'courseId': 'CRS001', 'title': 'Serverless Applications on Cloud', 'price': 139.59}\n",
      "{'courseId': 'CRS002', 'title': 'Machine Learning for Beginners', 'price': 144.68}\n",
      "{'courseId': 'CRS003', 'title': 'Machine Learning for Beginners', 'price': 110.3}\n",
      "{'courseId': 'CRS004', 'title': 'Backend Development with Node.js', 'price': 69.12}\n",
      "{'courseId': 'CRS008', 'title': 'Python for Data Analysis', 'price': 140.06}\n",
      "{'courseId': 'CRS009', 'title': 'Data Visualization with Power BI', 'price': 99.99}\n"
     ]
    }
   ],
   "source": [
    "# Finding Courses with price btw $50 & &200\n",
    "try:\n",
    "    courses_in_price_range = db.courses.find(\n",
    "        {\"price\": {\"$gte\": 50, \"$lte\": 200}},\n",
    "        {\"_id\": 0, \"courseId\": 1, \"title\": 1, \"price\": 1}\n",
    "    )\n",
    "    print(\"Courses priced between $50 and $200:\")\n",
    "    for course in courses_in_price_range:\n",
    "        print(course)\n",
    "\n",
    "except Exception as e:\n",
    "    print(f\"An error occurred while fetching courses by price: {e}\")"
   ]
  },
  {
   "cell_type": "markdown",
   "id": "e6339917",
   "metadata": {},
   "source": [
    "### Users Who Joined In the Last 6 Month"
   ]
  },
  {
   "cell_type": "code",
   "execution_count": 25,
   "id": "85fb2140",
   "metadata": {},
   "outputs": [
    {
     "name": "stdout",
     "output_type": "stream",
     "text": [
      "\n",
      "Users who joined in the last 6 months:\n",
      "{'userId': 'STU003', 'firstName': 'James', 'lastName': 'Ingram', 'dateJoined': datetime.datetime(2025, 5, 19, 2, 27, 34, 501000)}\n",
      "{'userId': 'STU004', 'firstName': 'Billy', 'lastName': 'Le', 'dateJoined': datetime.datetime(2025, 8, 3, 21, 36, 47, 261000)}\n",
      "{'userId': 'STU008', 'firstName': 'Allen', 'lastName': 'Hill', 'dateJoined': datetime.datetime(2025, 6, 18, 15, 32, 24, 521000)}\n",
      "{'userId': 'STU010', 'firstName': 'Jacqueline', 'lastName': 'Allen', 'dateJoined': datetime.datetime(2025, 7, 20, 22, 25, 38, 536000)}\n",
      "{'userId': 'STU012', 'firstName': 'Jenna', 'lastName': 'Garrett', 'dateJoined': datetime.datetime(2025, 9, 20, 8, 26, 55, 974000)}\n",
      "{'userId': 'STU015', 'firstName': 'Ethan', 'lastName': 'Sullivan', 'dateJoined': datetime.datetime(2025, 8, 9, 11, 44, 37, 733000)}\n",
      "{'userId': 'STU016', 'firstName': 'Ada', 'lastName': 'Eze', 'dateJoined': datetime.datetime(2025, 10, 1, 14, 21, 7, 30000)}\n"
     ]
    }
   ],
   "source": [
    "# Finding users who join in thelast 6 month \n",
    "try:\n",
    "    six_months_ago = datetime.now() - timedelta(days=6*30)  # approximate 6 months\n",
    "    recent_users = db.users.find(\n",
    "        {\"dateJoined\": {\"$gte\": six_months_ago}},\n",
    "        {\"_id\": 0, \"userId\": 1, \"firstName\": 1, \"lastName\": 1, \"dateJoined\": 1}\n",
    "    )\n",
    "    print(\"\\nUsers who joined in the last 6 months:\")\n",
    "    for user in recent_users:\n",
    "        print(user)\n",
    "\n",
    "except Exception as e:\n",
    "    print(f\"An error occurred while fetching recent users: {e}\")"
   ]
  },
  {
   "cell_type": "markdown",
   "id": "18af107b",
   "metadata": {},
   "source": [
    "### Courses With Specific Tags"
   ]
  },
  {
   "cell_type": "code",
   "execution_count": 26,
   "id": "c4b64d64",
   "metadata": {},
   "outputs": [
    {
     "name": "stdout",
     "output_type": "stream",
     "text": [
      "\n",
      "Courses with specific tags:\n",
      "{'courseId': 'CRS005', 'title': 'Machine Learning for Beginners', 'tags': ['visualization', 'modeling', 'pandas', 'AI', 'Data Science', 'Python']}\n"
     ]
    }
   ],
   "source": [
    "# Finding Courses that Have Specific Tags using $in Operator\n",
    "try:\n",
    "    tags_to_find = [\"Python\", \"Data Science\", \"AI\"]\n",
    "    courses_with_tags = db.courses.find(\n",
    "        {\"tags\": {\"$in\": tags_to_find}},\n",
    "        {\"_id\": 0, \"courseId\": 1, \"title\": 1, \"tags\": 1}\n",
    "    )\n",
    "    print(\"\\nCourses with specific tags:\")\n",
    "    for course in courses_with_tags:\n",
    "        print(course)\n",
    "\n",
    "except Exception as e:\n",
    "    print(f\"An error occurred while fetching courses with tags: {e}\")"
   ]
  },
  {
   "cell_type": "markdown",
   "id": "24b457b5",
   "metadata": {},
   "source": [
    "### Assignments Due Next Week"
   ]
  },
  {
   "cell_type": "code",
   "execution_count": 27,
   "id": "d1727432",
   "metadata": {},
   "outputs": [
    {
     "name": "stdout",
     "output_type": "stream",
     "text": [
      "\n",
      "Assignments due in the next week:\n",
      "{'assignmentId': 'ASM010', 'title': 'Assignment 10', 'dueDate': datetime.datetime(2025, 10, 6, 14, 19, 26, 827000)}\n"
     ]
    }
   ],
   "source": [
    "# Finding Assignmenst due next week\n",
    "try:\n",
    "    one_week_from_now = datetime.now() + timedelta(days=7)\n",
    "    upcoming_assignments = db.assignments.find(\n",
    "        {\"dueDate\": {\"$lte\": one_week_from_now, \"$gte\": datetime.now()}},\n",
    "        {\"_id\": 0, \"assignmentId\": 1, \"title\": 1, \"dueDate\": 1}\n",
    "    )\n",
    "    print(\"\\nAssignments due in the next week:\")\n",
    "    for assignment in upcoming_assignments:\n",
    "        print(assignment)\n",
    "\n",
    "except Exception as e:\n",
    "    print(f\"An error occurred while fetching upcoming assignments: {e}\")"
   ]
  },
  {
   "cell_type": "markdown",
   "id": "a4c685b2",
   "metadata": {},
   "source": [
    "## AGGREGATION PIPELINE"
   ]
  },
  {
   "cell_type": "markdown",
   "id": "c3575165",
   "metadata": {},
   "source": [
    "### COURSE ENROLLMENT STATISTICS"
   ]
  },
  {
   "cell_type": "markdown",
   "id": "2c647918",
   "metadata": {},
   "source": [
    "### a) Total Enrollment Per Course"
   ]
  },
  {
   "cell_type": "code",
   "execution_count": 52,
   "id": "7f487eaa",
   "metadata": {},
   "outputs": [
    {
     "name": "stdout",
     "output_type": "stream",
     "text": [
      "Total enrollments per course:\n",
      "{'_id': 'CRS008', 'totalEnrollments': 4}\n",
      "{'_id': 'CRS006', 'totalEnrollments': 3}\n",
      "{'_id': 'CRS004', 'totalEnrollments': 2}\n",
      "{'_id': 'CRS009', 'totalEnrollments': 2}\n",
      "{'_id': 'CRS005', 'totalEnrollments': 2}\n",
      "{'_id': 'CRS002', 'totalEnrollments': 2}\n",
      "{'_id': 'CRS007', 'totalEnrollments': 1}\n"
     ]
    }
   ],
   "source": [
    "# Counting total enrollments per course\n",
    "try:\n",
    "    enrollments_per_course = db.enrollments.aggregate([\n",
    "        {\n",
    "            \"$group\": {\n",
    "                \"_id\": \"$courseId\",\n",
    "                \"totalEnrollments\": {\"$sum\": 1}\n",
    "            }\n",
    "        },\n",
    "        {\"$sort\": {\"totalEnrollments\": -1}}  # sort by most enrollments\n",
    "    ])\n",
    "\n",
    "    print(\"Total enrollments per course:\")\n",
    "    for item in enrollments_per_course:\n",
    "        print(item)\n",
    "\n",
    "except Exception as e:\n",
    "    print(f\"Error fetching enrollments per course: {e}\")"
   ]
  },
  {
   "cell_type": "markdown",
   "id": "d936eedc",
   "metadata": {},
   "source": [
    "### b) Average Course Rating"
   ]
  },
  {
   "cell_type": "code",
   "execution_count": 51,
   "id": "58da645e",
   "metadata": {},
   "outputs": [
    {
     "name": "stdout",
     "output_type": "stream",
     "text": [
      "Average course rating:\n",
      "{'_id': 'CRS004', 'averageRating': 82.33333333333333}\n",
      "{'_id': 'CRS005', 'averageRating': 75.0}\n",
      "{'_id': 'CRS003', 'averageRating': 63.0}\n",
      "{'_id': 'CRS007', 'averageRating': 58.0}\n",
      "{'_id': 'CRS002', 'averageRating': None}\n"
     ]
    }
   ],
   "source": [
    "#  Calculating average course rating\n",
    "try:\n",
    "    avg_course_rating = db.submissions.aggregate([\n",
    "        {\n",
    "            \"$group\": {\n",
    "                \"_id\": \"$courseId\",\n",
    "                \"averageRating\": {\"$avg\": \"$grade\"}\n",
    "            }\n",
    "        },\n",
    "        {\"$sort\": {\"averageRating\": -1}}  # sort by highest average rating\n",
    "    ])\n",
    "\n",
    "    print(\"Average course rating:\")\n",
    "    for item in avg_course_rating:\n",
    "        print(item)\n",
    "\n",
    "except Exception as e:\n",
    "    print(f\"Error fetching average course rating: {e}\")"
   ]
  },
  {
   "cell_type": "markdown",
   "id": "ef56c3b4",
   "metadata": {},
   "source": [
    "### c)  Group by Course Category "
   ]
  },
  {
   "cell_type": "code",
   "execution_count": 30,
   "id": "5eef6f29",
   "metadata": {},
   "outputs": [
    {
     "name": "stdout",
     "output_type": "stream",
     "text": [
      "Average rating by category:\n",
      "{'_id': 'Web Development', 'averageRating': 82.33333333333333, 'totalCourses': 4}\n",
      "{'_id': 'Data Science', 'averageRating': 64.4, 'totalCourses': 8}\n"
     ]
    }
   ],
   "source": [
    "#  Group by course category (average rating per category)\n",
    "try:\n",
    "    avg_rating_by_category = db.courses.aggregate([\n",
    "        {\n",
    "            \"$lookup\": {\n",
    "                \"from\": \"submissions\",\n",
    "                \"localField\": \"courseId\",\n",
    "                \"foreignField\": \"courseId\",\n",
    "                \"as\": \"grades\"\n",
    "            }\n",
    "        },\n",
    "        {\n",
    "            \"$unwind\": \"$grades\"\n",
    "        },\n",
    "        {\n",
    "            \"$group\": {\n",
    "                \"_id\": \"$category\",\n",
    "                \"averageRating\": {\"$avg\": \"$grades.grade\"},\n",
    "                \"totalCourses\": {\"$sum\": 1}\n",
    "            }\n",
    "        }\n",
    "    ])\n",
    "    print(\"Average rating by category:\")\n",
    "    for item in avg_rating_by_category:\n",
    "        print(item)\n",
    "except Exception as e:\n",
    "    print(f\"Error fetching rating by category: {e}\")"
   ]
  },
  {
   "cell_type": "markdown",
   "id": "9922688c",
   "metadata": {},
   "source": [
    "### STUDENT PERFORMANCE ANALYSIS"
   ]
  },
  {
   "cell_type": "markdown",
   "id": "a8a9cb46",
   "metadata": {},
   "source": [
    "### a) Average Grade per Student"
   ]
  },
  {
   "cell_type": "code",
   "execution_count": 50,
   "id": "4845c40b",
   "metadata": {},
   "outputs": [
    {
     "name": "stdout",
     "output_type": "stream",
     "text": [
      "Average grade per student:\n",
      "{'_id': 'STU010', 'averageGrade': 97.0}\n",
      "{'_id': 'STU013', 'averageGrade': 80.0}\n",
      "{'_id': 'STU008', 'averageGrade': 79.0}\n",
      "{'_id': 'STU006', 'averageGrade': 75.0}\n",
      "{'_id': 'STU002', 'averageGrade': 70.0}\n",
      "{'_id': 'STU001', 'averageGrade': 59.0}\n",
      "{'_id': 'STU007', 'averageGrade': 54.5}\n"
     ]
    }
   ],
   "source": [
    "# Calculating Average grade per student\n",
    "try:\n",
    "    avg_grade_per_student = db.submissions.aggregate([\n",
    "        {\n",
    "            \"$group\": {\n",
    "                \"_id\": \"$studentId\",\n",
    "                \"averageGrade\": {\"$avg\": \"$grade\"}\n",
    "            }\n",
    "        },\n",
    "        {\"$sort\": {\"averageGrade\": -1}}  # sort by highest average grade\n",
    "    ])\n",
    "\n",
    "    print(\"Average grade per student:\")\n",
    "    for item in avg_grade_per_student:\n",
    "        print(item)\n",
    "\n",
    "except Exception as e:\n",
    "    print(f\"Error fetching average grade per student: {e}\")"
   ]
  },
  {
   "cell_type": "markdown",
   "id": "a0188e33",
   "metadata": {},
   "source": [
    "### b) Completion Rate by Course"
   ]
  },
  {
   "cell_type": "code",
   "execution_count": 49,
   "id": "befca240",
   "metadata": {},
   "outputs": [
    {
     "name": "stdout",
     "output_type": "stream",
     "text": [
      "Completion rate by course:\n",
      "{'_id': 'CRS005', 'completionRate': 100.0}\n",
      "{'_id': 'CRS004', 'completionRate': 75.0}\n",
      "{'_id': 'CRS003', 'completionRate': 75.0}\n",
      "{'_id': 'CRS007', 'completionRate': 50.0}\n",
      "{'_id': 'CRS002', 'completionRate': 0.0}\n"
     ]
    }
   ],
   "source": [
    "# Calculating Completion Rate by course\n",
    "try:\n",
    "    completion_rate = db.submissions.aggregate([\n",
    "        {\n",
    "            \"$group\": {\n",
    "                \"_id\": \"$courseId\",\n",
    "                \"completed\": {\n",
    "                    \"$sum\": {\"$cond\": [{\"$eq\": [\"$status\", \"graded\"]}, 1, 0]}\n",
    "                },\n",
    "                \"totalSubmissions\": {\"$sum\": 1}\n",
    "            }\n",
    "        },\n",
    "        {\n",
    "            \"$project\": {\n",
    "                \"_id\": 1,  # keep courseId\n",
    "                \"completionRate\": {\n",
    "                    \"$multiply\": [\n",
    "                        {\"$divide\": [\"$completed\", \"$totalSubmissions\"]},\n",
    "                        100\n",
    "                    ]\n",
    "                }\n",
    "            }\n",
    "        },\n",
    "        {\"$sort\": {\"completionRate\": -1}}  # optional: sort by highest rate\n",
    "    ])\n",
    "\n",
    "    print(\"Completion rate by course:\")\n",
    "    for item in completion_rate:\n",
    "        print(item)\n",
    "\n",
    "except Exception as e:\n",
    "    print(f\"Error fetching completion rate: {e}\")"
   ]
  },
  {
   "cell_type": "markdown",
   "id": "f275fca2",
   "metadata": {},
   "source": [
    "### c) Top-performing Students"
   ]
  },
  {
   "cell_type": "code",
   "execution_count": 33,
   "id": "a9f57e8a",
   "metadata": {},
   "outputs": [
    {
     "name": "stdout",
     "output_type": "stream",
     "text": [
      "Top-performing students:\n",
      "{'_id': 'STU010', 'averageGrade': 97.0}\n",
      "{'_id': 'STU013', 'averageGrade': 80.0}\n",
      "{'_id': 'STU008', 'averageGrade': 79.0}\n",
      "{'_id': 'STU006', 'averageGrade': 75.0}\n",
      "{'_id': 'STU002', 'averageGrade': 70.0}\n"
     ]
    }
   ],
   "source": [
    "# Calculating Top performing students\n",
    "try:\n",
    "    top_students = db.submissions.aggregate([\n",
    "        {\n",
    "            \"$group\": {\n",
    "                \"_id\": \"$studentId\",\n",
    "                \"averageGrade\": {\"$avg\": \"$grade\"}\n",
    "            }\n",
    "        },\n",
    "        {\"$sort\": {\"averageGrade\": -1}},\n",
    "        {\"$limit\": 5}\n",
    "    ])\n",
    "    print(\"Top-performing students:\")\n",
    "    for item in top_students:\n",
    "        print(item)\n",
    "except Exception as e:\n",
    "    print(f\"Error fetching top students: {e}\")"
   ]
  },
  {
   "cell_type": "markdown",
   "id": "b0a7d370",
   "metadata": {},
   "source": [
    "### INSTRUCTOR ANALYTICS"
   ]
  },
  {
   "cell_type": "markdown",
   "id": "2d559c96",
   "metadata": {},
   "source": [
    "### a) Total Students Taught by each Instructor"
   ]
  },
  {
   "cell_type": "code",
   "execution_count": null,
   "id": "d9bb01b5",
   "metadata": {},
   "outputs": [
    {
     "name": "stdout",
     "output_type": "stream",
     "text": [
      "Total students per instructor:\n",
      "{'_id': 'INST001', 'totalStudents': 6}\n",
      "{'_id': 'INST003', 'totalStudents': 5}\n",
      "{'_id': 'INST004', 'totalStudents': 4}\n",
      "{'_id': 'INST005', 'totalStudents': 1}\n"
     ]
    }
   ],
   "source": [
    "# Calculating Total Student taught by each instructor\n",
    "try:\n",
    "    students_per_instructor = db.courses.aggregate([\n",
    "        {\n",
    "            \"$lookup\": {\n",
    "                \"from\": \"enrollments\",\n",
    "                \"localField\": \"courseId\",\n",
    "                \"foreignField\": \"courseId\",\n",
    "                \"as\": \"enrolled\"\n",
    "            }\n",
    "        },\n",
    "        {\n",
    "            \"$project\": {\n",
    "                \"instructorId\": 1,\n",
    "                \"studentCount\": {\"$size\": \"$enrolled\"}  \n",
    "            }\n",
    "        },\n",
    "        {\n",
    "            \"$group\": {\n",
    "                \"_id\": \"$instructorId\",\n",
    "                \"totalStudents\": {\"$sum\": \"$studentCount\"}  \n",
    "            }\n",
    "        },\n",
    "        {\n",
    "            \"$sort\": {\"totalStudents\": -1}  \n",
    "        }\n",
    "    ])\n",
    "\n",
    "    print(\"Total students per instructor:\")\n",
    "    for item in students_per_instructor:\n",
    "        print(item)\n",
    "\n",
    "except Exception as e:\n",
    "    print(f\"Error fetching students per instructor: {e}\")"
   ]
  },
  {
   "cell_type": "markdown",
   "id": "6de0ca8d",
   "metadata": {},
   "source": [
    "### b) Average Course Rating per Instructor"
   ]
  },
  {
   "cell_type": "code",
   "execution_count": 47,
   "id": "fe85e71f",
   "metadata": {},
   "outputs": [
    {
     "name": "stdout",
     "output_type": "stream",
     "text": [
      "Average course rating per instructor:\n",
      "{'_id': 'INST001', 'averageRating': 82.33333333333333}\n",
      "{'_id': 'INST003', 'averageRating': 75.0}\n",
      "{'_id': 'INST004', 'averageRating': 63.0}\n",
      "{'_id': 'INST005', 'averageRating': 58.0}\n"
     ]
    }
   ],
   "source": [
    "# Calculating Average Course rating  per Instructor\n",
    "try:\n",
    "    avg_rating_per_instructor = db.courses.aggregate([\n",
    "        {\n",
    "            \"$lookup\": {\n",
    "                \"from\": \"submissions\",\n",
    "                \"localField\": \"courseId\",\n",
    "                \"foreignField\": \"courseId\",\n",
    "                \"as\": \"grades\"\n",
    "            }\n",
    "        },\n",
    "        {\"$unwind\": \"$grades\"},\n",
    "        {\n",
    "            \"$group\": {\n",
    "                \"_id\": \"$instructorId\",\n",
    "                \"averageRating\": {\"$avg\": \"$grades.grade\"}\n",
    "            }\n",
    "        },\n",
    "        {\n",
    "            \"$sort\": {\"averageRating\": -1}   # Sort by average rating descending\n",
    "        }\n",
    "    ])\n",
    "\n",
    "    print(\"Average course rating per instructor:\")\n",
    "    for item in avg_rating_per_instructor:\n",
    "        print(item)\n",
    "\n",
    "except Exception as e:\n",
    "    print(f\"Error fetching average rating per instructor: {e}\")"
   ]
  },
  {
   "cell_type": "markdown",
   "id": "8a74a38d",
   "metadata": {},
   "source": [
    "### c) Revenue Generated per Instructor"
   ]
  },
  {
   "cell_type": "code",
   "execution_count": null,
   "id": "96d43eb1",
   "metadata": {},
   "outputs": [
    {
     "name": "stdout",
     "output_type": "stream",
     "text": [
      "Revenue per instructor (sorted):\n",
      "{'_id': 'INST001', 'totalRevenue': 627.58}\n",
      "{'_id': 'INST004', 'totalRevenue': 560.24}\n",
      "{'_id': 'INST003', 'totalRevenue': 173.2}\n",
      "{'_id': 'INST005', 'totalRevenue': 45.8}\n"
     ]
    }
   ],
   "source": [
    "# Total Revenue generated per Instrictor\n",
    "try:\n",
    "    revenue_per_instructor = db.courses.aggregate([\n",
    "        {\n",
    "            \"$lookup\": {\n",
    "                \"from\": \"enrollments\",\n",
    "                \"localField\": \"courseId\",\n",
    "                \"foreignField\": \"courseId\",\n",
    "                \"as\": \"enrolled\"\n",
    "            }\n",
    "        },\n",
    "        {\n",
    "            \"$project\": {\n",
    "                \"instructorId\": 1,\n",
    "                \"revenue\": {\"$multiply\": [{\"$size\": \"$enrolled\"}, \"$price\"]}\n",
    "            }\n",
    "        },\n",
    "        {\n",
    "            \"$group\": {\n",
    "                \"_id\": \"$instructorId\",\n",
    "                \"totalRevenue\": {\"$sum\": \"$revenue\"}\n",
    "            }\n",
    "        },\n",
    "        {\n",
    "            \"$sort\": {\"totalRevenue\": -1}   \n",
    "        }\n",
    "    ])\n",
    "\n",
    "    print(\"Revenue per instructor (sorted):\")\n",
    "    for item in revenue_per_instructor:\n",
    "        print(item)\n",
    "\n",
    "except Exception as e:\n",
    "    print(f\"Error fetching revenue per instructor: {e}\")"
   ]
  },
  {
   "cell_type": "markdown",
   "id": "943d1678",
   "metadata": {},
   "source": [
    "### ADVANCED ANALTICS"
   ]
  },
  {
   "cell_type": "markdown",
   "id": "8ab5769e",
   "metadata": {},
   "source": [
    "### a) Monthly Enrollment Trends"
   ]
  },
  {
   "cell_type": "code",
   "execution_count": 21,
   "id": "b5411c99",
   "metadata": {},
   "outputs": [
    {
     "name": "stdout",
     "output_type": "stream",
     "text": [
      "Monthly enrollment trends:\n",
      "{'_id': {'year': 2024, 'month': 11}, 'totalEnrollments': 3}\n",
      "{'_id': {'year': 2024, 'month': 12}, 'totalEnrollments': 3}\n",
      "{'_id': {'year': 2025, 'month': 1}, 'totalEnrollments': 1}\n",
      "{'_id': {'year': 2025, 'month': 2}, 'totalEnrollments': 1}\n",
      "{'_id': {'year': 2025, 'month': 3}, 'totalEnrollments': 2}\n",
      "{'_id': {'year': 2025, 'month': 4}, 'totalEnrollments': 1}\n",
      "{'_id': {'year': 2025, 'month': 5}, 'totalEnrollments': 1}\n",
      "{'_id': {'year': 2025, 'month': 6}, 'totalEnrollments': 1}\n",
      "{'_id': {'year': 2025, 'month': 7}, 'totalEnrollments': 1}\n",
      "{'_id': {'year': 2025, 'month': 8}, 'totalEnrollments': 1}\n"
     ]
    }
   ],
   "source": [
    "# Calculating Monthly trends\n",
    "try:\n",
    "    monthly_trends = db.enrollments.aggregate([\n",
    "        {\n",
    "            \"$group\": {\n",
    "                \"_id\": {\"year\": {\"$year\": \"$enrolledAt\"}, \"month\": {\"$month\": \"$enrolledAt\"}},\n",
    "                \"totalEnrollments\": {\"$sum\": 1}\n",
    "            }\n",
    "        },\n",
    "        {\"$sort\": {\"_id.year\": 1, \"_id.month\": 1}}\n",
    "    ])\n",
    "    print(\"Monthly enrollment trends:\")\n",
    "    for item in monthly_trends:\n",
    "        print(item)\n",
    "except Exception as e:\n",
    "    print(f\"Error fetching monthly enrollment trends: {e}\")"
   ]
  },
  {
   "cell_type": "markdown",
   "id": "0afbb3e4",
   "metadata": {},
   "source": [
    "### b) Most Popular Course Categories"
   ]
  },
  {
   "cell_type": "code",
   "execution_count": null,
   "id": "a1000d46",
   "metadata": {},
   "outputs": [
    {
     "name": "stdout",
     "output_type": "stream",
     "text": [
      "Most popular course categories:\n",
      "{'_id': 'Data Science', 'totalEnrollments': 11}\n",
      "{'_id': 'Cloud Computing', 'totalEnrollments': 3}\n",
      "{'_id': 'Web Development', 'totalEnrollments': 2}\n"
     ]
    }
   ],
   "source": [
    "# Calculating Most Popular Categories\n",
    "try:\n",
    "    popular_categories = db.enrollments.aggregate([\n",
    "        {\n",
    "            \"$lookup\": {\n",
    "                \"from\": \"courses\",\n",
    "                \"localField\": \"courseId\",\n",
    "                \"foreignField\": \"courseId\",\n",
    "                \"as\": \"course\"\n",
    "            }\n",
    "        },\n",
    "        {\"$unwind\": \"$course\"},\n",
    "        {\n",
    "            \"$group\": {\n",
    "                \"_id\": \"$course.category\",\n",
    "                \"totalEnrollments\": {\"$sum\": 1}\n",
    "            }\n",
    "        },\n",
    "        {\"$sort\": {\"totalEnrollments\": -1}}\n",
    "    ])\n",
    "    print(\"Most popular course categories:\")\n",
    "    for item in popular_categories:\n",
    "        print(item)\n",
    "except Exception as e:\n",
    "    print(f\"Error fetching popular course categories: {e}\")"
   ]
  },
  {
   "cell_type": "markdown",
   "id": "2d4474e9",
   "metadata": {},
   "source": [
    "### c) Student Engagement Metrics"
   ]
  },
  {
   "cell_type": "code",
   "execution_count": 38,
   "id": "4b1116b3",
   "metadata": {},
   "outputs": [
    {
     "name": "stdout",
     "output_type": "stream",
     "text": [
      "Student engagement metrics:\n",
      "{'_id': 'STU002', 'totalSubmissions': 3}\n",
      "{'_id': 'STU013', 'totalSubmissions': 2}\n",
      "{'_id': 'STU007', 'totalSubmissions': 2}\n",
      "{'_id': 'STU008', 'totalSubmissions': 2}\n",
      "{'_id': 'STU010', 'totalSubmissions': 1}\n",
      "{'_id': 'STU001', 'totalSubmissions': 1}\n",
      "{'_id': 'STU006', 'totalSubmissions': 1}\n"
     ]
    }
   ],
   "source": [
    "# Student Engagement Metrics\n",
    "try:\n",
    "    engagement_metrics = db.submissions.aggregate([\n",
    "        {\n",
    "            \"$group\": {\n",
    "                \"_id\": \"$studentId\",\n",
    "                \"totalSubmissions\": {\"$sum\": 1}\n",
    "            }\n",
    "        },\n",
    "        {\"$sort\": {\"totalSubmissions\": -1}}\n",
    "    ])\n",
    "    print(\"Student engagement metrics:\")\n",
    "    for item in engagement_metrics:\n",
    "        print(item)\n",
    "except Exception as e:\n",
    "    print(f\"Error fetching student engagement metrics: {e}\")"
   ]
  },
  {
   "cell_type": "markdown",
   "id": "bfdfd876",
   "metadata": {},
   "source": []
  },
  {
   "cell_type": "code",
   "execution_count": 43,
   "id": "aac1ccd6",
   "metadata": {},
   "outputs": [
    {
     "name": "stdout",
     "output_type": "stream",
     "text": [
      "Total submissions in DB: 10\n"
     ]
    }
   ],
   "source": [
    "print(\"Total submissions in DB:\", db.assignments.count_documents({}))"
   ]
  }
 ],
 "metadata": {
  "kernelspec": {
   "display_name": "base",
   "language": "python",
   "name": "python3"
  },
  "language_info": {
   "codemirror_mode": {
    "name": "ipython",
    "version": 3
   },
   "file_extension": ".py",
   "mimetype": "text/x-python",
   "name": "python",
   "nbconvert_exporter": "python",
   "pygments_lexer": "ipython3",
   "version": "3.12.4"
  }
 },
 "nbformat": 4,
 "nbformat_minor": 5
}
