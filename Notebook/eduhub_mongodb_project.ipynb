{
 "cells": [
  {
   "cell_type": "markdown",
   "id": "a55b088f",
   "metadata": {},
   "source": [
    "# E-LEARNING PLATFORM DATABASE\n"
   ]
  },
  {
   "cell_type": "markdown",
   "id": "d65886af",
   "metadata": {},
   "source": [
    "## Creating Database \n"
   ]
  },
  {
   "cell_type": "code",
   "execution_count": 11,
   "id": "d6fd966e",
   "metadata": {},
   "outputs": [
    {
     "name": "stdout",
     "output_type": "stream",
     "text": [
      "Requirement already satisfied: Faker in /opt/anaconda3/lib/python3.12/site-packages (37.4.0)\n",
      "Requirement already satisfied: tzdata in /opt/anaconda3/lib/python3.12/site-packages (from Faker) (2023.3)\n"
     ]
    }
   ],
   "source": [
    "!pip install Faker"
   ]
  },
  {
   "cell_type": "code",
   "execution_count": null,
   "id": "36df7bae",
   "metadata": {},
   "outputs": [],
   "source": [
    "from pymongo import MongoClient\n",
    "from datetime import datetime, timedelta\n",
    "import pandas as pd\n",
    "from faker import Faker \n",
    "fake = Faker()\n",
    "import random\n",
    "import time"
   ]
  },
  {
   "cell_type": "code",
   "execution_count": 5,
   "id": "030e9a59",
   "metadata": {},
   "outputs": [
    {
     "name": "stdout",
     "output_type": "stream",
     "text": [
      "Connected to MongoDB successfully!\n",
      "Database: eduhub_db\n",
      "Collections: []\n"
     ]
    }
   ],
   "source": [
    "# Connect to MongoDB\n",
    "client = MongoClient('mongodb://localhost:27017/')\n",
    "db = client['eduhub_db']\n",
    "print(\"Connected to MongoDB successfully!\")\n",
    "print(f\"Database: {db.name}\")\n",
    "print(f\"Collections: {db.list_collection_names()}\")"
   ]
  },
  {
   "cell_type": "markdown",
   "id": "0b50c7f7",
   "metadata": {},
   "source": [
    "## Creating Collections With Validations"
   ]
  },
  {
   "cell_type": "code",
   "execution_count": 15,
   "id": "7fd32106",
   "metadata": {},
   "outputs": [
    {
     "name": "stdout",
     "output_type": "stream",
     "text": [
      "Users collection created\n",
      "Courses collection created\n",
      "Enrollments collection created\n",
      "Lessons collection created\n",
      "Assignments collection created\n",
      "Submissions collection created\n",
      "\n",
      "All collections created successfully!\n",
      "Collections: ['lessons', 'submissions', 'assignments', 'courses', 'users', 'enrollments']\n"
     ]
    }
   ],
   "source": [
    "# Droping existing collections for clean start if exists\n",
    "for collection in ['users', 'courses', 'enrollments', 'lessons', 'assignments', 'submissions']:\n",
    "    db[collection].drop()\n",
    "\n",
    "#Users Collection with Validation\n",
    "users_validator = {\n",
    "    '$jsonSchema': {\n",
    "        'bsonType': 'object',\n",
    "        'required': ['userId', 'email', 'firstName', 'lastName', 'role', 'dateJoined', 'isActive'],\n",
    "        'properties': {\n",
    "            'userId': {'bsonType': 'string'},\n",
    "            'email': {\n",
    "                'bsonType': 'string',\n",
    "                'pattern': '^[a-zA-Z0-9._%+-]+@[a-zA-Z0-9.-]+\\\\.[a-zA-Z]{2,}$'\n",
    "            },\n",
    "            'firstName': {'bsonType': 'string', 'minLength': 1},\n",
    "            'lastName': {'bsonType': 'string', 'minLength': 1},\n",
    "            'role': {'enum': ['student', 'instructor']},\n",
    "            'dateJoined': {'bsonType': 'date'},\n",
    "            'isActive': {'bsonType': 'bool'},\n",
    "            'profile': {\n",
    "                'bsonType': 'object',\n",
    "                'properties': {\n",
    "                    'bio': {'bsonType': 'string'},\n",
    "                    'avatar': {'bsonType': 'string'},\n",
    "                    'skills': {\n",
    "                        'bsonType': 'array',\n",
    "                        'items': {'bsonType': 'string'}\n",
    "                    }\n",
    "                }\n",
    "            }\n",
    "        }\n",
    "    }\n",
    "}\n",
    "\n",
    "db.create_collection('users', validator=users_validator)\n",
    "print(\"Users collection created\")\n",
    "\n",
    "# Courses Collection with Validation\n",
    "courses_validator = {\n",
    "    '$jsonSchema': {\n",
    "        'bsonType': 'object',\n",
    "        'required': [\n",
    "            'courseId', 'title', 'instructorId',\n",
    "            'level', 'isPublished', 'createdAt'\n",
    "        ],\n",
    "        'properties': {\n",
    "            '_id': {'bsonType': 'objectId'},\n",
    "            'courseId': {'bsonType': 'string'},\n",
    "            'title': {'bsonType': 'string', 'minLength': 1},\n",
    "            'description': {'bsonType': 'string'},\n",
    "            'instructorId': {'bsonType': 'string'},  # reference to users\n",
    "            'category': {'bsonType': 'string'},\n",
    "            'level': {'enum': ['beginner', 'intermediate', 'advanced']},\n",
    "            'duration': {'bsonType': 'number', 'minimum': 0},  # in hours\n",
    "            'price': {'bsonType': 'number', 'minimum': 0},\n",
    "            'tags': {\n",
    "                'bsonType': 'array',\n",
    "                'items': {'bsonType': 'string'}\n",
    "            },\n",
    "            'createdAt': {'bsonType': 'date'},\n",
    "            'updatedAt': {'bsonType': 'date'},\n",
    "            'isPublished': {'bsonType': 'bool'}\n",
    "        }\n",
    "    }\n",
    "}\n",
    "\n",
    "db.create_collection('courses', validator=courses_validator)\n",
    "print(\"Courses collection created\")\n",
    "\n",
    "\n",
    "#Enrollment Collection with Validation\n",
    "enrollments_validator = {\n",
    "    '$jsonSchema': {\n",
    "        'bsonType': 'object',\n",
    "        'required': ['enrollmentId', 'studentId', 'courseId', 'enrolledAt', 'status'],\n",
    "        'properties': {\n",
    "            '_id': {'bsonType': 'objectId'},\n",
    "            'enrollmentId': {'bsonType': 'string'},\n",
    "            'studentId': {'bsonType': 'string'},\n",
    "            'courseId': {'bsonType': 'string'},\n",
    "            'enrolledAt': {'bsonType': 'date'},\n",
    "            'status': {'enum': ['active', 'completed', 'dropped']},\n",
    "            'progress': {'bsonType': 'number', 'minimum': 0, 'maximum': 100},\n",
    "            'completedAt': {'bsonType': ['date', 'null']},\n",
    "            'lastAccessedAt': {'bsonType': 'date'}\n",
    "        }\n",
    "    }\n",
    "}\n",
    "\n",
    "db.create_collection('enrollments', validator=enrollments_validator)\n",
    "print(\"Enrollments collection created\")\n",
    "\n",
    "#Lesson Collection with Validation\n",
    "lessons_validator = {\n",
    "    '$jsonSchema': {\n",
    "        'bsonType': 'object',\n",
    "        'required': ['lessonId', 'courseId', 'title', 'content', 'order'],\n",
    "        'properties': {\n",
    "            '_id': {'bsonType': 'objectId'},\n",
    "            'lessonId': {'bsonType': 'string'},\n",
    "            'courseId': {'bsonType': 'string'},  # reference to courses\n",
    "            'title': {'bsonType': 'string', 'minLength': 1},\n",
    "            'content': {'bsonType': 'string'},\n",
    "            'order': {'bsonType': 'number', 'minimum': 1}, # lesson sequence\n",
    "            'resources': {\n",
    "                'bsonType': 'array',\n",
    "                'items': {'bsonType': 'string'}  # URLs or file links\n",
    "            },\n",
    "            'createdAt': {'bsonType': 'date'},\n",
    "            'updatedAt': {'bsonType': 'date'}\n",
    "        }\n",
    "    }\n",
    "}\n",
    "\n",
    "db.create_collection('lessons', validator=lessons_validator)\n",
    "print(\"Lessons collection created\")\n",
    "\n",
    "#Assignment Collection with Validation\n",
    "assignments_validator = {\n",
    "    '$jsonSchema': {\n",
    "        'bsonType': 'object',\n",
    "        'required': ['assignmentId', 'courseId', 'title', 'description', 'dueDate'],\n",
    "        'properties': {\n",
    "            '_id': {'bsonType': 'objectId'},\n",
    "            'assignmentId': {'bsonType': 'string'},\n",
    "            'courseId': {'bsonType': 'string'},  # reference to course\n",
    "            'title': {'bsonType': 'string', 'minLength': 1},\n",
    "            'description': {'bsonType': 'string'},\n",
    "            'dueDate': {'bsonType': 'date'},\n",
    "            'createdAt': {'bsonType': 'date'},\n",
    "            'updatedAt': {'bsonType': 'date'},\n",
    "            'maxScore': {'bsonType': 'number', 'minimum': 0}\n",
    "        }\n",
    "    }\n",
    "}\n",
    "\n",
    "db.create_collection('assignments', validator=assignments_validator)\n",
    "print(\"Assignments collection created\")\n",
    "\n",
    "#Submission Collection with Validation\n",
    "submissions_validator = {\n",
    "    '$jsonSchema': {\n",
    "        'bsonType': 'object',\n",
    "        'required': ['submissionId', 'assignmentId', 'studentId', 'submittedAt'],\n",
    "        'properties': {\n",
    "            '_id': {'bsonType': 'objectId'},\n",
    "            'submissionId': {'bsonType': 'string'},\n",
    "            'assignmentId': {'bsonType': 'string'},\n",
    "            'studentId': {'bsonType': 'string'},\n",
    "            'submittedAt': {'bsonType': 'date'},\n",
    "            'content': {'bsonType': 'string'},\n",
    "            'fileUrl': {'bsonType': 'string'},\n",
    "            'grade': {\n",
    "                'bsonType': ['number', 'null'],\n",
    "                'minimum': 0\n",
    "            },\n",
    "            'feedback': {'bsonType': 'string'},\n",
    "            'gradedAt': {'bsonType': ['date', 'null']},\n",
    "            'gradedBy': {'bsonType': 'string'},\n",
    "            'status': {\n",
    "                'enum': ['submitted', 'graded', 'returned']\n",
    "            }\n",
    "        }\n",
    "    }\n",
    "}\n",
    "\n",
    "db.create_collection('submissions', validator=submissions_validator)\n",
    "print(\"Submissions collection created\")\n",
    "\n",
    "\n",
    "print(\"\\nAll collections created successfully!\")\n",
    "print(f\"Collections: {db.list_collection_names()}\")\n"
   ]
  },
  {
   "cell_type": "markdown",
   "id": "8a97fe47",
   "metadata": {},
   "source": [
    "## Unique Indexes For Collection"
   ]
  },
  {
   "cell_type": "code",
   "execution_count": 18,
   "id": "e593eb45",
   "metadata": {},
   "outputs": [
    {
     "name": "stdout",
     "output_type": "stream",
     "text": [
      "Unique index created on users.userId\n",
      "Unique index created on users.email\n",
      "Unique index created on courses.courseId\n",
      "Unique index created on enrollments.enrollmentId\n",
      "Unique index created on lessons.lessonId\n",
      "Unique index created on assignments.assignmentId\n",
      "Unique index created on submissions.submissionId\n"
     ]
    }
   ],
   "source": [
    "# Enforce uniqueness on userId and email in users collection\n",
    "collections_indexes = {\n",
    "    \"users\": [\"userId\", \"email\"],\n",
    "    \"courses\": [\"courseId\"],\n",
    "    \"enrollments\": [\"enrollmentId\"],\n",
    "    \"lessons\": [\"lessonId\"],\n",
    "    \"assignments\": [\"assignmentId\"],\n",
    "    \"submissions\": [\"submissionId\"]\n",
    "}\n",
    "\n",
    "for collection_name, fields in collections_indexes.items():\n",
    "    if collection_name in db.list_collection_names():\n",
    "        collection = db[collection_name]\n",
    "        for field in fields:\n",
    "            try:\n",
    "                collection.create_index(field, unique=True)\n",
    "                print(f\"Unique index created on {collection_name}.{field}\")\n",
    "            except Exception as e:\n",
    "                print(f\"Could not create index on {collection_name}.{field}: {e}\")\n",
    "    else:\n",
    "        print(f\"Collection {collection_name} does not exist\")"
   ]
  },
  {
   "cell_type": "code",
   "execution_count": null,
   "id": "c35936ac",
   "metadata": {},
   "outputs": [],
   "source": []
  }
 ],
 "metadata": {
  "kernelspec": {
   "display_name": "base",
   "language": "python",
   "name": "python3"
  },
  "language_info": {
   "codemirror_mode": {
    "name": "ipython",
    "version": 3
   },
   "file_extension": ".py",
   "mimetype": "text/x-python",
   "name": "python",
   "nbconvert_exporter": "python",
   "pygments_lexer": "ipython3",
   "version": "3.12.4"
  }
 },
 "nbformat": 4,
 "nbformat_minor": 5
}
